{
 "cells": [
  {
   "cell_type": "markdown",
   "metadata": {},
   "source": [
    "# PC 3 : Intégration numérique, méthodes de quadrature"
   ]
  },
  {
   "cell_type": "markdown",
   "metadata": {},
   "source": [
    "**<big> Préparation avant la PC :</big>**\n",
    "\n",
    "**La question 1 des exercices 1 et 2 sont à préparer** avant la séance de PC du 14/09.\n",
    "\n",
    "**<big><font color=black><span style=\"background-color:deepskyblue\">Bonus</span></font> après la PC :</big>** \n",
    "\n",
    "**Les exercices 1 et 2 contiennent des questions d'implémentation (en bleu) qui peuvent être rendues avant le 18/09 à 20h pour obtenir un <font color=black><span style=\"background-color:deepskyblue\">bonus</span></font> sur la note finale**."
   ]
  },
  {
   "cell_type": "code",
   "execution_count": null,
   "metadata": {},
   "outputs": [],
   "source": [
    "# Ce package permet de travailler efficacement avec des tableaux\n",
    "import numpy as np\n",
    "\n",
    "# Ce package permet de faire des sorties graphiques\n",
    "from matplotlib import pyplot as plt\n",
    "\n",
    "# La fonction scipy.integrate.quad donne une approximation d'une integrale par une formule de quadrature\n",
    "# on l'utilise ici comme une boite noire\n",
    "from scipy.integrate import quad\n",
    "# La fonction p_roots permet de calculer les points et poids de la quadrature de Gauss-Legendre\n",
    "from scipy.special.orthogonal import p_roots\n",
    "# La fonction scipy.special.sici est utilisee a l'exercice 1\n",
    "from scipy.special import sici"
   ]
  },
  {
   "cell_type": "markdown",
   "metadata": {},
   "source": [
    "---"
   ]
  },
  {
   "cell_type": "markdown",
   "metadata": {},
   "source": [
    "## Exercice 1 : Autour de la méthode des trapèzes"
   ]
  },
  {
   "cell_type": "markdown",
   "metadata": {},
   "source": [
    ">Dans cet exercice, on considère une fonction continue $f:[a,b]\\to\\mathbb{R}$, et on note $\\left\\Vert f\\right\\Vert_{\\infty}=\\max\\limits_{x\\in[a,b]}\\left\\vert f(x)\\right\\vert$. Étant donné un entier $n$ strictement positif, on note $a=a_0<a_1<\\ldots<a_n=b$ la subdivision régulière de l'intervalle $[a,b]$ donnée par\n",
    ">\n",
    ">$$ a_k = a + k\\frac{b-a}{n} \\qquad{} \\forall~k\\in\\{0,\\ldots,n\\}, $$\n",
    ">\n",
    ">et $I_n(f)$ l'intégrale approchée de $f$ entre $a$ et $b$ calculée à l'aide de la méthode des trapèzes :\n",
    ">\n",
    ">$$ I_n(f) = \\frac{b-a}{n}\\left(\\sum_{k=0}^n f(a_k)-\\frac{f(a)+f(b)}{2}\\right).$$"
   ]
  },
  {
   "cell_type": "markdown",
   "metadata": {},
   "source": [
    "### Question 1 : Première estimation d'erreur.  \n",
    "\n",
    "On suppose dans cette question que $f$ est de classe $\\mathcal{C}^2$.\n",
    "\n",
    "1) Soient $x,y\\in[a,b]$, $x<y$. Montrer que \n",
    "\n",
    "$$ \\left\\vert \\int_x^y f(t) dt - (y-x)\\frac{f(x)+f(y)}{2}\\right\\vert \\leq \\frac{(y-x)^3}{12} \\left\\Vert f'' \\right\\Vert_\\infty. $$\n",
    "\n",
    "*Indication :* On pourra utiliser une estimation d'erreur entre $f$ et son polynôme d'interpolation de Lagrange."
   ]
  },
  {
   "cell_type": "markdown",
   "metadata": {},
   "source": [
    "2) En déduire que \n",
    "\n",
    "$$ \\left\\vert \\int_a^b f(t) dt - I_n(f) \\right\\vert \\leq \\frac{(b-a)^3}{12 n^2} \\left\\Vert f'' \\right\\Vert_\\infty. $$"
   ]
  },
  {
   "cell_type": "markdown",
   "metadata": {},
   "source": [
    "3) **<font color=black><span style=\"background-color:deepskyblue\">Bonus : </span></font>**\n",
    "\n",
    "a) Implémenter la méthode des trapèzes :\n",
    "- Construire une fonction qui renvoie $I_n(f)$.\n",
    "- *Vérifier que votre algorithme renvoie bien la valeur escomptée en intégrant $f(x)=x$ sur $[0,1]$ pour $n=2,3,4$.* \n",
    "\n",
    "b) Tester la convergence de la méthode avec la fonction $u : t \\mapsto t^3 \\ln t$ sur $[1,2]$ : \n",
    "- Utiliser ensuite votre algorithme pour calculer de manière approchée l'intégrale de $u : t \\mapsto t^3 \\ln t$ entre $1$ et $2$. Comparer avec la valeur donnée par la fonction *quad* de *scipy* (https://docs.scipy.org/doc/scipy/reference/generated/scipy.integrate.quad.html).\n",
    "- Tracer en échelle log-log sur le même graphe $\\left|\\int_a^b f - I_n(f)\\right|$ (où $\\int_a^b f$ est approché avec *quad* de *scipy*) et $1/n^2$ en fonction de $n$, pour $n = 2, 2^2, ..., 2^{16}$."
   ]
  },
  {
   "cell_type": "code",
   "execution_count": null,
   "metadata": {},
   "outputs": [],
   "source": [
    "def my_trapeze(f, a, b, n):\n",
    "    \"\"\"\n",
    "    calcule l'approximation de l'integrale de f par la méthode des trapezes\n",
    "    ----------   \n",
    "    parametre:\n",
    "    a, b : bornes d'integration\n",
    "    n    : nombre de points dans la methode d'integration\n",
    "    \n",
    "    valeur de retour:\n",
    "    valeur approchee de l'integrale\n",
    "    \"\"\"\n",
    "    return "
   ]
  },
  {
   "cell_type": "code",
   "execution_count": null,
   "metadata": {},
   "outputs": [],
   "source": [
    "def u(x):\n",
    "    \"\"\"\n",
    "    calcule la valeur de u(x)\n",
    "    ----------   \n",
    "    parametre:\n",
    "    x : point ou on evalue u\n",
    "    \n",
    "    valeur de retour:\n",
    "    valeur de u(x)\n",
    "    \"\"\"\n",
    "    return (x**3)*np.log(x)"
   ]
  },
  {
   "cell_type": "code",
   "execution_count": null,
   "metadata": {
    "scrolled": true
   },
   "outputs": [],
   "source": [
    "# Calcul avec scipy.quad\n",
    "I_u = \n",
    "print(f\"Valeur de l'intégrale obtenue par quad de scipy de u entre {1} et {2} : {I_u}\")"
   ]
  },
  {
   "cell_type": "code",
   "execution_count": null,
   "metadata": {},
   "outputs": [],
   "source": [
    "# creation de la liste des nombres de points de quadrature \n",
    "N      = 16\n",
    "list_n = 2**np.arange(1, N+1, dtype='int64')\n",
    "\n",
    "\n",
    "# Calculer Err_u la liste des erreurs avec la formule des trapèzes\n",
    "Err_u = np.zeros(len(list_n))\n",
    "\n",
    "\n",
    "\n",
    "# creation d'une figure\n",
    "fig_u = plt.figure(figsize = (16,6))\n",
    "\n",
    "# trace la figure\n",
    "plt.loglog(list_n, Err_u, marker='*', label=\"Erreur expérimentale\")\n",
    "plt.loglog(list_n, 1/(list_n**2), label=\"1/N^2\")\n",
    "\n",
    "# nom de l'axe des abscisses\n",
    "plt.xlabel('Nb. de points', fontsize = 15)\n",
    "# nom de l'axe des ordonnees\n",
    "plt.ylabel('Erreur', fontsize = 15)\n",
    "# taille des légendes\n",
    "plt.legend(fontsize = 15)\n",
    "# trace une grille reguliere sur la figure\n",
    "plt.grid()\n",
    "# montre a l'ecran cette figure\n",
    "plt.show(fig_u)"
   ]
  },
  {
   "cell_type": "markdown",
   "metadata": {},
   "source": [
    "### Question 2 : Utilisation de la formule d'Euler-Maclaurin :\n",
    "\n",
    ">Si $f$ est de classe $\\mathcal{C}^{2k+2}$, $k\\in\\mathbb{N}$, la formule d'Euler-Maclaurin nous donne une estimation plus précise:\n",
    ">\n",
    ">$$ \\int_x^y f(t) dt = (y-x)\\frac{f(x)+f(y)}{2} + \\sum_{j=1}^k (y-x)^{2j} \\frac{b_{2j}}{(2j)!} \\left(f^{(2j-1)}(x)-f^{(2j-1)}(y)\\right) \\quad{}-(y-x)^{2k+3}\\frac{b_{2k+2}}{(2k+2)!} f^{(2k+2)}(\\xi),$$\n",
    ">\n",
    ">où $b_{2j}$ sont les nombres de Bernoulli. On a notamment $b_2=\\frac{1}{6}$, $b_4=\\frac{-1}{30}$ et $b_6=\\frac{1}{42}$."
   ]
  },
  {
   "cell_type": "markdown",
   "metadata": {},
   "source": [
    "1) En supposant $f$ de classe $\\mathcal{C}^6$, montrer qu'on a\n",
    "\n",
    "$$ I_n(f) = \\int_a^b f(t) dt - \\frac{(b-a)^2}{12 n^2} \\left(f'(a)-f'(b) \\right) + \\frac{(b-a)^4}{720 n^4} \\left(f^{(3)}(a)-f^{(3)}(b) \\right) + O\\left(\\frac{1}{n^6}\\right). $$"
   ]
  },
  {
   "cell_type": "markdown",
   "metadata": {},
   "source": [
    "2) **<font color=black><span style=\"background-color:deepskyblue\">Bonus : </span></font>**\n",
    "\n",
    "- Appliquer la méthode des trapèzes pour approcher l'intégrale de $v : t\\mapsto t^3\\ln t - \\frac{3+12\\ln 2}{2}(t-1)^2$ entre $1$ et $2$.\n",
    "- Comme à la question 1, étudier la convergence de $I_n$. Commenter. "
   ]
  },
  {
   "cell_type": "code",
   "execution_count": null,
   "metadata": {},
   "outputs": [],
   "source": [
    "def v(x):\n",
    "    \"\"\"\n",
    "    calcule la valeur de v(x)\n",
    "    ----------   \n",
    "    parametre:\n",
    "    x : point ou on evalue v\n",
    "    \n",
    "    valeur de retour:\n",
    "    valeur de v(x)\n",
    "    \"\"\"\n",
    "    return x**3*np.log(x)-(3+12*np.log(2))/2*(x-1)**2"
   ]
  },
  {
   "cell_type": "code",
   "execution_count": null,
   "metadata": {},
   "outputs": [],
   "source": [
    "I_v = \n",
    "print(f\"Valeur de l'intégrale obtenue par quad de scipy de v entre {1} et {2} : {I_v}\")"
   ]
  },
  {
   "cell_type": "code",
   "execution_count": null,
   "metadata": {},
   "outputs": [],
   "source": [
    "# creation de la grille et calcul des valeurs \n",
    "N      = 16\n",
    "list_n = 2**np.arange(1, N+1, dtype='int64')\n",
    "\n",
    "\n",
    "# Calculer Err_u la liste des erreurs avec la formule des trapèzes\n",
    "Err_v = np.zeros(len(list_n))\n",
    "\n",
    "\n",
    "\n",
    "# creation d'une figure\n",
    "fig_v = plt.figure(figsize = (16,6))\n",
    "\n",
    "#trace la figure\n",
    "plt.loglog(list_n, Err_v, marker='*', label=\"Erreur expérimentale\")\n",
    "plt.loglog(list_n, 1/(1.*list_n)**2, label=\"1/N^2\")\n",
    "plt.loglog(list_n, 1/(1.*list_n)**4, label=\"1/N^4\")\n",
    "\n",
    "# nom de l'axe des abscisses\n",
    "plt.xlabel('Nb. de points', fontsize = 15)\n",
    "# nom de l'axe des ordonnees\n",
    "plt.ylabel('Erreur', fontsize = 15)\n",
    "# taille des légendes\n",
    "plt.legend(fontsize = 15)\n",
    "# trace une grille reguliere sur la figure\n",
    "plt.grid()\n",
    "# montre a l'ecran cette figure\n",
    "plt.show(fig_v)"
   ]
  },
  {
   "cell_type": "markdown",
   "metadata": {},
   "source": [
    "**Réponse :** "
   ]
  },
  {
   "cell_type": "markdown",
   "metadata": {},
   "source": [
    "### Question 3 : Accélération de convergence, extrapolation de Richardson :\n",
    "\n",
    ">On suppose dans cette question que $n$ est une puissance de $2$, et que $f$ est de classe $\\mathcal{C}^6$.\n",
    "\n",
    "1) a) Trouver des coefficients $\\alpha^{(1)}$ et $\\beta^{(1)}$ tels que\n",
    "\n",
    "$$ R^{(1)}_n(f) := \\frac{\\alpha^{(1)} I_n(f) - I_{\\frac{n}{2}}(f)}{\\beta^{(1)}} $$\n",
    "\n",
    "vérifie \n",
    "\n",
    "$$ \\left\\vert \\int_a^b f(t) dt - R^{(1)}_n(f) \\right\\vert = O\\left(\\frac{1}{n^4}\\right). $$\n",
    "\n",
    "b) Trouver ensuite des coefficients $\\alpha^{(2)}$ et $\\beta^{(2)}$ tels que\n",
    "\n",
    "$$ R^{(2)}_n(f) := \\frac{\\alpha^{(2)} R^{(1)}_n(f) - R^{(1)}_{\\frac{n}{2}}(f)}{\\beta^{(2)}} $$\n",
    "\n",
    "vérifie\n",
    "\n",
    "$$ \\left\\vert \\int_a^b f(t) dt - R^{(2)}_n(f) \\right\\vert = O\\left(\\frac{1}{n^6}\\right). $$"
   ]
  },
  {
   "cell_type": "markdown",
   "metadata": {},
   "source": [
    "2) **<font color=black><span style=\"background-color:deepskyblue\">Bonus :</span></font>**\n",
    "- Calculer $R^{(1)}_n$ et $R^{(2)}_n$ pour l'exemple de la fonction $u$ de la question 1. 2).\n",
    "- Étudier la vitesse de convergence. Commenter."
   ]
  },
  {
   "cell_type": "code",
   "execution_count": null,
   "metadata": {},
   "outputs": [],
   "source": [
    "# creation de la grille et calcul des valeurs \n",
    "N      = 16\n",
    "list_n = 2**np.arange(1, N+1, dtype='int64')\n",
    "\n",
    "\n",
    "# Calculer Err_R1_n et Err_R2_n les listes des erreurs avec les méthodes de Richardson\n",
    "Err_R1_n = np.zeros(len(list_n))\n",
    "Err_R2_n = np.zeros(len(list_n))\n",
    "\n",
    "\n",
    "\n",
    "# creation d'une figure\n",
    "fig_err = plt.figure(figsize = (16,6))\n",
    "\n",
    "# trace la figure \n",
    "plt.loglog(list_n, 1/(1.*list_n)**4)\n",
    "plt.loglog(list_n, 1/(1.*list_n)**6)\n",
    "plt.scatter(list_n[1:], err_R1_n)\n",
    "plt.scatter(list_n[2:], err_R2_n)\n",
    "\n",
    "# nom de l'axe des abscisses\n",
    "plt.xlabel('Nb. de points')\n",
    "# nom de l'axe des ordonnees\n",
    "plt.ylabel('Erreur')\n",
    "# legende\n",
    "plt.legend([\"1/N^4\",\"1/N^6\",\"Richardson 1x\",\"Richardson 2x\"])\n",
    "# trace une grille reguliere sur la figure\n",
    "plt.grid()\n",
    "# montre a l'ecran cette figure\n",
    "plt.show(fig_err)"
   ]
  },
  {
   "cell_type": "markdown",
   "metadata": {},
   "source": [
    ">**Remarque :** pour n = 256, n = 512 et n = 1024, l'erreur obtenue pour R2_n est exactement le zéro machine, ce qui explique l'absence de points sur le graphe en échelle log."
   ]
  },
  {
   "cell_type": "markdown",
   "metadata": {},
   "source": [
    "**Réponse :** "
   ]
  },
  {
   "cell_type": "markdown",
   "metadata": {},
   "source": [
    "### Question 4 : Méthode de Romberg :\n",
    "\n",
    "On considère à nouveau la fonction $u$ de la question 1. 2). Obtenir une approximation de l'intégrale la plus précise possible **en évaluant $f$ au maximum 65 fois.** \n",
    "\n",
    "*Indication : On pourra itérer le processus d'accélération décrit à la question précédente.*"
   ]
  },
  {
   "cell_type": "markdown",
   "metadata": {},
   "source": [
    "**Réponse :** "
   ]
  },
  {
   "cell_type": "code",
   "execution_count": null,
   "metadata": {},
   "outputs": [],
   "source": [
    "# creation de la grille et calcul des valeurs \n",
    "N      = 4\n",
    "list_n = 2**np.arange(1, N+1, dtype='int64')\n",
    "\n",
    "\n",
    "# Calculer l'erreur en faisant au plus 65 évaluation de f\n",
    "\n",
    "\n",
    "print(\"Solution :\", R[-1,0], \"Erreur :\", )"
   ]
  },
  {
   "cell_type": "markdown",
   "metadata": {},
   "source": [
    "---"
   ]
  },
  {
   "cell_type": "markdown",
   "metadata": {},
   "source": [
    "## Exercice 2 : Polynômes orthogonaux et formules de Gauss\n",
    ">Soit une fonction poids $w \\in C^0(]-1,1[)$ positive et telle que\n",
    ">\n",
    ">$$ \\int_{-1}^1 \\vert x^n\\vert w(x)\\, dx < \\infty \\quad{} \\forall~n\\in\\mathbb{N}. $$\n",
    ">\n",
    ">On définit le produit scalaire sur $C^0([-1,1])$ et la norme associée \n",
    ">\n",
    ">$$ \\left<f,\\ g\\right>_w = \\int_{-1}^{1} g(x) f(x) w(x) \\, dx, \\qquad{} \\left\\| f \\right\\|_w = \\sqrt{\\left<f, \\ f\\right>_w}. $$"
   ]
  },
  {
   "cell_type": "markdown",
   "metadata": {},
   "source": [
    "### Question 1 : Construction des polynômes orthogonaux :\n",
    "\n",
    "1) a) Montrer que pour toute fonction poids $w$, il existe une suite $(p_n)_{n\\in\\mathbb{N}}$ de polynômes orthogonaux \n",
    "\n",
    "$$ \\left<p_n, p_{n'} \\right>_w = \\alpha_n \\delta_{n,n'}, \\qquad deg(p_n) = n.$$\n",
    "\n",
    "b) Montrer que si on choisit les $p_n$ normalisés, c'est-à-dire tels que $\\alpha_n = 1$, alors cette suite est unique au signe près.\n",
    "\n",
    "2) Montrer que les polynômes de Legendre $L_n$ et de Tchebychef $T_n$ définis respectivement par\n",
    " \n",
    "$$L_n(x) = \\frac{1}{2^{n} n!}\\frac{d^n}{dx^n}\\left[(x^2-1)^n \\right], \\quad{} T_n(x) = \\cos(n\\arccos(x)) $$\n",
    "\n",
    "sont orthogonaux pour les poids $w_L(x) = 1$ et $w_T(x) = \\frac{1}{\\sqrt{1-x^2}}$."
   ]
  },
  {
   "cell_type": "markdown",
   "metadata": {},
   "source": [
    "### Question 2 : Quadrature de Gauss-Legendre :\n",
    "\n",
    ">Pour une famille $(p_n)_{n\\in\\mathbb{N}}$ de polynômes orthogonaux, les formules de quadrature de Gauss sont données par \n",
    ">\n",
    ">$$ Q(f) = \\sum\\limits_{i=0}^N w_i f(x_i) $$\n",
    ">\n",
    "> où les $x_i$ sont les racines de $p_n$. Les poids $w_i$ sont calculés afin que la méthode soit d'ordre le plus élevé possible, c'est-à-dire afin que la méthode soit exacte pour tout polynôme de degrés $N$ avec $N$ le plus grand possible. On peut montrer que le choix de ces points est optimal en terme d'ordre pour le calcul des intégrales $\\left<f,1\\right>_w$ pour une fonction poids $w$ donnée. "
   ]
  },
  {
   "cell_type": "markdown",
   "metadata": {},
   "source": [
    "1) Calculer les points d'interpolation de Legendre $(x_i)_{i=1,\\dots,N}$ pour $N=2$ et $N=3$, c'est-à-dire les racines de $L_2$ et de $L_3$.   \n",
    "\n",
    "2) Calculer les poids $w_i$ associés pour ces deux familles de points.\n",
    "\n",
    "3) **<font color=black><span style=\"background-color:deepskyblue\">Bonus : </span></font>**\n",
    "\n",
    "Implémenter une fonction qui prend en entrée une fonction $f$ et renvoie l'approximation de son intégrale sur $[-1,+1]$ par la quadrature de Gauss-Legendre à 2 points.\n",
    "De même pour la formule à 3 points. \n",
    "Tester ces deux fonctions avec les polynômes $x\\mapsto x^i$ et en déduire l'ordre de ces formules.\n",
    "\n",
    ">**Remarque :** Ce résultat sur l'ordre de la quadrature de Gauss-Legendre se généralise avec les autres familles de polynômes orthogonaux comme ci-après."
   ]
  },
  {
   "cell_type": "code",
   "execution_count": null,
   "metadata": {},
   "outputs": [],
   "source": [
    "def quad_Legendre2(y1, y2):\n",
    "    \"\"\"\n",
    "    calcule la valeur approchée d'une integrale sur [-1,1] \n",
    "    à deux points de quadrature aux points de Legendre \n",
    "    ----------   \n",
    "    parametres :\n",
    "    y1, y2 : valeurs de la fonction à intégrer aux points de Legendre\n",
    "    \n",
    "    valeur de retour :\n",
    "    valeur approchée de l'intégrale\n",
    "    \"\"\"\n",
    "    return "
   ]
  },
  {
   "cell_type": "code",
   "execution_count": null,
   "metadata": {},
   "outputs": [],
   "source": [
    "def quad_Legendre3(y1, y2, y3):\n",
    "    \"\"\"\n",
    "    calcule la valeur approchée d'une integrale sur [-1,1] \n",
    "    à trois points de quadrature aux points de Legendre \n",
    "    ----------   \n",
    "    parametres :\n",
    "    y1, y2, y3 : valeurs de la fonction à intégrer aux points de Legendre\n",
    "    \n",
    "    valeur de retour :\n",
    "    valeur approchée de l'intégrale\n",
    "    \"\"\"\n",
    "    return "
   ]
  },
  {
   "cell_type": "code",
   "execution_count": null,
   "metadata": {},
   "outputs": [],
   "source": [
    "# Tester vos fonctions sur des polynômes jusqu'au degrès 6\n",
    "\n",
    "print('Integrales de p(x) = 1 vaut \",   ,\" approchée par Gauss-Legendre à 2 points :',    , \"et 3 points :\", ) "
   ]
  },
  {
   "cell_type": "markdown",
   "metadata": {},
   "source": [
    "### Question 3 : Formule composite\n",
    "\n",
    "On va maintenant décomposer l'intervale d'intégration en $N$ sous-intervales et utiliser la méthode de Gauss-Legendre sur chaque. "
   ]
  },
  {
   "cell_type": "markdown",
   "metadata": {},
   "source": [
    "1) **<font color=black><span style=\"background-color:deepskyblue\">Bonus : </span></font>**\n",
    "\n",
    "a) Construire une fonction qui découpe un intervalle $[a,b]$ en $N$ sous-intervalles et renvoie les deux points de Legendre sur chaque sous-intervalle comme indiqué :"
   ]
  },
  {
   "cell_type": "code",
   "execution_count": null,
   "metadata": {},
   "outputs": [],
   "source": [
    "def cut_interval_Legendre2(a, b, N):\n",
    "    \"\"\"\n",
    "    découpe un intervalle en N sous-intervalle et renvoie les points de Legendre sur chaque sous-intervalle\n",
    "    ----------   \n",
    "    parametres :\n",
    "    a, b : bornes de l'intervalle\n",
    "    N    : nombre de sous-intervalles\n",
    "    \n",
    "    valeur de retour :\n",
    "    x_L2 : matrice contenant les points de Legendre dans chaque sous-intervalle\n",
    "    \n",
    "    exemple : x_L2[i,j] est le j-eme point de Legendre du i-eme sous-intervalle\n",
    "    \"\"\"\n",
    "    \n",
    "    return "
   ]
  },
  {
   "cell_type": "code",
   "execution_count": null,
   "metadata": {},
   "outputs": [],
   "source": [
    "# tester votre fonction sur [1,2] avec 1, 2 puis 10 sous-intervales\n",
    "print(\"[-1,1] 2 pts :\", cut_interval_Legendre2(-1, 1, 2))\n",
    "print(\"indication   : 1/sqrt(3) = \",1/np.sqrt(3),\"\\n\")\n",
    "print()\n",
    "print(\"[1,2] 2 pts  :\", cut_interval_Legendre2( 1, 2, 2),\"\\n\")\n",
    "print(\"[1,2] 3 pts  :\",cut_interval_Legendre2( 1, 2, 3),\"\\n\")\n",
    "print(\"[1,2] 10 pts :\",cut_interval_Legendre2( 1, 2, 10))"
   ]
  },
  {
   "cell_type": "markdown",
   "metadata": {},
   "source": [
    "b) Construire une fonction qui calcule la valeur approchée d'une intégrale sur $[a,b]$ en utilisant les quadratures de Gauss-Legendre à 2 points sur $N$ sous intervalles de $[a,b]$."
   ]
  },
  {
   "cell_type": "code",
   "execution_count": null,
   "metadata": {},
   "outputs": [],
   "source": [
    "def quad_N_Legendre2(x_L2, y_L2, a, b):\n",
    "    \"\"\"\n",
    "    calcule la valeur approchée d'une integrale sur [a,b] \n",
    "    en utilisant une quadrature de Gauss-Legendre à 2 points sur N sous-intervalles\n",
    "    ----------   \n",
    "    parametres :\n",
    "    x_L2 : matrice contenant les points de Legendre dans chaque sous-intervalle\n",
    "    y_L2 : matrice contenant la valeur de la fonction à intégrer aux abscisses x_L2\n",
    "    a, b : bornes de l'intervale d'intégration\n",
    "    \n",
    "    valeur de retour :\n",
    "    valeur approchée de l'intégrale\n",
    "    \"\"\"\n",
    "    \n",
    "    return "
   ]
  },
  {
   "cell_type": "code",
   "execution_count": null,
   "metadata": {},
   "outputs": [],
   "source": [
    "# Tester votre fonctions sur des polynômes jusqu'au degrès 6\n",
    "\n",
    "print('Integrales de p(x) = 1 vaut \",   ,\" approchée par Gauss-Legendre à 2 points sur ', n,\" sous-intervales :\", ) "
   ]
  },
  {
   "cell_type": "markdown",
   "metadata": {},
   "source": [
    "c) Tester cette méthodes de quadrature pour le calcul de l'intégrale $\\int_1^2 t^3 \\log(t) dt$ définie à l'exercice 2, question 1, 3) avec $N=2, 4$ et $2^5$ sous-intervalles. Tracer la courbe de convergence en fonction du nombre $N$ de sous-intervalles."
   ]
  },
  {
   "cell_type": "code",
   "execution_count": null,
   "metadata": {},
   "outputs": [],
   "source": [
    "# tester votre fonction avec la fonction\n"
   ]
  },
  {
   "cell_type": "code",
   "execution_count": null,
   "metadata": {
    "scrolled": true
   },
   "outputs": [],
   "source": [
    "# tracer la courbe de convergence en fonction de N en échelle log\n",
    "Err_q = np.zeros(N)\n",
    "\n",
    "\n",
    "plt.figure()\n",
    "plt.plot(Err_q, marker=\"*\",label=\"Erreur\")\n",
    "plt.yscale(\"log\")\n",
    "plt.xlabel(\"n\")\n",
    "plt.ylabel(\"Erreur\")\n",
    "plt.show()"
   ]
  },
  {
   "cell_type": "markdown",
   "metadata": {},
   "source": [
    "### Question 4 : Formule de Gauss-Tchebychev\n",
    "\n",
    "1) Comme à la question 2, calculer les points et les poids de quadrature pour Gauss-Tchebychev. \n",
    "\n",
    "2) De même, implémenter une fonction qui prend en entrée une fonction $f$ et renvoie l'approximation de son intégrale sur $[-1,+1]$ par la quadrature de Gauss-Tchebychev à 2 points puis à 3 points. \n",
    "Tester ces deux fonctions avec les polynômes $x\\mapsto x^i$ et en déduire l'ordre de ces formules.\n",
    "\n",
    "3) Quels sont les points communs et les différences avec la méthode de Clenshaw-Curtis?"
   ]
  },
  {
   "cell_type": "code",
   "execution_count": null,
   "metadata": {},
   "outputs": [],
   "source": [
    "### 2.\n",
    "def quad_Cheb2(y1, y2):\n",
    "    \"\"\"\n",
    "    calcule la valeur approchée d'une integrale sur [-1,1] \n",
    "    à deux points de quadrature aux points de Tchebychev \n",
    "    ----------   \n",
    "    parametres :\n",
    "    y1, y2 : valeurs de la fonction à intégrer aux points de Tchebychev\n",
    "    \n",
    "    valeur de retour :\n",
    "    valeur approchée de l'intégrale\n",
    "    \"\"\"\n",
    "    return "
   ]
  },
  {
   "cell_type": "code",
   "execution_count": null,
   "metadata": {},
   "outputs": [],
   "source": [
    "def quad_Cheb3(y1, y2, y3):\n",
    "    \"\"\"\n",
    "    calcule la valeur approchée d'une integrale sur [-1,1] \n",
    "    à trois points de quadrature aux points de Tchebychev \n",
    "    ----------   \n",
    "    parametres :\n",
    "    y1, y2, y3 : valeurs de la fonction à intégrer aux points de Tchebychev\n",
    "    \n",
    "    valeur de retour :\n",
    "    valeur approchée de l'intégrale\n",
    "    \"\"\"\n",
    "    return "
   ]
  },
  {
   "cell_type": "code",
   "execution_count": null,
   "metadata": {},
   "outputs": [],
   "source": [
    "# Tester votre fonctions sur des polynômes jusqu'au degrès 6\n",
    "\n",
    "print('Integrales de p(x) = 1 vaut \",   ,\" approchée par Gauss-Tchebychev à 2 points :', ,\" et à 3 points :\", ) "
   ]
  },
  {
   "cell_type": "markdown",
   "metadata": {},
   "source": [
    "---"
   ]
  },
  {
   "cell_type": "markdown",
   "metadata": {},
   "source": [
    "## Exercice 3 : Comparaison de méthodes\n",
    "\n",
    "On va chercher à comparer numériquement les taux de convergence de plusieurs formules de quadrature en fonction du nombre de degrés de liberté et sur plusieurs fonction. On pourra consulter [1] pour plus d'explications sur la convergence en pratique des méthodes de Clenshaw-Curtis et de Gauss-Legendre et les éventuelles différences avec les estimations théoriques. "
   ]
  },
  {
   "cell_type": "markdown",
   "metadata": {},
   "source": [
    "### Question 1 : \n",
    "\n",
    "1) Calculer analytiquement les intégrales des fonctions suivantes sur $[-1,1]$ \n",
    "\n",
    "$$ f(x) = \\cos\\left(\\pi x\\right), \\qquad g(x) = x^{15}, \\qquad h(x) = \\frac{1}{1+16 x^2}, \\quad i(x) = |x|^3.$$\n",
    "\n",
    "2) Rappeler et comparer les estimations d'erreurs théoriques du cours ou de la PC (plus haut) sur l'approximation d'une intégrale par les méthodes  \n",
    "- de Gauss-Legendre en fonction du nombre $n$ de points de quadrature\n",
    "- de Clenshaw-Curtis en fonction du nombre $n$ de points de quadrature\n",
    "- des trapèzes en fonction du nombre $n$ de points de quadrature (ou $n-1$ est également le nombre de sous-intervales)."
   ]
  },
  {
   "cell_type": "markdown",
   "metadata": {},
   "source": [
    "---\n",
    "Une implémentation des méthodes de Gauss-Legendre et de Clenshaw-Curtis à $n$ points est proposé dans les cellules suivantes. "
   ]
  },
  {
   "cell_type": "code",
   "execution_count": null,
   "metadata": {},
   "outputs": [],
   "source": [
    "def GL(f, a, b, n):\n",
    "    \"\"\"\n",
    "    calcule la valeur approchée d'une integrale sur [a,b] \n",
    "    en utilisant une quadrature de Gauss-Legendre à n points\n",
    "    ----------   \n",
    "    parametres :\n",
    "    f    : fonction dont on cherche l'intégrale\n",
    "    a, b : bornes de l'intervale d'intégration\n",
    "    n    : nombre de points de quadrature\n",
    "    \n",
    "    valeur de retour :\n",
    "    valeur approchée de l'intégrale\n",
    "    \"\"\"\n",
    "    x, w = p_roots(n+1)\n",
    "    return np.sum(w * f( x*(b-a)/2+(b+a)/2 ) ) * (b-a)/2"
   ]
  },
  {
   "cell_type": "code",
   "execution_count": null,
   "metadata": {},
   "outputs": [],
   "source": [
    "def CC(f, a, b, n):\n",
    "    \"\"\"\n",
    "    calcule la valeur approchée d'une integrale sur [a,b] \n",
    "    en utilisant une quadrature de Clenshaw-Curtis à n points\n",
    "    ----------   \n",
    "    parametres :\n",
    "    f    : fonction dont on cherche l'intégrale\n",
    "    a, b : bornes de l'intervale d'intégration\n",
    "    n    : nombre de points de quadrature\n",
    "    \n",
    "    valeur de retour :\n",
    "    valeur approchée de l'intégrale\n",
    "    \"\"\"\n",
    "    if ( n == 1 ):\n",
    "        return f((a+b)/2)*(b-a)\n",
    "    else:\n",
    "        theta = (2*np.linspace(0,n-1,n)+1)/(2*n)*np.pi\n",
    "        x     = np.cos(theta)\n",
    "               \n",
    "        w = np.ones(n)\n",
    "        for k in range(1,n):\n",
    "            if(k%2==0):\n",
    "                w += 2.*np.cos(k*theta)/(1.-k**2)\n",
    "        w *= 2./n   \n",
    "        \n",
    "        return np.sum(w * f( x*(b-a)/2+(b+a)/2 ) ) * (b-a)/2 "
   ]
  },
  {
   "cell_type": "code",
   "execution_count": null,
   "metadata": {},
   "outputs": [],
   "source": [
    "# Exemple d'utilisation des fonction CC et GL\n",
    "a, b = -1, 1\n",
    "n    = 10\n",
    "I_CC = CC(np.exp,a,b,n)\n",
    "I_GL = GL(np.exp,a,b,n)\n",
    "\n",
    "print(\"Quadrature de Clenshaw-Curtis de exp sur [\",a,b,\"] à \",n,\"points :\", I_CC)\n",
    "print(\"Quadrature de Gauss-Legendre  de exp sur [\",a,b,\"] à \",n,\"points :\", I_GL)"
   ]
  },
  {
   "cell_type": "markdown",
   "metadata": {},
   "source": [
    "### Question 2 : Comparaison entre Gauss-Legendre et méthodes composites \n",
    "\n",
    "1) Calculer l'erreur $e^n$ entre les intégrales exactes calculées à la question précédente et leurs approximation par la formule des trapèzes de l'exercice précédent pour un nombre de points de quadrature $n = 2^i$, $i$ allant de 1 à 8.  \n",
    "\n",
    "2) Calculer l'erreur $e^n$ entre les intégrales exactes calculées à la question précédente et leurs approximation par la formule de Gauss-Legendre composite à 2 et 3 points par sous-intervale, pour un nombre de points de quadrature $n = 2^i$, $i$ allant de 1 à 8. \n",
    "\n",
    "3) Calculer l'erreur $e^n$ entre les intégrales exactes calculées à la question précédente et leurs approximation par la formule de Gauss-Legendre proposée pour un nombre de points de quadrature $n = 2^i$, $i$ allant de 1 à 8.  \n",
    "\n",
    "4) Tracer sur le même graphe ces trois erreurs en fonction de $n$ et comparer numériquement la convergence de ces trois méthodes. Les estimations théoriques sur l'erreur en fonction de $n$ sont-elles précises pour ces fonctions?"
   ]
  },
  {
   "cell_type": "code",
   "execution_count": null,
   "metadata": {},
   "outputs": [],
   "source": [
    "# fonctions dont on cherche l'intégrale\n",
    "def f(x):\n",
    "    return np.cos(np.pi*x)\n",
    "\n",
    "def g(x):\n",
    "    return x**20\n",
    "\n",
    "def h(x):\n",
    "    return 1/(1+16*x**2)\n",
    "\n",
    "def i(x):\n",
    "    return np.abs(x)**3"
   ]
  },
  {
   "cell_type": "code",
   "execution_count": null,
   "metadata": {},
   "outputs": [],
   "source": [
    "# creation de la grille et calcul des valeurs \n",
    "N      = 7\n",
    "list_n = 2**np.arange(1, N+1, dtype='int64')\n",
    "\n",
    "\n",
    "# Calculer Err_Tr, Err_CC_f, Err_GL_f, les liste des erreurs\n",
    "# avec la formule des trapèzes, de Clenshaw-Curtis et de Gauss-Legendre\n",
    "Err_Tr_f = np.zeros(len(list_n))\n",
    "Err_CC_f = np.zeros(len(list_n))\n",
    "Err_GL_f = np.zeros(len(list_n))\n",
    "\n",
    "    \n",
    "\n",
    "    \n",
    "plt.figure()\n",
    "plt.loglog(list_n,err_Tr_f,marker='*',label=\"Trapeze\")\n",
    "plt.loglog(list_n,err_CC_f,marker='*',label=\"CC\")\n",
    "plt.loglog(list_n,err_GL_f,marker='*',label=\"GL\")\n",
    "plt.legend()\n",
    "plt.grid()\n",
    "plt.ylabel(\"Erreur sur \"+func_name[k])\n",
    "plt.xlabel(\"nb de points de quadrature\")\n",
    "plt.show()"
   ]
  },
  {
   "cell_type": "markdown",
   "metadata": {},
   "source": [
    "---"
   ]
  },
  {
   "cell_type": "markdown",
   "metadata": {},
   "source": [
    "## Exercice 4 : Intégration d'une fonction oscillante"
   ]
  },
  {
   "cell_type": "markdown",
   "metadata": {},
   "source": [
    ">On considére la fonction :\n",
    ">\n",
    ">$$ f: ]0,1] \\to [-1,1], \\qquad{} f(x) = \\sin\\left(\\frac{1}{x}\\right). $$\n",
    ">\n",
    ">L'objectif de cet exercice est d'étudier différentes manières de calculer numériquement l'intégrale :\n",
    ">\n",
    ">$$ I =\\displaystyle  \\int_0^1 f(x)dx. $$"
   ]
  },
  {
   "cell_type": "code",
   "execution_count": null,
   "metadata": {},
   "outputs": [],
   "source": [
    "# fonction dont cherche l'intégrale\n",
    "def f(x):\n",
    "    return np.sin(1/x)"
   ]
  },
  {
   "cell_type": "code",
   "execution_count": null,
   "metadata": {},
   "outputs": [],
   "source": [
    "# On represente f sur [0,1]\n",
    "# creation de la grille\n",
    "x = np.linspace(1.e-10, 1, 10000)\n",
    "# creation d'une figure\n",
    "fig_f = plt.figure(figsize = (16,6))\n",
    "# trace la figure reliant les points dont les abscisses sont stockees dans grid et les ordonnees dans values\n",
    "plt.plot(x, f(x))\n",
    "# nom de l'axe des abscisses\n",
    "plt.xlabel('x')\n",
    "# nom de l'axe des ordonnees\n",
    "plt.ylabel('f(x)')\n",
    "# trace une grille reguliere sur la figure\n",
    "plt.grid()\n",
    "# montre a l'ecran cette figure\n",
    "plt.show(fig_f)"
   ]
  },
  {
   "cell_type": "markdown",
   "metadata": {},
   "source": [
    "### Question 1 \n",
    "\n",
    "- Utiliser la fonction *quad* de *scipy.integrate* pour essayer d'intégrer directement la fonction $f$ sur $]0,1]$. \n",
    "- Vous obtenez normalement un message d'avertissement, indiquant que le résultat obtenu peut être imprécis.  Quelle est la caractéristique de $f$ qui rend l'intégration numérique particulièrement difficile?"
   ]
  },
  {
   "cell_type": "code",
   "execution_count": null,
   "metadata": {},
   "outputs": [],
   "source": [
    "# bornes d'integration\n",
    "a = 0\n",
    "b = 1\n",
    "\n",
    "# utiliser quad pour obtenir une approximation de l'integrale et une estimation sur son erreur\n",
    "I1, err1 = None, None\n",
    "print(f\"Valeur de l'intégrale I : {I1}\")\n",
    "print(f\"Estimation de l'erreur : {err1}\")"
   ]
  },
  {
   "cell_type": "markdown",
   "metadata": {},
   "source": [
    "### Question 2\n",
    "\n",
    "On note $a_k$ la suite décroissante des zéros de $f$. \n",
    "\n",
    "1) Donner la valeur des $a_k$ et écrire l'intégrale $I$ comme une série d'intégrales sur $[a_{k+1},a_k]$. \n",
    "\n",
    "2) Implémentation :\n",
    "- Utiliser *quad* de *scipy.integrate* sur chacun des intervalles $[a_{k+1},a_k]$ pour $k \\leq N$.\n",
    "- En supposant que sur chacun de ces intervalles, *quad* renvoie un résulat exact, trouver un critère d'arrêt pour atteindre la précision $\\varepsilon$ désirée avec $\\varepsilon = 10^{-6}$ et $\\varepsilon =10^{-9}$.\n",
    "\n",
    "    *Indication : On cherchera un critère suffisamment fin pour pouvoir converger en moins de 100000 itérations dans le second cas.*"
   ]
  },
  {
   "cell_type": "code",
   "execution_count": null,
   "metadata": {},
   "outputs": [],
   "source": [
    "def int_adapt(eps, N_max):\n",
    "    \"\"\"\n",
    "    calcule une valeur approchee de l'integrale en utilisant quad sur chaque [a_{k+1},a_k]\n",
    "    ----------   \n",
    "    parametre:\n",
    "    eps   : tolerance sur l'erreur\n",
    "    N_max : nombre maximal de sous-intervalles [a_{k+1},a_k]\n",
    "    \n",
    "    valeur de retour:\n",
    "    valeur approchee de l'integrale, nombre d'intervalles utilises pour atteindre la precision\n",
    "    \"\"\"\n",
    "    return None, None\n",
    "        \n",
    "# parametres pour l'evaluation\n",
    "eps_max = 1.e-6\n",
    "N_max   = 100000\n",
    "\n",
    "# Evaluation \n",
    "I2, N_I2 = int_adapt(eps_max, N_max)\n",
    "print(f\"Valeur de l'intégrale I : {I2}\")\n",
    "print(f\"Nombre d'intervalles : {N_I2}\")"
   ]
  },
  {
   "cell_type": "markdown",
   "metadata": {},
   "source": [
    "### Question 3\n",
    "\n",
    "1) Montrer que \n",
    "\n",
    "$$ \\int_0^1 f(x)dx = \\cos 1 - \\int_0^1 2x\\cos(1/x)dx. $$\n",
    "\n",
    "2) Implémentation :\n",
    "- Évaluer cette expression à l'aide de *scipy* et comparer la précision obtenue aux résultats des questions 1 et 2. \n",
    "- Expliquer l'amélioration de la précision par rapport à la question 1."
   ]
  },
  {
   "cell_type": "code",
   "execution_count": null,
   "metadata": {},
   "outputs": [],
   "source": [
    "def g(x):\n",
    "    \"\"\"\n",
    "    calcule la valeur de g(x)\n",
    "    ----------   \n",
    "    parametre:\n",
    "    x : point ou on evalue g\n",
    "    \n",
    "    valeur de retour:\n",
    "    valeur de g(x)\n",
    "    \"\"\"\n",
    "    return 2*x*np.cos(1/x)\n",
    "\n",
    "\n",
    "# bornes d'integration\n",
    "a = 0\n",
    "b = 1\n",
    "\n",
    "# utiliser quad pour obtenir une approximation de l'integrale et une estimation sur son erreur\n",
    "I3, err3 = None, None\n",
    "print(f\"Valeur de l'intégrale I : {I3}\")\n",
    "print(f\"Estimation de l'erreur : {err3}\")"
   ]
  },
  {
   "cell_type": "code",
   "execution_count": null,
   "metadata": {},
   "outputs": [],
   "source": [
    "# On represente g sur [-1,1]\n",
    "# creation de la grille\n",
    "x     = np.linspace(1.e-10, 1, 10000)\n",
    "# creation d'une figure\n",
    "fig_g = plt.figure(figsize = (16,6))\n",
    "# trace la figure reliant les points dont les abscisses sont stockees dans grid et les ordonnees dans values\n",
    "plt.plot(x, g(x))\n",
    "# nom de l'axe des abscisses\n",
    "plt.xlabel('x')\n",
    "# nom de l'axe des ordonnees\n",
    "plt.ylabel('g(x)')\n",
    "# trace une grille reguliere sur la figure\n",
    "plt.grid()\n",
    "# montre a l'ecran cette figure\n",
    "plt.show(fig_g)"
   ]
  },
  {
   "cell_type": "markdown",
   "metadata": {},
   "source": [
    "### Question 4 \n",
    "\n",
    "La fonction cosinus intégral est définie par \n",
    "\n",
    "$$ \\text{Ci}(x) = -\\int_x^\\infty \\frac{\\cos t}{t}dt. $$\n",
    "\n",
    "1) Montrer que $I = \\sin(1) - \\text{Ci}(1)$. \n",
    "\n",
    "2) Utiliser la fonction *scipy.special.sici* pour obtenir la valeur $I$ avec précision machine, en supposant que la fonction *sici* est exacte. "
   ]
  },
  {
   "cell_type": "code",
   "execution_count": null,
   "metadata": {},
   "outputs": [],
   "source": [
    "# utiliser sici\n",
    "I4 = None\n",
    "print(f\"Valeur de l'intégrale I : {I4}\")"
   ]
  },
  {
   "cell_type": "markdown",
   "metadata": {},
   "source": [
    ">**Remarque :** L'évaluation précise de $\\text{Ci}(x)$ peut se faire a l'aide de la représentation en série sur $\\mathbb{R}_+^*$:\n",
    ">\n",
    ">$$ \\text{Ci}(x) = \\gamma + \\ln (x) +\\sum\\limits_{n=1}^\\infty (-1)^n \\frac{x^{2n}}{(2n)!(2n)}$$\n",
    ">\n",
    ">où $\\gamma$ est la constante d'Euler-Mascheroni."
   ]
  },
  {
   "cell_type": "markdown",
   "metadata": {},
   "source": [
    "### Question 5\n",
    "\n",
    "Considérer la fonction $h: \\mathbb{C}^* \\to \\mathbb{C}$ définie par $h(z) = -\\exp\\left(-\\frac{i}{z}\\right)$.\n",
    "\n",
    "1) Montrer que l'intégrale $I$ correspond à la partie imaginaire de l'intégrale de $h$ sur le chemin $\\gamma_0 : [0,1]\\to \\mathbb{C}$, $\\gamma_0(t) = t$. \n",
    "\n",
    "*Pour rappel, l'intégrale d'une fonction $h:\\mathbb{C}\\to\\mathbb{C}$ le long d'un chemin $\\gamma:[0,1]\\to\\mathbb{C}$ de classe $\\mathcal{C}^1$ est donnée par*\n",
    "\n",
    "$$ \\int_{\\gamma} h(z)dz = \\int_0^1 h(\\gamma(t))\\gamma'(t)dt. $$"
   ]
  },
  {
   "cell_type": "markdown",
   "metadata": {},
   "source": [
    ">On admet que \n",
    ">\n",
    ">$$ \\int_{\\gamma_0} h(z)dz = \\int_{\\gamma_1} h(z)dz, $$\n",
    ">\n",
    ">où $\\gamma_1 : [0,1] \\to \\Bbb{C}$, $\\gamma_1(t) = t+it(1-t)$.\n",
    "\n",
    "2) a) Utiliser *quad* de *scipy.integrate* pour calculer l'intégrale de $h$ sur le chemin $\\gamma_1$, et comparer le résultat obtenu avec celui trouvé à la question 4. \n",
    "\n",
    "b) Représenter graphiquement la fonction $\\text{Im}(h)$ sur le chemin $\\gamma_1$ **et expliquer** pourquoi *scipy.integrate* arrive à bien intégrer $h$ sur le chemin $\\gamma_1$."
   ]
  },
  {
   "cell_type": "code",
   "execution_count": null,
   "metadata": {},
   "outputs": [],
   "source": [
    "def im_h_gamma1(t):\n",
    "    \"\"\"\n",
    "    calcule la valeur de Im(h(gamma1(t)) * gamma1'(t))\n",
    "    ----------   \n",
    "    parametre:\n",
    "    t : point ou on evalue h\n",
    "    \n",
    "    valeur de retour:\n",
    "    valeur de Im(h(gamma1(t)) * gamma1'(t))\n",
    "    \"\"\"\n",
    "    return \n",
    "\n",
    "# bornes d'integration\n",
    "a = 0\n",
    "b = 1\n",
    "\n",
    "# calcul de l'integrale\n",
    "I5 = None\n",
    "print(f\"Valeur de l'intégrale I : {I5}\")"
   ]
  },
  {
   "cell_type": "code",
   "execution_count": null,
   "metadata": {},
   "outputs": [],
   "source": [
    "# On represente h sur ]0,1]\n",
    "# creation de la grille\n",
    "n = 1000\n",
    "t = np.linspace(1.e-10,1,n+1)\n",
    "# creation d'une figure\n",
    "fig_h = plt.figure(figsize = (16,6))\n",
    "\n",
    "# trace la figure reliant les points dont les abscisses sont stockees dans grid et les ordonnees dans values\n",
    "# plt.plot(t, im_h_gamma1(t))\n",
    "\n",
    "# nom de l'axe des abscisses\n",
    "plt.xlabel('t')\n",
    "# nom de l'axe des ordonnees\n",
    "plt.ylabel('Partie imaginaire de h le long du chemin gamma1')\n",
    "# trace une grille reguliere sur la figure\n",
    "plt.grid()\n",
    "# montre a l'ecran cette figure\n",
    "plt.show(fig_h)"
   ]
  },
  {
   "cell_type": "markdown",
   "metadata": {},
   "source": [
    "---"
   ]
  },
  {
   "cell_type": "markdown",
   "metadata": {},
   "source": [
    "### Exercice 5 : Estimation via le noyau de Peano :\n",
    "\n",
    ">Le noyau de Peano $K$ d'une méthode de quadrature $Q$ d'ordre $N$ est défini par\n",
    ">\n",
    ">$$ K_Q(t) = E_Q(x\\mapsto ((x-t)_+)^N ), \\qquad{} x_+  = \\max(x,0). $$\n",
    "\n",
    "On considère une méthode de quadrature $Q$ d'ordre $N$, et $f\\in C^{N+1}([0,1])$. \n",
    "\n",
    "1) Montrer que \n",
    "\n",
    "$$ E_Q(f) = \\frac{1}{N!}\\int_{0}^{1} f^{(N+1)}(x) K_Q(x) dx. $$\n",
    "\n",
    "2) En déduire une borne supérieur sur l'erreur $E_Q(f)$ en fonction de $\\|f^{N+1}\\|_\\infty$  "
   ]
  },
  {
   "cell_type": "markdown",
   "metadata": {},
   "source": [
    "---"
   ]
  },
  {
   "cell_type": "markdown",
   "metadata": {},
   "source": [
    "## Référence :\n",
    "\n",
    "[1] L. Trefethen, Is Gauss quadrature better than Clenshaw-Curtis? SIAM Rev., 50 (2008), 67-87."
   ]
  }
 ],
 "metadata": {
  "@webio": {
   "lastCommId": null,
   "lastKernelId": null
  },
  "kernelspec": {
   "display_name": "Python 3 (ipykernel)",
   "language": "python",
   "name": "python3"
  },
  "language_info": {
   "codemirror_mode": {
    "name": "ipython",
    "version": 3
   },
   "file_extension": ".py",
   "mimetype": "text/x-python",
   "name": "python",
   "nbconvert_exporter": "python",
   "pygments_lexer": "ipython3",
   "version": "3.10.4"
  },
  "latex_envs": {
   "LaTeX_envs_menu_present": true,
   "autoclose": false,
   "autocomplete": true,
   "bibliofile": "biblio.bib",
   "cite_by": "apalike",
   "current_citInitial": 1,
   "eqLabelWithNumbers": true,
   "eqNumInitial": 1,
   "hotkeys": {
    "equation": "Ctrl-E",
    "itemize": "Ctrl-I"
   },
   "labels_anchors": false,
   "latex_user_defs": false,
   "report_style_numbering": false,
   "user_envs_cfg": false
  },
  "toc": {
   "base_numbering": 1,
   "nav_menu": {},
   "number_sections": false,
   "sideBar": true,
   "skip_h1_title": false,
   "title_cell": "Table of Contents",
   "title_sidebar": "Contents",
   "toc_cell": false,
   "toc_position": {},
   "toc_section_display": true,
   "toc_window_display": false
  }
 },
 "nbformat": 4,
 "nbformat_minor": 4
}
