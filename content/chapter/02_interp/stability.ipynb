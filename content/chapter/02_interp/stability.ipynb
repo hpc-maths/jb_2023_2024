{
 "cells": [
  {
   "cell_type": "code",
   "execution_count": null,
   "id": "fd4a82cc",
   "metadata": {},
   "outputs": [],
   "source": [
    "#\n",
    "#    Notebook de cours MAP412 - Chapitre 2 - M. Massot 2022-2023 - Ecole polytechnique\n",
    "#    ----------   \n",
    "#    Stabilité des méthodes\n",
    "#    \n",
    "#    Auteurs : L. Séries et M. Massot - (C) 2022\n",
    "#    "
   ]
  },
  {
   "cell_type": "markdown",
   "id": "a229995c",
   "metadata": {},
   "source": [
    "# Stabilité des méthodes"
   ]
  },
  {
   "cell_type": "code",
   "execution_count": null,
   "id": "a92a314d",
   "metadata": {
    "tags": [
     "hide-input"
    ]
   },
   "outputs": [],
   "source": [
    "import numpy as np\n",
    "import plotly.graph_objects as go\n",
    "from plotly.subplots import make_subplots\n",
    "import plotly.io as pio\n",
    "pio.templates.default = \"seaborn\"\n",
    "\n",
    "def compute_divided_diff_coef(x, y):\n",
    "    n = x.size\n",
    "    coef = y.copy()\n",
    "    for i in range(1,n):\n",
    "        coef[i:] = (coef[i:] - coef[i-1:-1])/(x[i:] - x[:-i])\n",
    "    return coef\n",
    "\n",
    "def newton_interp(xi, yi, x):\n",
    "    coef = compute_divided_diff_coef(xi, yi)\n",
    "    n = xi.size\n",
    "    p = np.zeros(x.size)\n",
    "    for i in range(n-1,0,-1):\n",
    "        p = (coef[i]+p) * (x-xi[i-1])\n",
    "    p = p +  coef[0]\n",
    "    return p\n",
    "\n",
    "def improved_lag_interp(xk, yk, x):\n",
    "    n = xk.size\n",
    "    l = np.ones(x.size)\n",
    "    p = np.zeros(x.size)\n",
    "    \n",
    "    wk = np.zeros(n) \n",
    "    for k in range(n):\n",
    "        wk[k] = 1. / (np.prod( xk[k] - xk[np.arange(n)!=k] ))\n",
    "    \n",
    "    mask = np.in1d(x, xk[:])\n",
    "    p[np.where(mask)] = yk[np.where(np.in1d(xk, x))]\n",
    "    mask = np.invert(mask)    \n",
    "\n",
    "    for k in range(n):\n",
    "        l[mask] *= x[mask] - xk[k]\n",
    "        p[mask] += (wk[k]/(x[mask] - xk[k])) * yk[k]\n",
    "        \n",
    "    return l*p\n",
    "\n",
    "def cheb_points(xmin, xmax, n):\n",
    "    x = np.zeros(n+1)\n",
    "    for i in range(n+1):\n",
    "        x[i] = (xmin+xmax)/2 + ((xmax-xmin)/2) * np.cos(((2*i+1)*np.pi)/(2*n + 2))\n",
    "    return x\n",
    "\n",
    "def noise(eps, x): \n",
    "    return eps * (2*np.random.rand(x.size)-1) \n",
    "\n",
    "def lagrange(k, xk, x):\n",
    "    lag = np.ones(x.size)\n",
    "    for j in range(xk.size):\n",
    "        if (j!=k): lag *= (x-xk[j])/(xk[k]-xk[j])\n",
    "    return lag\n",
    "\n",
    "def compute_cond(xk, yk, pn, x):\n",
    "    cond = np.zeros(x.size)\n",
    "    for k in range(xk.size):\n",
    "        cond += np.abs(lagrange(k, xk, x) * yk[k]) / np.abs(pn)\n",
    "    return cond"
   ]
  },
  {
   "cell_type": "markdown",
   "id": "c1920a48",
   "metadata": {
    "tags": [
     "hide-cell",
     "hide-input"
    ]
   },
   "source": [
    "On considère l’approximation polynomiale de la fonction $f(x) = \\sin(\\pi x)$ sur $[-1,1]$."
   ]
  },
  {
   "cell_type": "code",
   "execution_count": null,
   "id": "0375d5f7-3aa9-4f0b-894e-935cea868570",
   "metadata": {},
   "outputs": [],
   "source": [
    "def f(x):\n",
    "    return np.sin(np.pi*x)\n",
    "\n",
    "xmin = -1.; xmax = 1."
   ]
  },
  {
   "cell_type": "markdown",
   "id": "d4ecb71e",
   "metadata": {},
   "source": [
    "## Méthode de Newton\n",
    "\n",
    "On interpole la fonction $f(x)$ en utilisant des points de Tchebychev."
   ]
  },
  {
   "cell_type": "code",
   "execution_count": null,
   "id": "810b005e",
   "metadata": {
    "tags": [
     "hide-input"
    ]
   },
   "outputs": [],
   "source": [
    "# x use to display f and pn\n",
    "xplot = np.linspace(xmin, xmax, 500)\n",
    "\n",
    "# maximal degree of Newton interpolating polynomial\n",
    "n_max = 71\n",
    "\n",
    "# array of degree\n",
    "n = np.arange(19, n_max+1, 2)\n",
    "\n",
    "# compute for each degree xi, yi and pn\n",
    "xk = []; yk = []; pn = []\n",
    "for i, ni in enumerate(n):\n",
    "    xk.append(cheb_points(xmin, xmax, ni))\n",
    "    yk.append(f(xk[i]))\n",
    "    pn.append(newton_interp(xk[i], yk[i], xplot))\n",
    "    \n",
    "# Create figure\n",
    "fig = go.Figure(layout_title=\"Approximation polynomiale avec la méthode de Newton\")\n",
    "\n",
    "# add f(x) plot\n",
    "fig.add_trace(go.Scatter(visible=True, x=xplot, y=f(xplot), name=\"f(x)\"))\n",
    "\n",
    "# add yi and pn(x) invisible plots\n",
    "for i, ni in enumerate(n):\n",
    "    fig.add_trace(go.Scatter(visible=False, x=xplot, y=pn[i], name=f\"p{ni}(x)\"))\n",
    "    fig.add_trace(go.Scatter(visible=False, x=xk[i], y=yk[i], mode='markers', name=\"pts d'interpolation\"))\n",
    "\n",
    "# Make plot visible for n[0]\n",
    "fig.data[1].visible = True\n",
    "fig.data[2].visible = True\n",
    "\n",
    "# Create and add slider\n",
    "steps = []\n",
    "for i, ni in enumerate(n):\n",
    "    step = dict(method=\"update\", label = f\" {ni+1}\",\n",
    "                args=[{\"visible\": [el==0 or el==2*i+1 or el==2*i+2 for el in range(len(fig.data))]}])\n",
    "    steps.append(step)\n",
    "        \n",
    "sliders = [dict(currentvalue={\"prefix\": \"nb points: \"}, steps=steps)]\n",
    "\n",
    "fig.update_layout(sliders=sliders)\n",
    "fig.update_yaxes(range=[-1.1, 1.1])\n",
    "\n",
    "fig.show()"
   ]
  },
  {
   "cell_type": "markdown",
   "id": "40debe90-e70f-464c-bab8-de0a960dae8a",
   "metadata": {},
   "source": [
    "Pour cette répartition de points, le conditionnement du problème est bon. Les erreurs constatées à partir de 68 points sont dûes à la stabilité de la méthode utilisées pour interpoler."
   ]
  },
  {
   "cell_type": "markdown",
   "id": "8f12150a",
   "metadata": {},
   "source": [
    "## Première forme de la formule d’interpolation barycentrique\n",
    "\n",
    "On interpole la fonction $f(x)$ en utilisant des points de Tchebychev.  "
   ]
  },
  {
   "cell_type": "code",
   "execution_count": null,
   "id": "da059f3b",
   "metadata": {
    "tags": [
     "hide-input"
    ]
   },
   "outputs": [],
   "source": [
    "# maximal degree of Newton interpolating polynomial\n",
    "n_max = 520\n",
    "\n",
    "# array of degree\n",
    "n = np.arange(19, n_max+1, 40)\n",
    "\n",
    "# x use to display f and pn\n",
    "xplot = np.linspace(xmin, xmax, 2000)\n",
    "\n",
    "# compute for each degree xi, yi and pn\n",
    "xk = []; yk = []; pn = []\n",
    "for i, ni in enumerate(n):\n",
    "    xk.append(cheb_points(xmin, xmax, ni))\n",
    "    yk.append(f(xk[i]))\n",
    "    pn.append(improved_lag_interp(xk[i], yk[i], xplot))\n",
    "    \n",
    "# Create figure\n",
    "fig = go.Figure(layout_title=\"Approximation polynomiale utilisant des points Tchebychev\")\n",
    "\n",
    "# add f(x) plot\n",
    "fig.add_trace(go.Scatter(visible=True, x=xplot, y=f(xplot), name=\"f(x)\"))\n",
    "\n",
    "# add yi and pn(x) invisible plots\n",
    "for i, ni in enumerate(n):\n",
    "    fig.add_trace(go.Scatter(visible=False, x=xplot, y=pn[i], name=f\"p{ni}(x)\"))\n",
    "    fig.add_trace(go.Scatter(visible=False, x=xk[i], y=yk[i], mode='markers', name=\"pts d'interpolation\"))\n",
    "\n",
    "# Make plot visible for n[0]\n",
    "fig.data[1].visible = True\n",
    "fig.data[2].visible = True\n",
    "\n",
    "# Create and add slider\n",
    "steps = []\n",
    "for i, ni in enumerate(n):\n",
    "    step = dict(method=\"update\", label = f\" {ni+1}\",\n",
    "                args=[{\"visible\": [el==0 or el==2*i+1 or el==2*i+2 for el in range(len(fig.data))]}])\n",
    "    steps.append(step)\n",
    "        \n",
    "sliders = [dict(currentvalue={\"prefix\": \"nb points: \"}, steps=steps)]\n",
    "\n",
    "fig.update_layout(sliders=sliders)\n",
    "fig.update_yaxes(range=[-1.1, 1.1])\n",
    "\n",
    "fig.show()"
   ]
  },
  {
   "cell_type": "markdown",
   "id": "87422171-fe5c-4724-8e31-d0242912ac49",
   "metadata": {},
   "source": [
    "Dans ce cas, on peut augmenter les nombre de points sans observer d'erreur. C'est le comportement attendu de l'utilisation d'un algorithme stable pour un bon conditionnement local du problème."
   ]
  }
 ],
 "metadata": {
  "kernelspec": {
   "display_name": "Python 3 (ipykernel)",
   "language": "python",
   "name": "python3"
  },
  "language_info": {
   "codemirror_mode": {
    "name": "ipython",
    "version": 3
   },
   "file_extension": ".py",
   "mimetype": "text/x-python",
   "name": "python",
   "nbconvert_exporter": "python",
   "pygments_lexer": "ipython3",
   "version": "3.10.4"
  }
 },
 "nbformat": 4,
 "nbformat_minor": 5
}
