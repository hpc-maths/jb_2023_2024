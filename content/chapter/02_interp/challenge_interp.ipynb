{
 "cells": [
  {
   "cell_type": "code",
   "execution_count": null,
   "id": "9952a969-81dd-4b0c-9c12-bd3312148bc1",
   "metadata": {},
   "outputs": [],
   "source": [
    "#\n",
    "#    Notebook de cours MAP412 - Chapitre 2 - M. Massot 2022-2023 - Ecole polytechnique\n",
    "#    ----------   \n",
    "#    Challenge : interpolation de la fonction sinus\n",
    "#    \n",
    "#    Auteurs : L. Séries et M. Massot - (C) 2022\n",
    "#    "
   ]
  },
  {
   "cell_type": "markdown",
   "id": "792c5775-0e74-478f-ada1-e5dafd580f9b",
   "metadata": {
    "tags": []
   },
   "source": [
    "# Challenge : interpolation de la fonction sinus"
   ]
  },
  {
   "cell_type": "code",
   "execution_count": null,
   "id": "e38bb4ff-5d8a-437e-a5ef-7c1c8b69d2f0",
   "metadata": {
    "tags": [
     "hide-input"
    ]
   },
   "outputs": [],
   "source": [
    "import numpy as np\n",
    "import plotly.graph_objects as go\n",
    "from plotly.subplots import make_subplots\n",
    "import plotly.io as pio\n",
    "pio.templates.default = \"seaborn\"\n",
    "\n",
    "def compute_divided_diff_coef(x, y):\n",
    "    n = x.size\n",
    "    coef = y.copy()\n",
    "    for i in range(1,n):\n",
    "        coef[i:] = (coef[i:] - coef[i-1:-1])/(x[i:] - x[:-i])\n",
    "    return coef\n",
    "\n",
    "def newton_interp(xi, yi, x):\n",
    "    coef = compute_divided_diff_coef(xi, yi)\n",
    "    n = xi.size\n",
    "    p = np.zeros(x.size)\n",
    "    for i in range(n-1,0,-1):\n",
    "        p = (coef[i]+p) * (x-xi[i-1])\n",
    "    p = p +  coef[0]\n",
    "    return p"
   ]
  },
  {
   "cell_type": "markdown",
   "id": "560ef18d-eafd-424d-8539-a4c50e97d567",
   "metadata": {},
   "source": [
    "Dans ce notebook, on montre le résultat de l'approximation de la fonction $f(x)=\\sin(\\pi x)$ sur $[-1,1]$ avec la méthode de Newton en utilisant des 68 points d'interpolation équidistribués entre $[-1,1]$."
   ]
  },
  {
   "cell_type": "code",
   "execution_count": null,
   "id": "7cdac2cb-f2fb-415d-80a1-d23772023dfd",
   "metadata": {},
   "outputs": [],
   "source": [
    "def f(x):\n",
    "    return np.sin(np.pi*x)\n",
    "\n",
    "xmin = -1.; xmax = 1."
   ]
  },
  {
   "cell_type": "markdown",
   "id": "7a7143a2-c520-44ac-a753-483298ab2048",
   "metadata": {},
   "source": [
    "## Approximation polynomiale"
   ]
  },
  {
   "cell_type": "code",
   "execution_count": null,
   "id": "df36c140-5970-4379-a7c9-ed4079c0afc5",
   "metadata": {},
   "outputs": [],
   "source": [
    "# x use to display f and pn\n",
    "xplot = np.linspace(xmin, xmax, 500)\n",
    "\n",
    "# maximal degree of Newton interpolating polynomial\n",
    "n = 69\n",
    "\n",
    "xk = np.linspace(xmin, xmax, n+1)\n",
    "yk = f(xk)\n",
    "\n",
    "pn = newton_interp(xk, yk, xplot)\n",
    "    \n",
    "# Create figure\n",
    "fig = go.Figure(layout_title=\"Approximation polynomiale avec la méthode de Newton\")\n",
    "\n",
    "# add f(x) plot\n",
    "fig.add_trace(go.Scatter(visible=True, x=xplot, y=f(xplot), name=\"f(x)\"))\n",
    "\n",
    "# add yi and pn(x) invisible plots\n",
    "fig.add_trace(go.Scatter(x=xplot, y=pn, name=f\"p{n}(x)\"))\n",
    "fig.add_trace(go.Scatter(x=xk, y=yk, mode='markers', name=\"pts d'interpolation\"))\n",
    "\n",
    "# Create and add slider\n",
    "fig.update_yaxes(range=[-3.1, 3.1])\n",
    "legend = dict(yanchor=\"top\", y=0.99, xanchor=\"left\", x=0.10, bgcolor='rgba(0,0,0,0)')\n",
    "fig.update_layout(legend=legend)\n",
    "fig.show()"
   ]
  },
  {
   "cell_type": "markdown",
   "id": "b744d1a7-c701-447c-99b4-fc5bf9524ddf",
   "metadata": {},
   "source": [
    "Proposer une interprétation du résultat numérique obtenu : s'agit-il d'un phénomène de Runge, d'un problème de conditionnement mathématique, d'un problème de stabilité de l'algorithme utilisé ?"
   ]
  }
 ],
 "metadata": {
  "kernelspec": {
   "display_name": "Python 3 (ipykernel)",
   "language": "python",
   "name": "python3"
  },
  "language_info": {
   "codemirror_mode": {
    "name": "ipython",
    "version": 3
   },
   "file_extension": ".py",
   "mimetype": "text/x-python",
   "name": "python",
   "nbconvert_exporter": "python",
   "pygments_lexer": "ipython3",
   "version": "3.10.12"
  }
 },
 "nbformat": 4,
 "nbformat_minor": 5
}
