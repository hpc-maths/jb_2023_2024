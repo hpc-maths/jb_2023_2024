{
 "cells": [
  {
   "cell_type": "code",
   "execution_count": null,
   "id": "fd4a82cc",
   "metadata": {},
   "outputs": [],
   "source": [
    "#\n",
    "#    Notebook de cours MAP412 - Chapitre 2 - M. Massot 2022-2023 - Ecole polytechnique\n",
    "#    ----------   \n",
    "#    Distribution des points et conditionnement\n",
    "#    \n",
    "#    Auteurs : L. Séries et M. Massot - (C) 2022\n",
    "#    "
   ]
  },
  {
   "cell_type": "markdown",
   "id": "a229995c",
   "metadata": {},
   "source": [
    "# Distribution des points et conditionnement"
   ]
  },
  {
   "cell_type": "code",
   "execution_count": null,
   "id": "a92a314d",
   "metadata": {
    "tags": [
     "hide-cell",
     "hide-input"
    ]
   },
   "outputs": [],
   "source": [
    "import numpy as np\n",
    "import plotly.graph_objects as go\n",
    "from plotly.subplots import make_subplots\n",
    "import plotly.io as pio\n",
    "pio.templates.default = \"seaborn\"\n",
    "\n",
    "def improved_lag_interp(xk, yk, x):\n",
    "    n = xk.size\n",
    "    l = np.ones(x.size)\n",
    "    p = np.zeros(x.size)\n",
    "    \n",
    "    wk = np.zeros(n) \n",
    "    for k in range(n):\n",
    "        wk[k] = 1. / (np.prod( xk[k] - xk[np.arange(n)!=k] ))\n",
    "    \n",
    "    mask = np.in1d(x, xk[:])\n",
    "    p[np.where(mask)] = yk[np.where(np.in1d(xk, x))]\n",
    "    mask = np.invert(mask)    \n",
    "\n",
    "    for k in range(n):\n",
    "        l[mask] *= x[mask] - xk[k]\n",
    "        p[mask] += (wk[k]/(x[mask] - xk[k])) * yk[k]\n",
    "        \n",
    "    return l*p\n",
    "\n",
    "def cheb_points(xmin, xmax, n):\n",
    "    x = np.zeros(n+1)\n",
    "    for i in range(n+1):\n",
    "        x[i] = (xmin+xmax)/2 + ((xmax-xmin)/2) * np.cos(((2*i+1)*np.pi)/(2*n + 2))\n",
    "    return x\n",
    "\n",
    "def noise(eps, x): \n",
    "    return eps * (2*np.random.rand(x.size)-1) \n",
    "\n",
    "def lagrange(k, xk, x):\n",
    "    lag = np.ones(x.size)\n",
    "    for j in range(xk.size):\n",
    "        if (j!=k): lag *= (x-xk[j])/(xk[k]-xk[j])\n",
    "    return lag\n",
    "\n",
    "def compute_cond(xk, yk, pn, x):\n",
    "    cond = np.zeros(x.size)\n",
    "    for k in range(xk.size):\n",
    "        cond += np.abs(lagrange(k, xk, x) * yk[k])\n",
    "    return cond / np.abs(pn)"
   ]
  },
  {
   "cell_type": "markdown",
   "id": "c1920a48",
   "metadata": {},
   "source": [
    "On considère l’approximation polynomiale de la fonction $f(x)=\\sin(\\pi x)$ sur $[-1,1]$."
   ]
  },
  {
   "cell_type": "code",
   "execution_count": null,
   "id": "0375d5f7-3aa9-4f0b-894e-935cea868570",
   "metadata": {},
   "outputs": [],
   "source": [
    "def f(x):\n",
    "    return np.sin(np.pi*x)\n",
    "\n",
    "xmin = -1.; xmax = 1."
   ]
  },
  {
   "cell_type": "markdown",
   "id": "7be887cd",
   "metadata": {},
   "source": [
    "On utilise la première forme de la formule d’interpolation barycentrique qui présente de bonnes propriétés de stabilité. "
   ]
  },
  {
   "cell_type": "markdown",
   "id": "d4ecb71e",
   "metadata": {},
   "source": [
    "## Points équidistribués\n",
    "\n",
    "On interpole la fonction $f(x)$ en utilisant des points équidistants.  "
   ]
  },
  {
   "cell_type": "code",
   "execution_count": null,
   "id": "e4f79c1c",
   "metadata": {
    "tags": [
     "hide-input"
    ]
   },
   "outputs": [],
   "source": [
    "# x use to display f and pn\n",
    "xplot = np.linspace(xmin, xmax, 500)\n",
    "\n",
    "# x use to display relative conditionning\n",
    "eps = 0.05\n",
    "xcond = np.concatenate((np.linspace(xmin+eps, -eps, 50), np.linspace(eps, xmax-eps, 50) ))\n",
    "\n",
    "# maximal degree of Newton interpolating polynomial\n",
    "n_max = 72\n",
    "\n",
    "# array of degree\n",
    "n = np.arange(19, n_max+1, 2)\n",
    "\n",
    "# compute for each degree xk, yk and pn\n",
    "xk = []; yk = []; pn = []; cond = []\n",
    "for i, ni in enumerate(n):\n",
    "    xk.append(np.linspace(xmin, xmax, ni+1))\n",
    "    yk.append(f(xk[i]))\n",
    "    pn.append(improved_lag_interp(xk[i], yk[i], xplot))\n",
    "    cond.append(compute_cond(xk[i], xk[i], improved_lag_interp(xk[i], yk[i], xcond), xcond))\n",
    "\n",
    "# Create figure\n",
    "marker=dict(size=5, symbol='x-thin', line=dict(width=1, color='rgb(76,114,176)'))\n",
    "fig = make_subplots(rows=2, cols=1, vertical_spacing = 0.1,\n",
    "                    subplot_titles=(\"Approximation polynomiale\", \"Conditionnement relatif local\"))\n",
    "\n",
    "# add f(x) plot\n",
    "fig.add_trace(go.Scatter(visible=True, x=xplot, y=f(xplot), name=\"f(x)\", legendgroup='1'))\n",
    "\n",
    "# add yi and pn(x) invisible plots\n",
    "for i, ni in enumerate(n):\n",
    "    fig.add_trace(go.Scatter(visible=False, x=xplot, y=pn[i], name=f\"p{ni}(x)\"))\n",
    "    fig.add_trace(go.Scatter(visible=False, x=xk[i], y=yk[i], mode='markers', name=\"pts d'interpolation\"))\n",
    "    fig.add_trace(go.Scatter(visible=False, x=xcond, y=cond[i], mode='markers', showlegend=False, marker=marker), row=2, col=1)\n",
    "\n",
    "# Make plot visible for n[0]\n",
    "fig.data[1].visible = True\n",
    "fig.data[2].visible = True\n",
    "fig.data[3].visible = True\n",
    "\n",
    "# Create and add slider\n",
    "steps = []\n",
    "for i, ni in enumerate(n):\n",
    "    step = dict(method=\"update\", label = f\" {ni+1}\",\n",
    "                args=[{\"visible\": [el==0 or el==3*i+1 or el==3*i+2 or el==3*i+3 for el in range(len(fig.data))]}])\n",
    "    steps.append(step)\n",
    "        \n",
    "sliders = [dict(currentvalue={\"prefix\": \"nb points: \"}, steps=steps)]\n",
    "\n",
    "legend = dict(yanchor=\"top\", y=0.99, xanchor=\"left\", x=0.10, bgcolor='rgba(0,0,0,0)')\n",
    "title = \"Approximation polynomiale utilisant des points équidistants\"\n",
    "fig.update_layout(sliders=sliders, height=750, legend=legend, title=title)\n",
    "fig.update_yaxes(range=[-1.1, 1.1], row=1)\n",
    "fig.update_yaxes(type=\"log\", exponentformat='e', row=2)\n",
    "\n",
    "fig.show()"
   ]
  },
  {
   "cell_type": "markdown",
   "id": "56e3bd59-d5d0-48b0-9795-5bbc51a2bf51",
   "metadata": {},
   "source": [
    "Pour cette distribution de points, on observe des erreurs conséquentes dès que le nombre de points dépasse 60. L'algorithme utilisé étant stable, les erreurs constatées sont directement liées au conditionnement local du problème qui augmente avec le nombre de points."
   ]
  },
  {
   "cell_type": "markdown",
   "id": "8f12150a",
   "metadata": {},
   "source": [
    "## Points de Tchebychev\n",
    "\n",
    "On interpole la fonction $f(x)$ en utilisant des points de Tchebychev.  "
   ]
  },
  {
   "cell_type": "code",
   "execution_count": null,
   "id": "3a58aae5-7191-4c5d-866a-5a48dc8d848e",
   "metadata": {
    "tags": [
     "hide-input"
    ]
   },
   "outputs": [],
   "source": [
    "# x use to display f and pn\n",
    "xplot = np.linspace(xmin, xmax, 1500)\n",
    "\n",
    "# x use to display relative conditionning\n",
    "eps = 0.05\n",
    "xcond = np.concatenate((np.linspace(xmin+eps, -eps, 50), np.linspace(eps, xmax-eps, 50) ))\n",
    "#xcond = np.linspace(xmin+0.1, xmax-0.1, 100)\n",
    "\n",
    "# maximal degree of Newton interpolating polynomial\n",
    "n_max = 520\n",
    "\n",
    "# array of degree\n",
    "n = np.arange(19, n_max+1, 40)\n",
    "\n",
    "# compute for each degree xk, yk and pn\n",
    "xk = []; yk = []; pn = []; cond = []\n",
    "for i, ni in enumerate(n):\n",
    "    xk.append(cheb_points(xmin, xmax, ni))\n",
    "    yk.append(f(xk[i]))\n",
    "    pn.append(improved_lag_interp(xk[i], yk[i], xplot))\n",
    "    cond.append(compute_cond(xk[i], xk[i], improved_lag_interp(xk[i], yk[i], xcond), xcond))\n",
    "\n",
    "# Create figure\n",
    "marker=dict(size=5, symbol='x-thin', line=dict(width=1, color='rgb(76,114,176)'))\n",
    "fig = make_subplots(rows=2, cols=1, vertical_spacing = 0.1,\n",
    "                    subplot_titles=(\"Approximation polynomiale\", \"Conditionnement relatif local\"))\n",
    "\n",
    "# add f(x) plot\n",
    "fig.add_trace(go.Scatter(visible=True, x=xplot, y=f(xplot), name=\"f(x)\", legendgroup='1'))\n",
    "\n",
    "# add yi and pn(x) invisible plots\n",
    "for i, ni in enumerate(n):\n",
    "    fig.add_trace(go.Scatter(visible=False, x=xplot, y=pn[i], name=f\"p{ni}(x)\"))\n",
    "    fig.add_trace(go.Scatter(visible=False, x=xk[i], y=yk[i], mode='markers', name=\"pts d'interpolation\"))\n",
    "    fig.add_trace(go.Scatter(visible=False, x=xcond, y=cond[i], mode='markers', showlegend=False, marker=marker), row=2, col=1)\n",
    "\n",
    "# Make plot visible for n[0]\n",
    "fig.data[1].visible = True\n",
    "fig.data[2].visible = True\n",
    "fig.data[3].visible = True\n",
    "\n",
    "# Create and add slider\n",
    "steps = []\n",
    "for i, ni in enumerate(n):\n",
    "    step = dict(method=\"update\", label = f\" {ni+1}\",\n",
    "                args=[{\"visible\": [el==0 or el==3*i+1 or el==3*i+2 or el==3*i+3 for el in range(len(fig.data))]}])\n",
    "    steps.append(step)\n",
    "        \n",
    "sliders = [dict(currentvalue={\"prefix\": \"nb points: \"}, steps=steps)]\n",
    "\n",
    "legend = dict(yanchor=\"top\", y=0.99, xanchor=\"left\", x=0.10, bgcolor='rgba(0,0,0,0)')\n",
    "title = \"Approximation polynomiale utilisant des points de Tchebychev\"\n",
    "fig.update_layout(sliders=sliders, height=750, legend=legend, title=title)\n",
    "fig.update_yaxes(range=[-1.1, 1.1], row=1)\n",
    "\n",
    "fig.show()"
   ]
  },
  {
   "cell_type": "markdown",
   "id": "060e2183-2d13-4931-b81c-50c73714aeb9",
   "metadata": {},
   "source": [
    "Pour cette distribution de points, on peut augmenter les nombre de points sans observer d'erreur. C'est le comportement attendu de l'utilisation d'un algorithme stable pour un bon conditionnement local du problème."
   ]
  }
 ],
 "metadata": {
  "celltoolbar": "Format de la Cellule Texte Brut",
  "kernelspec": {
   "display_name": "Python 3 (ipykernel)",
   "language": "python",
   "name": "python3"
  },
  "language_info": {
   "codemirror_mode": {
    "name": "ipython",
    "version": 3
   },
   "file_extension": ".py",
   "mimetype": "text/x-python",
   "name": "python",
   "nbconvert_exporter": "python",
   "pygments_lexer": "ipython3",
   "version": "3.10.4"
  }
 },
 "nbformat": 4,
 "nbformat_minor": 5
}
