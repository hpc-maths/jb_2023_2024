{
 "cells": [
  {
   "cell_type": "code",
   "execution_count": null,
   "id": "98c7a3dc-5c32-4999-b7f3-10efd98fa412",
   "metadata": {},
   "outputs": [],
   "source": [
    "#\n",
    "#    Notebook de cours MAP412 - Chapitre 2 - M. Massot 2022-2023 - Ecole polytechnique\n",
    "#    ----------   \n",
    "#    Phénomène de Runge\n",
    "#    \n",
    "#    Auteurs : L. Séries et M. Massot - (C) 2022\n",
    "#    "
   ]
  },
  {
   "cell_type": "markdown",
   "id": "experienced-plant",
   "metadata": {},
   "source": [
    "# Phénomène de Runge"
   ]
  },
  {
   "cell_type": "markdown",
   "id": "dominant-computer",
   "metadata": {},
   "source": [
    "On considère la fonction $f(x) = \\displaystyle \\frac{1}{(1 + 25x^2)}$."
   ]
  },
  {
   "cell_type": "code",
   "execution_count": null,
   "id": "fixed-illness",
   "metadata": {},
   "outputs": [],
   "source": [
    "def f(x):\n",
    "    return 1/(1+25*x*x)"
   ]
  },
  {
   "cell_type": "markdown",
   "id": "handmade-headset",
   "metadata": {},
   "source": [
    "## Interpolation utilisant des points équidistants\n",
    "\n",
    "On interpole la fonction $f(x)$ en utilisant des points équidistants avec la formulation de Newton grâce à la fonction du module  `scipy` : [interpolate.KroghInterpolator](https://docs.scipy.org/doc/scipy/reference/generated/scipy.interpolate.KroghInterpolator.html#scipy.interpolate.KroghInterpolator)."
   ]
  },
  {
   "cell_type": "code",
   "execution_count": null,
   "id": "ac5b70c2",
   "metadata": {
    "tags": [
     "hide-input"
    ]
   },
   "outputs": [],
   "source": [
    "import plotly.graph_objects as go\n",
    "import numpy as np\n",
    "from scipy import interpolate\n",
    "import plotly.io as pio\n",
    "pio.templates.default = \"seaborn\"\n",
    "\n",
    "xmin = -1.0\n",
    "xmax = 1.0\n",
    "\n",
    "# maximal degree of Newton interpolating polynomial\n",
    "n_max = 30\n",
    "\n",
    "# array of degree\n",
    "arr_n = np.arange(1, n_max)\n",
    "\n",
    "# compute for each degree xi, yi and pn\n",
    "xi_equi = []; yi_equi = []; pn_equi = []\n",
    "for i, ni in enumerate(arr_n):\n",
    "    xi_equi.append(np.linspace(xmin, xmax, ni+1))\n",
    "    yi_equi.append(f(xi_equi[i]))\n",
    "    pn_equi.append(interpolate.KroghInterpolator(xi_equi[i], yi_equi[i]))\n",
    "    \n",
    "# Create figure\n",
    "fig = go.Figure()\n",
    "\n",
    "# x use to display f and pn\n",
    "xplot = np.linspace(xmin, xmax, 500)\n",
    "\n",
    "# add f(x) plot\n",
    "fig.add_trace(go.Scatter(visible=True, x=xplot, y=f(xplot), name=\"f(x)\"))\n",
    "\n",
    "# add yi and pn(x) invisible plots\n",
    "for i, ni in enumerate(arr_n):\n",
    "    fig.add_trace(go.Scatter(visible=False, x=xplot, y=pn_equi[i](xplot), name=f\"p{ni}(x)\"))\n",
    "    fig.add_trace(go.Scatter(visible=False, x=xi_equi[i], y=yi_equi[i], mode='markers', name=\"pts d'interpolation\"))\n",
    "\n",
    "# Make plot visible for n=1\n",
    "fig.data[1].visible = True\n",
    "fig.data[2].visible = True\n",
    "\n",
    "# Create and add slider\n",
    "steps = []\n",
    "for i, ni in enumerate(arr_n):\n",
    "    step = dict(method=\"update\", label = f\" {ni+1}\",\n",
    "                args=[{\"visible\": [el==0 or el==2*i+1 or el==2*i+2 for el in range(len(fig.data))]}])\n",
    "    steps.append(step)\n",
    "        \n",
    "sliders = [dict(currentvalue={\"prefix\": \"nb points: \"}, steps=steps)]\n",
    "\n",
    "fig.update_layout(sliders=sliders)\n",
    "fig.update_yaxes(range=[-.25, 1.25])\n",
    "\n",
    "fig.show()"
   ]
  },
  {
   "cell_type": "markdown",
   "id": "broke-payroll",
   "metadata": {},
   "source": [
    "Lorsque le nombre de points d'interpolation augmentent, on remarque que le polynôme se met à osciller avec une amplitude de plus en plus grande. C'est le **phénomène de Runge**."
   ]
  },
  {
   "cell_type": "markdown",
   "id": "visible-spiritual",
   "metadata": {},
   "source": [
    "## Interpolation utilisant les points de Tchebychev"
   ]
  },
  {
   "cell_type": "code",
   "execution_count": null,
   "id": "executed-section",
   "metadata": {},
   "outputs": [],
   "source": [
    "def cheb_points(xmin, xmax, n):\n",
    "    x = np.zeros(n+1)\n",
    "    for i in range(n+1):\n",
    "        x[i] = (xmax+xmin)/2 + ((xmax-xmin)/2) * np.cos(((2*i+1)*np.pi)/(2*n + 2))\n",
    "    return x"
   ]
  },
  {
   "cell_type": "code",
   "execution_count": null,
   "id": "mysterious-involvement",
   "metadata": {
    "tags": [
     "hide-input"
    ]
   },
   "outputs": [],
   "source": [
    "from plotly.subplots import make_subplots\n",
    "\n",
    "# compute for each degree xi, yi and pn\n",
    "xi_cheb = []; yi_cheb = []; pn_cheb = []\n",
    "for i, ni in enumerate(arr_n):\n",
    "    xi_cheb.append(cheb_points(xmin, xmax, ni))\n",
    "    yi_cheb.append(f(xi_cheb[i]))\n",
    "    pn_cheb.append(interpolate.KroghInterpolator(xi_cheb[i], yi_cheb[i]))\n",
    "\n",
    "fig = make_subplots(rows=2, cols=1, vertical_spacing = 0.1,\n",
    "                    subplot_titles=(\"Points équidistants \", \"Points de Tchebychef\"))\n",
    "\n",
    "# add f(x) plot\n",
    "\n",
    "#marker=dict(color='blue')\n",
    "'rgb(76,114,176)'\n",
    "fig.add_trace(go.Scatter(x=xplot, y=f(xplot), name=\"f(x)\", legendgroup=\"f\", marker=dict(color='rgb(76,114,176)')), row=1, col=1)\n",
    "fig.add_trace(go.Scatter(x=xplot, y=f(xplot), name=\"f(x)\", legendgroup=\"f\", showlegend=False, marker=dict(color='rgb(76,114,176)')), row=2, col=1)\n",
    "\n",
    "# add yi and pn(x) invisible plots\n",
    "for i, ni in enumerate(arr_n):\n",
    "    fig.add_trace(go.Scatter(visible=False, x=xplot, y=pn_equi[i](xplot), name=f\"p{ni}(x)\", \n",
    "                            marker=dict(color='rgb(221,132,82)')), row=1, col=1)\n",
    "    fig.add_trace(go.Scatter(visible=False, x=xi_equi[i], y=yi_equi[i], mode='markers', name=\"pts d'interpolation\",\n",
    "                             marker=dict(color='rgb(85,168,104)')), row=1, col=1)\n",
    "    fig.add_trace(go.Scatter(visible=False, x=xplot, y=pn_cheb[i](xplot), showlegend=False,\n",
    "                              marker=dict(color='rgb(221,132,82)')), row=2, col=1)\n",
    "    fig.add_trace(go.Scatter(visible=False, x=xi_cheb[i], y=yi_cheb[i], mode='markers', showlegend=False,\n",
    "                             marker=dict(color='rgb(85,168,104)')), row=2, col=1)\n",
    "    \n",
    "# Make plot visible for n=1\n",
    "fig.data[2].visible = True\n",
    "fig.data[3].visible = True\n",
    "fig.data[4].visible = True\n",
    "fig.data[5].visible = True\n",
    "\n",
    "# Create and add slider\n",
    "steps = []\n",
    "for i, ni in enumerate(arr_n):\n",
    "    step = dict(method=\"update\", label = f\" {ni+1}\",\n",
    "                args=[{\"visible\": [el==0 or el==1 or el==4*i+2 or el==4*i+3 or el==4*i+4 or el==4*i+5 for el in range(len(fig.data))]}])\n",
    "    steps.append(step)\n",
    "        \n",
    "sliders = [dict(currentvalue={\"prefix\": \"nb points: \"}, steps=steps)]\n",
    "\n",
    "fig.update_layout(sliders=sliders, height=750)\n",
    "fig.update_yaxes(range=[-.25, 1.25])\n",
    "fig.show()"
   ]
  },
  {
   "cell_type": "markdown",
   "id": "75b0a342",
   "metadata": {},
   "source": [
    "On remarque une nette amélioration de l'interpolation en utilisant les points de Tchebychev."
   ]
  }
 ],
 "metadata": {
  "@webio": {
   "lastCommId": null,
   "lastKernelId": null
  },
  "celltoolbar": "Format de la Cellule Texte Brut",
  "kernelspec": {
   "display_name": "Python 3 (ipykernel)",
   "language": "python",
   "name": "python3"
  },
  "language_info": {
   "codemirror_mode": {
    "name": "ipython",
    "version": 3
   },
   "file_extension": ".py",
   "mimetype": "text/x-python",
   "name": "python",
   "nbconvert_exporter": "python",
   "pygments_lexer": "ipython3",
   "version": "3.10.4"
  }
 },
 "nbformat": 4,
 "nbformat_minor": 5
}
