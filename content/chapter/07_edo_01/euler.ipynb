{
 "cells": [
  {
   "cell_type": "code",
   "execution_count": null,
   "metadata": {},
   "outputs": [],
   "source": [
    "#\n",
    "#    Notebook de cours MAP412 - Chapitre 7 - M. Massot 2022-2023 - Ecole polytechnique\n",
    "#    ----------   \n",
    "#    Limite de la méthode d'Euler\n",
    "#    \n",
    "#    Auteurs : L. Séries et M. Massot - (C) 2022\n",
    "#    "
   ]
  },
  {
   "cell_type": "markdown",
   "metadata": {},
   "source": [
    "# Limite des méthodes d'Euler"
   ]
  },
  {
   "cell_type": "code",
   "execution_count": null,
   "metadata": {
    "hidePrompt": true,
    "tags": [
     "hide-input"
    ]
   },
   "outputs": [],
   "source": [
    "import numpy as np\n",
    "from scipy.integrate import solve_ivp\n",
    "from scipy.optimize import root\n",
    "import plotly.graph_objects as go\n",
    "from plotly.subplots import make_subplots\n",
    "import plotly.io as pio\n",
    "pio.templates.default = \"seaborn\""
   ]
  },
  {
   "cell_type": "markdown",
   "metadata": {},
   "source": [
    "## Problème de Curtiss et Hirschfelder"
   ]
  },
  {
   "cell_type": "markdown",
   "metadata": {},
   "source": [
    "On considère le problème suivant :\n",
    "\n",
    "$$\n",
    "\\left\\{ \n",
    "\\begin{aligned} \n",
    "{\\mathrm d}_t y(t) & = k \\, \\big(cos(t) - y(t)) \\big) \\quad \\text{avec } k > 1\\\\ \n",
    "y(0)  & = y_0 \n",
    "\\end{aligned} \n",
    "\\right. \n",
    "$$\n"
   ]
  },
  {
   "cell_type": "code",
   "execution_count": null,
   "metadata": {
    "tags": [
     "hide-input"
    ]
   },
   "outputs": [],
   "source": [
    "class curtiss_model:\n",
    "\n",
    "    def __init__(self, k):\n",
    "        self.k = k\n",
    "\n",
    "    def fcn(self, t, y) :\n",
    "        k = self.k\n",
    "        y_dot = k * (np.cos(t) - y)\n",
    "        return y_dot\n",
    "\n",
    "    def sol(self, yini, t0, t):\n",
    "        k = self.k\n",
    "        c0 = (yini - (k/(k*k + 1)) * (k*np.cos(t0) + np.sin(t0))) * np.exp(-k*t0)\n",
    "        y = (k/(k*k + 1)) * (k*np.cos(t) + np.sin(t)) +  c0 * np.exp(-k*t)\n",
    "        return y"
   ]
  },
  {
   "cell_type": "markdown",
   "metadata": {},
   "source": [
    "### Solution exacte\n",
    "\n",
    "La solution exacte est donnée par :\n",
    "\n",
    "$$\n",
    "y(t) = \\frac{k}{k^2+1} \\bigg( k \\cos(t) + \\sin(t) \\bigg) + c_0 \\, e^{-k t} \\quad\n",
    "\\text{avec} \\quad c_0 = \\bigg( y_0 -\\frac{k}{k^2 + 1} \\Big( k \\cos(t_0) + \\sin(t_0) \\Big) \\bigg)  e^{-k t_0}   \n",
    "$$"
   ]
  },
  {
   "cell_type": "code",
   "execution_count": null,
   "metadata": {},
   "outputs": [],
   "source": [
    "yini = 2.\n",
    "tini = 0.\n",
    "tend = 2.\n",
    "k = 10.\n",
    "\n",
    "cm = curtiss_model(k)\n",
    "    \n",
    "texa = np.linspace(tini, tend, 1000)\n",
    "uexa = cm.sol(yini, tini, texa)\n",
    "\n",
    "fig = go.Figure()\n",
    "fig.add_trace(go.Scatter(x=texa, y=uexa, name='f(x)', marker_maxdisplayed=200))\n",
    "\n",
    "#create slider\n",
    "steps = []\n",
    "for k_i in range(10, 101, 10):\n",
    "    cm = curtiss_model(k_i)\n",
    "    step = dict(method=\"update\", label = f\"{k_i}\", args=[{\"y\": [cm.sol(yini, tini, texa)]}])\n",
    "    steps.append(step)\n",
    "sliders = [dict(currentvalue={'prefix': 'k = '}, steps=steps, pad={'t': 50})]\n",
    "\n",
    "fig.update_layout(sliders=sliders, title = 'Solution exacte du problème de Curtiss et Hirschfelder', \n",
    "                  xaxis_title=\"t\", yaxis_title=\"y\")\n",
    "\n",
    "fig.show()"
   ]
  },
  {
   "cell_type": "markdown",
   "metadata": {},
   "source": [
    "### Euler explicite\n",
    "\n",
    "La méthode d'Euler explicite pour résoudre \n",
    "\n",
    "$${\\mathrm d}_t y(t) = f(t,u)$$\n",
    "\n",
    "avec $y(0)=y_0$ s'écrit :\n",
    "\n",
    "$$\n",
    "\\left\\{\n",
    "\\begin{aligned}\n",
    "& y^0 = y_0 \\\\\n",
    "& y^{n+1} = y^n + \\Delta t \\; f(t^n,y^n) \\quad \\text{où} \\quad \\Delta t = t^{n+1} - t^n\n",
    "\\end{aligned}\n",
    "\\right.\n",
    "$$"
   ]
  },
  {
   "cell_type": "code",
   "execution_count": null,
   "metadata": {
    "tags": [
     "hide-input"
    ]
   },
   "outputs": [],
   "source": [
    "class ode_result:\n",
    "    def __init__(self, y, t):\n",
    "        self.y = y\n",
    "        self.t = t\n",
    "\n",
    "def forward_euler(tini, tend, nt, yini, fcn):\n",
    "\n",
    "    dt = (tend-tini) / (nt-1)\n",
    "    t = np.linspace(tini, tend, nt)\n",
    "\n",
    "    yini = np.atleast_1d(yini)\n",
    "    neq = yini.size\n",
    "\n",
    "    y = np.zeros((neq, nt))\n",
    "    y[:,0] = yini\n",
    "\n",
    "    for it, tn  in enumerate(t[:-1]):\n",
    "        yn = y[:,it]\n",
    "        y[:,it+1] = yn + dt*np.atleast_1d(fcn(tn, yn))\n",
    "\n",
    "    return ode_result(y, t)"
   ]
  },
  {
   "cell_type": "markdown",
   "metadata": {},
   "source": [
    "**Solution numérique et erreur**"
   ]
  },
  {
   "cell_type": "code",
   "execution_count": null,
   "metadata": {
    "tags": [
     "hide-input"
    ]
   },
   "outputs": [],
   "source": [
    "def sol_and_error_curtiss(yini, tini, tend, k, nt, method):\n",
    "    \n",
    "    if method == forward_euler:\n",
    "        str_method = \"Euler explicite\"\n",
    "    elif method == backward_euler:\n",
    "        str_method = \"Euler implicite\"\n",
    "    else:\n",
    "        print(\"Méthode inconnue pour la fonction\")\n",
    "        return\n",
    "    \n",
    "    cm = curtiss_model(k)\n",
    "    fcn = cm.fcn\n",
    "    \n",
    "    texa = np.linspace(tini, tend, 500)\n",
    "    yexa = cm.sol(yini, tini, texa)\n",
    "\n",
    "    nt_max= nt[-1]\n",
    "    dt_max = (tend-tini)/(nt_max-1)\n",
    "    sol = method(tini, tend, nt_max, yini, fcn)\n",
    "    err = np.abs(sol.y[0]-cm.sol(yini, tini, sol.t))[1:]\n",
    "    \n",
    "    # first plot\n",
    "    fig = make_subplots(rows=2, cols=1, subplot_titles=(str_method, \"Erreur globale\"), vertical_spacing=0.1)\n",
    "    color = fig.layout.template.layout.colorway\n",
    "    fig.add_trace(go.Scatter(x=texa, y=yexa, name='Sol. exacte', line_color='grey', legendgroup = 'sol'), \n",
    "                  row=1, col=1)\n",
    "    fig.add_trace(go.Scatter(x=sol.t, y=sol.y[0], mode='markers+lines', line_dash='dot', \n",
    "                             line_color=color[0], name='Sol. num', legendgroup = 'sol'), row=1, col=1)\n",
    "    fig.add_trace(go.Scatter(x=sol.t[1:], y=err, mode='markers+lines', line_dash='dot',\n",
    "                             line_color=color[1], name='erreur', legendgroup = 'err'), row=2, col=1)\n",
    "    \n",
    "    # create slider\n",
    "    steps = []\n",
    "    for i, nt_i in enumerate(nt):\n",
    "        sol = method(tini, tend, nt_i, yini, fcn)\n",
    "        err = np.abs(sol.y[0]-cm.sol(yini, tini, sol.t))[1:]\n",
    "        dt = (tend-tini)/(nt_i-1)\n",
    "        step = dict(method=\"update\", label = f\"{nt_i}\", args=[{\"x\": [texa, sol.t, sol.t[1:]], \n",
    "                                                               \"y\": [yexa, sol.y[0], err]},\n",
    "                {\"title\": f\"Solution and error for k={int(k)}, dt={dt:.4e} and k.dt={k*dt:.2f}\"}])\n",
    "        steps.append(step)\n",
    "\n",
    "    sliders = [dict(active=len(nt)-1, currentvalue={\"prefix\": \"nt : \"}, steps=steps)]\n",
    "\n",
    "    fig.update_yaxes(exponentformat='e', col=1)\n",
    "    legend = dict(tracegroupgap=300, groupclick=\"toggleitem\", x=0.8, bgcolor='rgba(0,0,0,0)')\n",
    "    fig.update_layout(height=800, sliders=sliders, legend=legend, \n",
    "                      title=f\"Solution and error for k={int(k)}, dt={dt_max:.4e} and k.dt={k*dt:.2f}\")\n",
    "\n",
    "    fig.show()"
   ]
  },
  {
   "cell_type": "code",
   "execution_count": null,
   "metadata": {},
   "outputs": [],
   "source": [
    "yini = 2.\n",
    "tini = 0.\n",
    "tend = 2.\n",
    "k = 50.\n",
    "\n",
    "nt_max = 200\n",
    "nt = np.hstack((np.arange(k-5, k+2, 1, dtype=int) , np.geomspace(k+2, nt_max, num=12, dtype=int)))\n",
    "\n",
    "sol_and_error_curtiss(yini, tini, tend, k, nt, forward_euler)"
   ]
  },
  {
   "cell_type": "markdown",
   "metadata": {},
   "source": [
    "### Euler implicite\n",
    "\n",
    "La méthode d'Euler implicite pour résoudre \n",
    "\n",
    "$${\\mathrm d}_t y(t) = f(t,u)$$\n",
    "\n",
    "avec $y(0)=y_0$ s'écrit :\n",
    "\n",
    "$$\n",
    "\\left\\{\n",
    "\\begin{aligned}\n",
    "& y^0 = y_0 \\\\\n",
    "& y^{n+1} = y^n + \\Delta t \\; f(t^{n+1},U^{n+1}) \\quad \\text{où} \\quad \\Delta t = t^{n+1} - t^n\n",
    "\\end{aligned}\n",
    "\\right.\n",
    "$$"
   ]
  },
  {
   "cell_type": "code",
   "execution_count": null,
   "metadata": {
    "tags": [
     "hide-input"
    ]
   },
   "outputs": [],
   "source": [
    "def backward_euler(tini, tend, nt, yini, fcn):\n",
    "\n",
    "    dt = (tend-tini) / (nt-1)\n",
    "    t = np.linspace(tini, tend, nt)\n",
    "\n",
    "    yini = np.atleast_1d(yini)\n",
    "    neq = yini.size\n",
    "\n",
    "    y = np.zeros((neq, nt), order='F')\n",
    "    y[:,0] = yini\n",
    "\n",
    "    def g(uip1, *args):\n",
    "        uip, tip1 = args\n",
    "        return uip1 - uip - dt*np.array(fcn(tip1, uip1))\n",
    "\n",
    "    for it, tn  in enumerate(t[:-1]):\n",
    "        yn = y[:,it]\n",
    "        y0 = yn + dt*np.atleast_1d(fcn(tn, yn))\n",
    "        # solve y[:,it+1] - y[:,it] - dt * fcn(tini + (it+1)*dt, y[:,it+1]) = 0\n",
    "        sol = root(g, y0, (yn, tn+dt))\n",
    "        y[:,it+1] = sol.x\n",
    "\n",
    "    return ode_result(y, t)"
   ]
  },
  {
   "cell_type": "markdown",
   "metadata": {},
   "source": [
    "**Solution et erreur**"
   ]
  },
  {
   "cell_type": "code",
   "execution_count": null,
   "metadata": {},
   "outputs": [],
   "source": [
    "yini = 2.\n",
    "tini = 0.\n",
    "tend = 2.\n",
    "k = 60.\n",
    "\n",
    "nt_max = 200\n",
    "nt = np.linspace(10, nt_max, 20, dtype=int)\n",
    "\n",
    "sol_and_error_curtiss(yini, tini, tend, k, nt, backward_euler)"
   ]
  },
  {
   "cell_type": "markdown",
   "metadata": {},
   "source": [
    "## Explosion thermique\n",
    "\n",
    "Nous abordons la théorie de l’explosion thermique étudiée par Semenov et Frank-Kamenetskii dans la première partie du XXème siècle. Nous considérons un réacteur chimique homogène décrit par l’évolution d’une température adimensionnée $\\theta$. La variable $\\theta$ vaut zéro au temps initial, elle est monotone croissante et, suite à un emballement thermique, elle va brutalement s’élever et atteindre la température adiabatique de flamme adimensionnée $T_r$ en fin de réaction. Sous certaines hypothèses sur la réaction (constante d’avancement sous la forme d’une loi d’Arrhenius, réaction globale d’ordre un par rapport à la fraction massique de combustible, adimensionnement du temps pour que le temps d’allumage se situe autour de\n",
    "1 - grande énergie d’activation), que nous de détaillerons pas, on arrive à une équation différentielle de la forme suivante :\n",
    "\n",
    "$$\n",
    "d_{\\tau} \\widetilde{\\theta} = f(\\widetilde{\\theta}) = \\exp\\Bigg(\\frac{\\widetilde{\\theta}}{1 + \\widetilde{\\theta} \\, / \\, \\beta}\\Bigg) \\Bigg(1 - \\frac{\\widetilde{\\theta}}{\\overline T_r} \\Bigg)\n",
    "$$\n",
    "\n",
    "où $\\beta$ est directement reliée à l’énergie d’activation ($\\beta = \\frac{E_a}{RT_0}$) où $E_a$ est l’énergie d’activation de la réaction, $R$ la contante des gaz parfaits et $T_0$ la température initiale dimensionnelle)."
   ]
  },
  {
   "cell_type": "code",
   "execution_count": null,
   "metadata": {
    "tags": [
     "hide-input"
    ]
   },
   "outputs": [],
   "source": [
    "class explosion_with_consumption_1eq_model:\n",
    "\n",
    "    def __init__(self, Tr, beta):\n",
    "        self.Tr = Tr\n",
    "        self.beta = beta \n",
    "\n",
    "    def fcn(self, t, theta):\n",
    "        beta = self.beta\n",
    "        Tr = self.Tr\n",
    "        theta_dot = np.exp(theta/(1+(theta/beta))) * (1-theta/Tr) \n",
    "        return theta_dot\n",
    "    \n",
    "    def jac(self, t, theta):\n",
    "        beta = self.beta\n",
    "        Tr = self.Tr\n",
    "        exp = np.exp(theta/(1+(theta/beta)))\n",
    "        return (exp/(1+theta/beta)**2) * (1-theta/Tr) - exp/Tr"
   ]
  },
  {
   "cell_type": "code",
   "execution_count": null,
   "metadata": {},
   "outputs": [],
   "source": [
    "Tr = 200.0\n",
    "beta = 10. \n",
    "\n",
    "emwc1eq = explosion_with_consumption_1eq_model(Tr, beta)\n",
    "fcn = emwc1eq.fcn\n",
    "jac = emwc1eq.jac\n",
    "\n",
    "tini = 0.0\n",
    "tend = 5.0\n",
    "nt = np.array([171, 201, 401, 501])\n",
    "\n",
    "yini = (0.,)\n",
    "\n",
    "fig = go.Figure()\n",
    "\n",
    "for i, nt_i in enumerate(nt):\n",
    "    \n",
    "    dt = (tend-tini) / (nt_i-1)\n",
    "\n",
    "    emwc1eq = explosion_with_consumption_1eq_model(Tr, beta)\n",
    "    fcn = emwc1eq.fcn\n",
    "    jac = emwc1eq.jac\n",
    "\n",
    "    sol_ref = solve_ivp(fcn, (tini, tend), yini, method='Radau', atol=1.e-8, rtol=1.e-8)\n",
    "    sol_fe = forward_euler(tini, tend, nt_i, yini, fcn)\n",
    "    sol_be = backward_euler(tini, tend, nt_i, yini, fcn)\n",
    "\n",
    "    fig.add_trace(go.Scatter(visible=False, x=sol_ref.t, y=sol_ref.y[0],  line_color='rgb(76,114,176)', legendgroup='sol', mode='lines+markers',\n",
    "                         legendgrouptitle_text=\"Solution\", name='ref sol'))\n",
    "    fig.add_trace(go.Scatter(visible=False, x=sol_fe.t, y=sol_fe.y[0], line_color='rgb(221,132,82)', legendgroup='sol', mode='lines+markers',\n",
    "                         legendgrouptitle_text=\"Solution\", name='forward euler'))\n",
    "    fig.add_trace(go.Scatter(visible=False, x=sol_be.t, y=sol_be.y[0], line_color='rgb(85,168,104)', legendgroup='sol', mode='lines+markers',\n",
    "                         legendgrouptitle_text=\"Solution\", name='backward euler'))\n",
    "\n",
    "for i in range(3): fig.data[i].visible = True\n",
    "\n",
    "# create slider\n",
    "steps = []\n",
    "for i, nt_i in enumerate(nt):\n",
    "    step = dict(method=\"update\", label = f\"{nt_i}\", \n",
    "                args=[{\"visible\": [(el==3*i) or (el==3*i+1) or (el==3*i+2) for el in range(len(fig.data))]}])\n",
    "    steps.append(step)\n",
    "sliders = [dict(currentvalue={'prefix': 'nt = '}, steps=steps)]\n",
    "\n",
    "fig.update_layout(sliders=sliders, height=500)\n",
    "fig.show()"
   ]
  }
 ],
 "metadata": {
  "@webio": {
   "lastCommId": null,
   "lastKernelId": null
  },
  "celltoolbar": "Format de la Cellule Texte Brut",
  "kernelspec": {
   "display_name": "Python 3 (ipykernel)",
   "language": "python",
   "name": "python3"
  },
  "language_info": {
   "codemirror_mode": {
    "name": "ipython",
    "version": 3
   },
   "file_extension": ".py",
   "mimetype": "text/x-python",
   "name": "python",
   "nbconvert_exporter": "python",
   "pygments_lexer": "ipython3",
   "version": "3.10.4"
  }
 },
 "nbformat": 4,
 "nbformat_minor": 4
}
