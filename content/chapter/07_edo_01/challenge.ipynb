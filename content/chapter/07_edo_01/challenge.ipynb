{
 "cells": [
  {
   "cell_type": "code",
   "execution_count": null,
   "id": "48c48484-bfb5-4461-a891-2288c90e8c25",
   "metadata": {
    "tags": []
   },
   "outputs": [],
   "source": [
    "#\n",
    "#    Notebook de cours MAP412 - Chapitre 7 - M. Massot 2022-2023 - Ecole polytechnique\n",
    "#    ----------   \n",
    "#    Challenge : une méthode à pas de temps adaptative\n",
    "#    \n",
    "#    Auteurs : L. Séries et M. Massot - (C) 2022\n",
    "#    "
   ]
  },
  {
   "cell_type": "markdown",
   "id": "536c0a0b-8b20-4da2-a78c-2ddc55e27761",
   "metadata": {},
   "source": [
    "# Challenge : une méthode à pas de temps adaptative"
   ]
  },
  {
   "cell_type": "code",
   "execution_count": null,
   "id": "2b75eac0-4278-480b-96de-5a1e659ddfb0",
   "metadata": {
    "tags": [
     "hide-input"
    ]
   },
   "outputs": [],
   "source": [
    "import numpy as np\n",
    "from scipy.optimize import root\n",
    "from scipy.integrate import solve_ivp\n",
    "import plotly.graph_objects as go\n",
    "from plotly.subplots import make_subplots\n",
    "import plotly.io as pio\n",
    "pio.templates.default = \"seaborn\""
   ]
  },
  {
   "cell_type": "markdown",
   "id": "15004aac-7fd2-486e-95e8-45bd61b67d79",
   "metadata": {},
   "source": [
    "## Estimateur d'erreur\n",
    "\n",
    "Dans un premier temps, nous montrons comment construire un estimateur de l'erreur locale de troncature à partir des itérés de la méthode d'Euler explicite. L'estimateur permet de prédire un pas de temps adaptatif et de réduire le coût de la méthode à précision fixée. Cet estimateur est testé sur l'équation de Hisrchfelder et Curtis; il fonctionne bien quand la tolérance est suffisamment petite mais pose des problèmes quand la tolérance est grande. Le but du challenge est alors d'expliquer ce comportement à l'aide des éléments présentés en amphi.\n",
    "\n",
    "On rappelle que dans le cours, l'erreur locale de troncature peut s'estimer à partir de la dérivée seconde de la solution $ \\mathcal{E}_n = \\frac{\\Delta t_n^2}{2} y''(t_n) + O(\\Delta t_n^3)$. Lorsque l'on utilise un solveur de type Euler-Cauchy ou Euler explicite, montrer qu'un estimateur de l'erreur locale de troncature peut être donné par \n",
    "\n",
    "$$\n",
    "\\frac{\\Delta t_n}{2}  \\left ( f(t_{n}, y_{n}) - f(t_{n-1}, y_{n-1})\\right ), \\qquad y''(t_n) \\simeq \\frac{f(t_{n}, y_{n}) - f(t_{n-1}, y_{n-1})}{\\Delta t_n}.\n",
    "$$\n",
    "\n",
    "Lorsque l'utilisateur veut adapter le pas de temps de manière à obtenir une erreur locale de troncature majorée par une tolérance $\\epsilon$ qu'il choisit, montrer que le pas de temps à l'instant $n$ peut être choisi par la formule : \n",
    "\n",
    "$$\n",
    "\\Delta t_{n} =   \\sqrt{\\frac{2\\epsilon \\Delta t_{n}}{f(t_{n}, y_n) - f(t_{n-1}, y_{n-1})} },\n",
    "$$\n",
    "\n",
    "dans la mesure où l'utilisateur fournit aussi un pas de temps initial. "
   ]
  },
  {
   "cell_type": "markdown",
   "id": "f4f8869a-5d6e-4ec6-b871-d47f241289e3",
   "metadata": {},
   "source": [
    "## Mise en oeuvre sur le problème de Curtiss et Hirschfelder\n",
    "\n",
    "On considère le problème suivant :\n",
    "\n",
    "$$\n",
    "\\left\\{ \n",
    "\\begin{aligned} \n",
    "{\\mathrm d}_t u(t) & = k \\, \\big(cos(t) - u(t)) \\big) \\quad \\text{with } k > 1\\\\ \n",
    "u(0)  & = u_0 \n",
    "\\end{aligned} \n",
    "\\right. \n",
    "$$"
   ]
  },
  {
   "cell_type": "code",
   "execution_count": null,
   "id": "1aaa3468-fb81-42ac-9dbe-3b13182bf01f",
   "metadata": {
    "tags": [
     "hide-input"
    ]
   },
   "outputs": [],
   "source": [
    "class curtiss_model:\n",
    "\n",
    "    def __init__(self, k):\n",
    "        self.k = k\n",
    "\n",
    "    def fcn(self, t, u) :\n",
    "        k = self.k\n",
    "        u_dot = k * (np.cos(t) - u)\n",
    "        return u_dot\n",
    "\n",
    "    def sol(self, uini, t0, t):\n",
    "        k = self.k\n",
    "\n",
    "        c0 = (uini - (k/(k*k + 1)) * (k*np.cos(t0) + np.sin(t0))) * np.exp(k*t0)\n",
    "        u = (k/(k*k + 1)) * (k*np.cos(t) + np.sin(t)) +  c0 * np.exp(-k*t)\n",
    "        return u"
   ]
  },
  {
   "cell_type": "markdown",
   "id": "c387e0ad-0605-4334-9f7f-960da0ac4a53",
   "metadata": {},
   "source": [
    "### Euler explicite\n",
    "\n",
    "Dans la suite le lecteur pourra observer cette méthode pour plusieurs tolérances. On pourra remarquer que prendre une tolérance à 10−5 conduit à une solution de qualité, d'un niveau d'erreur inférieur à une solution avec 200 points mais avec un nombre de point environ deux fois plus petit. Choisir une tolérance plus grande 10−4 conduit à des comportements entachés d'erreurs importantes hors de la couche limite en temps initiale. Expliquer ce phénomène."
   ]
  },
  {
   "cell_type": "code",
   "execution_count": null,
   "id": "5fc8ca20-0679-43b8-b46a-1de413400e4f",
   "metadata": {
    "tags": [
     "hide-input"
    ]
   },
   "outputs": [],
   "source": [
    "#####################################################\n",
    "class ode_result:\n",
    "    def __init__(self, y, t):\n",
    "        self.y = y\n",
    "        self.t = t\n",
    "\n",
    "#####################################################\n",
    "def forward_euler(tini, tend, nt, yini, fcn):\n",
    "\n",
    "    dt = (tend-tini) / (nt-1)\n",
    "    t = np.linspace(tini, tend, nt)\n",
    "\n",
    "    yini = np.atleast_1d(yini)\n",
    "    neq = yini.size\n",
    "\n",
    "    y = np.zeros((neq, nt))\n",
    "    y[:,0] = yini\n",
    "\n",
    "    for it, tn  in enumerate(t[:-1]):\n",
    "        yn = y[:,it]\n",
    "        y[:,it+1] = yn + dt*np.array(fcn(tn, yn))\n",
    "\n",
    "    return ode_result(y, t)\n",
    "\n",
    "#####################################################\n",
    "def forward_euler_adapted(tini, tend, dtini, yini, fcn, tol=1e-6):\n",
    "\n",
    "    t = [tini];\n",
    "\n",
    "    yini = np.atleast_1d(yini)\n",
    "    y = [yini]\n",
    "        \n",
    "    dt = dtini\n",
    "    tn = tini\n",
    "    it = 0\n",
    "    \n",
    "    while (tn<tend):\n",
    "        yn = y[it]\n",
    "        y.append(yn + dt*np.array(fcn(tn, yn)))\n",
    "        tn += dt\n",
    "        t.append(tn)\n",
    "        ddy = abs(y[it+1]-yn)/dt\n",
    "        dt = np.sqrt(2*tol/np.linalg.norm(ddy))\n",
    "        if (tn+dt)>tend: dt = tend-tn\n",
    "        it += 1\n",
    "        \n",
    "    y = np.stack(y, axis=1)\n",
    "    t = np.array(t)\n",
    "    \n",
    "    return ode_result(y, t)"
   ]
  },
  {
   "cell_type": "code",
   "execution_count": null,
   "id": "dc030a5f-3029-4e8d-84b9-81acb683a16a",
   "metadata": {},
   "outputs": [],
   "source": [
    "uini = (2.,)\n",
    "tini = 0.\n",
    "tend = 0.5\n",
    "k = 100.\n",
    "\n",
    "cm = curtiss_model(k)\n",
    "fcn = cm.fcn\n",
    "\n",
    "fig = make_subplots(rows=2, cols=1, subplot_titles=(\"Solution\", \"Erreur\"))\n",
    "\n",
    "nt = 200\n",
    "sol = forward_euler(tini, tend, nt, uini, fcn)\n",
    "err = np.abs(sol.y[0] - cm.sol(uini, tini, sol.t))\n",
    "print(\"Euler explicite :\", end=\"\")\n",
    "print(f\"  nb de points temporels = {nt}\")\n",
    "\n",
    "color = fig.layout.template.layout.colorway\n",
    "fig.add_trace(go.Scatter(x=sol.t, y=sol.y[0], name='euler', mode='markers+lines', line_color=color[0], legendgroup='sol'), row=1, col=1)\n",
    "fig.add_trace(go.Scatter(x=sol.t, y=err, name='euler', mode='markers+lines', line_color=color[0], legendgroup='err'), row=2, col=1)\n",
    "\n",
    "dtini = 1e-4\n",
    "tol = [1e-4, 1e-5, 1e-6]\n",
    "for tol_i in tol:\n",
    "    sol_adapt = forward_euler_adapted(tini, tend, dtini, uini, fcn, tol=tol_i)\n",
    "    err_adapt = np.abs(sol_adapt.y[0] - cm.sol(uini, tini, sol_adapt.t))\n",
    "    print(f\"Euler explicite adaptée avec une tolérance à {tol_i:.2e}:\", end=\"\")\n",
    "    print(f\"  nb de points temporels = {sol_adapt.t.size}\")\n",
    "    fig.add_trace(go.Scatter(visible=False, x=sol_adapt.t, y=sol_adapt.y[0], name='euler<br>adaptée', \n",
    "                             line_color=color[1], mode='markers+lines', legendgroup='sol'), row=1, col=1)\n",
    "    fig.add_trace(go.Scatter(visible=False, x=sol_adapt.t, y=err_adapt, name='euler<br>adaptée', \n",
    "                             line_color=color[1], mode='markers+lines', legendgroup='err'), row=2, col=1)\n",
    "\n",
    "fig.data[2].visible = True\n",
    "fig.data[3].visible = True\n",
    "\n",
    "steps = []\n",
    "for i, tol_i in enumerate(tol):\n",
    "    args = [{\"visible\": [(el==0) or (el==1) or (el==2*i+2) or (el==2*i+3) for el in range(len(fig.data))]}]\n",
    "    step = dict(method=\"update\", label=f\"{tol_i:.2e}\", args=args)\n",
    "    steps.append(step)\n",
    "sliders = [dict(currentvalue={'prefix': 'tol = '}, steps=steps)]\n",
    "\n",
    "legend = dict(x=0.9, bgcolor='rgba(0,0,0,0)', tracegroupgap=280, groupclick=\"toggleitem\")\n",
    "fig.update_xaxes(title='t')\n",
    "fig.update_layout(height=750, sliders=sliders, legend=legend)"
   ]
  }
 ],
 "metadata": {
  "kernelspec": {
   "display_name": "Python 3 (ipykernel)",
   "language": "python",
   "name": "python3"
  },
  "language_info": {
   "codemirror_mode": {
    "name": "ipython",
    "version": 3
   },
   "file_extension": ".py",
   "mimetype": "text/x-python",
   "name": "python",
   "nbconvert_exporter": "python",
   "pygments_lexer": "ipython3",
   "version": "3.10.12"
  }
 },
 "nbformat": 4,
 "nbformat_minor": 5
}
