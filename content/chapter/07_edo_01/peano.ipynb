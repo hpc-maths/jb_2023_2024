{
 "cells": [
  {
   "cell_type": "code",
   "execution_count": null,
   "id": "d84bb734-f48f-4c67-8103-3af723098697",
   "metadata": {},
   "outputs": [],
   "source": [
    "#\n",
    "#    Notebook de cours MAP412 - Chapitre 7 - M. Massot 2022-2023 - Ecole polytechnique\n",
    "#    ----------   \n",
    "#    Impact de la régularité\n",
    "#    \n",
    "#    Auteurs : L. Séries et M. Massot - (C) 2022\n",
    "#    "
   ]
  },
  {
   "cell_type": "markdown",
   "id": "bcbf3627",
   "metadata": {},
   "source": [
    "# Impact de la régularité"
   ]
  },
  {
   "cell_type": "code",
   "execution_count": null,
   "id": "00964fac",
   "metadata": {
    "tags": [
     "hide-input"
    ]
   },
   "outputs": [],
   "source": [
    "import numpy as np\n",
    "import plotly.graph_objects as go\n",
    "import plotly.io as pio\n",
    "pio.templates.default = \"seaborn\""
   ]
  },
  {
   "cell_type": "markdown",
   "id": "90eb1863-36a2-40ff-ba24-f9ffb5bbafc7",
   "metadata": {},
   "source": [
    "## Fonction de Peano"
   ]
  },
  {
   "cell_type": "markdown",
   "id": "c9569839-ac96-4bcc-b0f6-01fde1a3b86f",
   "metadata": {},
   "source": [
    "On consière l'équation non-autonome suivante :\n",
    "\n",
    "$$\n",
    "{\\mathrm d}_t u = f(t,u), \\quad u(0)=0.\n",
    "$$\n",
    "\n",
    "avec\n",
    "\n",
    "$$\n",
    "\\DeclareMathOperator{\\sign}{sign}\n",
    "f(t,u) = 4 \\bigg( \\sign(u) \\sqrt{|u|} +\\max \\bigg(0, t - \\frac{|u|}{t} \\bigg) \\cos \\bigg( \\frac{\\pi \\log(t)}{\\log 2} \\bigg) \\bigg), \\quad t> 0\n",
    "$$\n",
    "\n",
    "et \n",
    "\n",
    "$$\n",
    "\\DeclareMathOperator{\\sign}{sign}\n",
    "f(t,u) = 4 \\bigg( \\sign(u) \\sqrt{|u|}\\bigg), \\quad t = 0\n",
    "$$\n"
   ]
  },
  {
   "cell_type": "code",
   "execution_count": null,
   "id": "93858282",
   "metadata": {},
   "outputs": [],
   "source": [
    "def peano_fcn(t, u):\n",
    "    if t==0. : \n",
    "        ret = 4 * ( np.sign(u) * np.sqrt(abs(u))) \n",
    "    else :\n",
    "        ret = 4 * ( np.sign(u) * np.sqrt(abs(u)) + max(0, t - abs(u)/t) * np.cos ((np.pi * np.log(t)) / np.log(2)) )\n",
    "    return ret"
   ]
  },
  {
   "cell_type": "code",
   "execution_count": null,
   "id": "1d364aba",
   "metadata": {
    "tags": [
     "hide-input"
    ]
   },
   "outputs": [],
   "source": [
    "##############################################\n",
    "class ode_result:\n",
    "    def __init__(self, y, t):\n",
    "        self.y = y\n",
    "        self.t = t\n",
    "\n",
    "##############################################\n",
    "def forward_euler(tini, tend, nt, yini, fcn):\n",
    "\n",
    "    dt = (tend-tini) / (nt-1)\n",
    "    t = np.linspace(tini, tend, nt)\n",
    "\n",
    "    yini = np.atleast_1d(yini)\n",
    "    neq = yini.size\n",
    "\n",
    "    y = np.zeros((neq, nt))\n",
    "    y[:,0] = yini\n",
    "\n",
    "    for it, tn  in enumerate(t[:-1]):\n",
    "        yn = y[:,it]\n",
    "        y[:,it+1] = yn + dt*np.atleast_1d(fcn(tn, yn))\n",
    "\n",
    "    return ode_result(y, t)"
   ]
  },
  {
   "cell_type": "markdown",
   "id": "000d29b9-b8fc-4573-b3e7-c2314ff2610b",
   "metadata": {},
   "source": [
    "## Résolution par la méthode d'Euler"
   ]
  },
  {
   "cell_type": "code",
   "execution_count": null,
   "id": "5a5e0df2",
   "metadata": {},
   "outputs": [],
   "source": [
    "uini = 0.0\n",
    "tini = 0.0\n",
    "tend = 1.0\n",
    "\n",
    "fcn = peano_fcn\n",
    "\n",
    "fig = go.Figure()\n",
    "\n",
    "for i in np.arange(2,11):\n",
    "    nt = pow(2,i)+1\n",
    "    usol = forward_euler(tini, tend, nt, uini, fcn)\n",
    "    fig.add_trace(go.Scatter(x=usol.t, y=usol.y[0], mode='lines+markers', line_dash='dot', name='dt=1/'+str(nt-1)))\n",
    "\n",
    "fig.update_layout(height=500)\n",
    "fig.update_xaxes(title='t')\n",
    "fig.update_yaxes(title='u')\n",
    "fig.show()"
   ]
  }
 ],
 "metadata": {
  "@webio": {
   "lastCommId": null,
   "lastKernelId": null
  },
  "celltoolbar": "Format de la Cellule Texte Brut",
  "kernelspec": {
   "display_name": "Python 3 (ipykernel)",
   "language": "python",
   "name": "python3"
  },
  "language_info": {
   "codemirror_mode": {
    "name": "ipython",
    "version": 3
   },
   "file_extension": ".py",
   "mimetype": "text/x-python",
   "name": "python",
   "nbconvert_exporter": "python",
   "pygments_lexer": "ipython3",
   "version": "3.10.4"
  }
 },
 "nbformat": 4,
 "nbformat_minor": 5
}
