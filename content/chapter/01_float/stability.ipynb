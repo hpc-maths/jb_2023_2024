{
 "cells": [
  {
   "cell_type": "code",
   "execution_count": null,
   "id": "2e79ea8e-c5c7-4caf-ab6d-702be0e95993",
   "metadata": {},
   "outputs": [],
   "source": [
    "#\n",
    "#    Notebook de cours MAP412 - Chapitre 1 - M. Massot 2023-2024 - Ecole polytechnique\n",
    "#    ----------   \n",
    "#    Stabilité d'un algorithme\n",
    "#    \n",
    "#    Auteurs : L. Séries et M. Massot - (C) 2023\n",
    "#    "
   ]
  },
  {
   "cell_type": "code",
   "execution_count": null,
   "id": "a02ffb9d-d65e-40d4-9c47-8dff6117ef3b",
   "metadata": {},
   "outputs": [],
   "source": [
    "import plotly.graph_objects as go\n",
    "import numpy as np\n",
    "import plotly.io as pio\n",
    "pio.templates.default = \"seaborn\""
   ]
  },
  {
   "cell_type": "markdown",
   "id": "17511ff2-15e9-4903-93cc-0f484e1d829b",
   "metadata": {},
   "source": [
    "# Stabilité d'un algorithme"
   ]
  },
  {
   "cell_type": "markdown",
   "id": "parliamentary-minute",
   "metadata": {},
   "source": [
    "## Evaluation d'une fonction (cas mal conditionné)"
   ]
  },
  {
   "cell_type": "markdown",
   "id": "arctic-crowd",
   "metadata": {},
   "source": [
    "Nous étudions le conditionnement de la fonction $P(x) = (x − 1)^6,$ dans un premier temps dans un voisinage de la valeur $x_0 = 1$. Il n’est pas compliqué de voir que le conditionnement en $x$ vaut $\\kappa(x) = x / \\mathcal{P}(x) \\sup_{|y-x|<\\epsilon_M}\\mathcal{P}^\\prime(y)$ et vaut donc approximativement $6x/|x-1|$ dans ce voisinage, ce qui veut dire que le problème y est mal conditionné.\n",
    "\n",
    "Il est proposé d'utiliser trois algorithmes pour évaluer la fonction dans l’intervalle $[0.995 , 1.005]$. Ces trois algorithmes sont basés sur trois formes équivalentes mathématiquement et qui possèdent donc le même conditionnement :\n",
    "- la forme factorisée $P(x) = (1 − x)^6$\n",
    "- la forme développée $P(x) = x^6 − 6x^5 + 15x^4 − 20x^3 + 15x^2 − 6x + 1$\n",
    "- la forme utilisant l’algorithme de Horner $P(x) = ((((((x − 6)x + 15)x − 20)x + 15)x − 6)x + 1)$ "
   ]
  },
  {
   "cell_type": "code",
   "execution_count": null,
   "id": "characteristic-candle",
   "metadata": {
    "scrolled": true
   },
   "outputs": [],
   "source": [
    "def P1(x):\n",
    "    return (x-1)**6\n",
    "\n",
    "def P2(x):\n",
    "    return x**6-6*x**5+15*x**4-20*x**3+15*x**2-6*x+1\n",
    "\n",
    "def P3(x):\n",
    "    return ((((((x-6)*x+15)*x-20)*x+15)*x-6)*x+1)"
   ]
  },
  {
   "cell_type": "markdown",
   "id": "wanted-program",
   "metadata": {},
   "source": [
    "Pour illustrer le comportement de cette évaluation dans le voisinage de 1, la cellule suivante permet de représenter les graphes de la fonction en utilisant les trois algorithmes pour évaluer la fonction."
   ]
  },
  {
   "cell_type": "code",
   "execution_count": null,
   "id": "superior-england",
   "metadata": {},
   "outputs": [],
   "source": [
    "xmin = 0.995\n",
    "xmax = 1.005\n",
    "x = np.linspace(xmin,xmax, 1000)\n",
    "\n",
    "vmin = min(np.min(P1(x)), np.min(P2(x)), np.min(P3(x)))\n",
    "vmax = max(np.max(P1(x)), np.max(P2(x)), np.max(P3(x)))\n",
    "\n",
    "fig = go.Figure()\n",
    "fig.add_trace(go.Scatter(x=x, y=P1(x), name='factorized form'))\n",
    "fig.add_trace(go.Scatter(x=x, y=P2(x), name='developped form'))\n",
    "fig.add_trace(go.Scatter(x=x, y=P3(x), name='Horner form'))\n",
    "fig.update_yaxes(exponentformat='e', range=[1.1*vmin, 1.1*vmax])\n",
    "fig.update_layout(xaxis_title=\"x\", yaxis_title=\"P(x)\", height=500, legend=dict(orientation=\"h\", y=1.1))\n",
    "fig.show()"
   ]
  },
  {
   "cell_type": "markdown",
   "id": "martial-collect",
   "metadata": {},
   "source": [
    "Nous constatons que le fait que le problème soit mal conditionné dans cet intervalle peut avoir un impact important sur les erreurs suivant l’algorithme que l’on utilise. La forme développée et Horner donnent un niveau d’erreur relativement presque deux ordres de grandeur plus important que la forme factorisée. Les oscillations sont de plus grande amplitude près de 1 où le conditionnement est mauvais et s’estompent peu à peu lorsque l’on s’en éloigne ce qui semble montrer que les erreurs d’évaluation sont directement reliées au conditionnement.\n",
    "\n",
    "Le mauvais conditionnement que nous avons identifié implique donc de potentielles difficultés d’évaluation et une forte sensibilité à l’algorithme utilisé. Ceci signifie que le choix de l’algorithme aura d’autant plus d’importance que le problème est mal conditionné et il nous faut donc un outil pour évaluer un algorithme. En conclusion, le conditionnement donne une information importante et intrinsèque au problème mathématique que l’on souhaite résoudre mais l’algorithme utilisé joue aussi un rôle et il nous faut pouvoir l’évaluer."
   ]
  },
  {
   "cell_type": "markdown",
   "id": "5a530e0b-b1fd-4972-9104-9375dcf14d89",
   "metadata": {},
   "source": [
    "## Evaluation d'une fonction (cas bien conditionné)"
   ]
  },
  {
   "cell_type": "markdown",
   "id": "1c40493a-2deb-4e38-ad9a-de8b45f7a314",
   "metadata": {},
   "source": [
    "On considère l'évaluation de la fonction $g(x)$ écrite sous deux formes différentes :\n",
    "\n",
    "$$g_1(x) = \\displaystyle \\frac{1}{x(x+1)} \\quad \\text{et} \\quad g_2(x) = \\displaystyle \\frac{1}{x} - \\frac{1}{x+1}$$ "
   ]
  },
  {
   "cell_type": "code",
   "execution_count": null,
   "id": "e4f5958a-5ef8-43c6-8708-9ec8e21b8c4e",
   "metadata": {},
   "outputs": [],
   "source": [
    "def g1(x):\n",
    "    return 1/(x*(x+1))\n",
    "\n",
    "def g2(x):\n",
    "    return 1/x - 1/(x+1)"
   ]
  },
  {
   "cell_type": "markdown",
   "id": "75afb9d2-08fc-4d87-b324-ba6fd5629471",
   "metadata": {},
   "source": [
    "Il est aisé de voir que dans un voisinage de la valeur de $x$ utilisé, toutes les opérations de l’algorithme $g_1$ sont bien conditionnées et l’algorithme est numériquement stable. Par contre, la soustraction dans un voisinage où $1/x ≈ 1/(x + 1)$, est mal conditionnée et l’algorithme $g_2$ est numériquement instable avec une constante potentiellement grande qui va générer une erreur importante."
   ]
  },
  {
   "cell_type": "markdown",
   "id": "7cd2d1e6-39af-4582-bad9-35f5f75d254c",
   "metadata": {},
   "source": [
    "### Evaluation de la fonction $g(x)$ pour $x = 10000$"
   ]
  },
  {
   "cell_type": "code",
   "execution_count": null,
   "id": "22521087-d00e-4187-aeb0-d6776c224fb8",
   "metadata": {},
   "outputs": [],
   "source": [
    "from mpmath import mp\n",
    "\n",
    "# Evaluation de la valeur de référence en utilisant des flottants quadruple précision\n",
    "mp.prec = 113\n",
    "gref = mp.mpf('1/100010000')\n",
    "print(f\"Valeur de réference avec {mp.dps} chiffres significatifs = {gref}\")\n",
    "\n",
    "# simple precision\n",
    "mp.prec = 24\n",
    "print(f\"\\nTaille de la mantisse : {mp.prec} bits\")\n",
    "print(f\"Valeur de réference avec {mp.dps} chiffres significatifs : {mp.nstr(gref, mp.dps, strip_zeros=False)}\")\n",
    "# Evaluation des fonctions\n",
    "x = mp.mpf('10000')\n",
    "print(f\"1ere forme avec {mp.dps} chiffres significatifs : g(x={x}) = {mp.nstr(g1(x), mp.dps, strip_zeros=False)}\")\n",
    "print(f\"2eme forme avec {mp.dps} chiffres significatifs : g(x={x}) = {g2(x)}\")\n",
    "\n",
    "# double precision\n",
    "mp.prec = 53\n",
    "print(f\"\\nTaille de la mantisse : {mp.prec} bits\")\n",
    "print(f\"Valeur de réference avec {mp.dps} chiffres significatifs : {mp.nstr(gref, mp.dps, strip_zeros=False)}\")\n",
    "# Evaluation des fonctions\n",
    "x = mp.mpf('10000')\n",
    "print(f\"1ere forme avec {mp.dps} chiffres significatifs : g(x={x}) = {mp.nstr(g1(x), mp.dps, strip_zeros=False)}\")\n",
    "print(f\"2eme forme avec {mp.dps} chiffres significatifs : g(x={x}) = {g2(x)}\")"
   ]
  },
  {
   "cell_type": "markdown",
   "id": "a3871407-4834-4c1b-8b98-398b76e8ddc8",
   "metadata": {},
   "source": [
    "Après avoir observé la valeur de référence obtenue avec 33 chiffres significatifs, on utilise d'une part la simple et d'autre part la double précision. Alors que l'algorithme 1 se comporte très bien avec une erreur de l'ordre de l'erreur machine, ce qui indique une très bonne constante de stabilité backward pour ce problème bien conditionné, l'algorithme 2 nous conduit à une perte de 3 à 4 chiffres significatifs (on rappelle que ce problème est lié à la valeur à laquelle on évalue la fonction) indiquant localement un algorithme avec une constante de stabilité backward beaucoup moins favorable comme attendu par le conditionnement de la soustraction de deux nombres très proches."
   ]
  },
  {
   "cell_type": "markdown",
   "id": "d5ce4c48-37ee-4fec-b5c8-a98e4f7ee05d",
   "metadata": {},
   "source": [
    "### Evaluation de la fonction $g(x)$ pour $x = 100000000$"
   ]
  },
  {
   "cell_type": "code",
   "execution_count": null,
   "id": "99741fff-447a-411a-9aaa-eb859056a2c9",
   "metadata": {},
   "outputs": [],
   "source": [
    "# Evaluation de la valeur de référence en utilisant des flottants quadruple précision\n",
    "mp.prec = 113\n",
    "gref = mp.mpf('1/10000000100000000')\n",
    "print(f\"Valeur de réference avec {mp.dps} chiffres significatifs = {gref}\")\n",
    "\n",
    "# simple precision\n",
    "mp.prec = 24\n",
    "print(f\"\\nTaille de la mantisse : {mp.prec} bits\")\n",
    "print(f\"Valeur de réference avec {mp.dps} chiffres significatifs : {mp.nstr(gref, mp.dps, strip_zeros=False)}\")\n",
    "# Evaluation des fonctions\n",
    "x = mp.mpf('100000000')\n",
    "print(f\"1ere forme avec {mp.dps} chiffres significatifs : g(x={x}) = {mp.nstr(g1(x), mp.dps, strip_zeros=False)}\")\n",
    "print(f\"2eme forme avec {mp.dps} chiffres significatifs : g(x={x}) = {mp.nstr(g2(x), mp.dps, strip_zeros=False)}\")\n",
    "\n",
    "# double precision\n",
    "mp.prec = 53\n",
    "print(f\"\\nTaille de la mantisse : {mp.prec} bits\")\n",
    "print(f\"Valeur de réference avec {mp.dps} chiffres significatifs : {mp.nstr(gref, mp.dps, strip_zeros=False)}\")\n",
    "# Evaluation des fonctions\n",
    "x = mp.mpf('100000000')\n",
    "print(f\"1ere forme avec {mp.dps} chiffres significatifs : g(x={x}) = {mp.nstr(g1(x), mp.dps, strip_zeros=False)}\")\n",
    "print(f\"2eme forme avec {mp.dps} chiffres significatifs : g(x={x}) = {mp.nstr(g2(x), mp.dps, strip_zeros=False)}\")"
   ]
  },
  {
   "cell_type": "markdown",
   "id": "a09f64c6-8d61-4368-a88c-54c3c2017eaf",
   "metadata": {},
   "source": [
    "Alors que la perte de précision était ennuyeuse mais pas dramatique pour le résultat pour $x = 10000$, lorsque l'on s'attaque à ce problème avec l'algorithme 2 pour un $x$ beaucoup plus grand, on peut être confronté à une perte catastrophique de chiffres significatifs, la perte de 6 à 7 chiffres significatifs en simple précision est dangereuse !, voire à une dégradation importante de la qualité de la solution en double précision. L'algorithme 1 reste imperturbable et continue de montrer une excellente stabilité dans les deux cas pour ce problème bien conditionné qui conduit à une erreur forward de l'ordre de la précision machine."
   ]
  }
 ],
 "metadata": {
  "@webio": {
   "lastCommId": null,
   "lastKernelId": null
  },
  "kernelspec": {
   "display_name": "Python 3 (ipykernel)",
   "language": "python",
   "name": "python3"
  },
  "language_info": {
   "codemirror_mode": {
    "name": "ipython",
    "version": 3
   },
   "file_extension": ".py",
   "mimetype": "text/x-python",
   "name": "python",
   "nbconvert_exporter": "python",
   "pygments_lexer": "ipython3",
   "version": "3.11.4"
  },
  "widgets": {
   "application/vnd.jupyter.widget-state+json": {
    "state": {},
    "version_major": 2,
    "version_minor": 0
   }
  }
 },
 "nbformat": 4,
 "nbformat_minor": 5
}
