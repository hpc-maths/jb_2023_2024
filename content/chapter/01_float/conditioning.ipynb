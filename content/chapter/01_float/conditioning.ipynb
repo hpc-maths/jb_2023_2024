{
 "cells": [
  {
   "cell_type": "code",
   "execution_count": null,
   "id": "collectible-solid",
   "metadata": {
    "editable": true,
    "slideshow": {
     "slide_type": ""
    },
    "tags": []
   },
   "outputs": [],
   "source": [
    "#\n",
    "#    Notebook de cours MAP412 - Chapitre 1 - M. Massot 2023-2024 - Ecole polytechnique\n",
    "#    ----------   \n",
    "#    Système Linéaire\n",
    "#    \n",
    "#    Auteurs : L. Séries et M. Massot - (C) 2023\n",
    "#    "
   ]
  },
  {
   "cell_type": "code",
   "execution_count": null,
   "id": "7037439c-5274-44d4-8a9d-ba73c64e26d6",
   "metadata": {
    "editable": true,
    "slideshow": {
     "slide_type": ""
    },
    "tags": []
   },
   "outputs": [],
   "source": [
    "import plotly.graph_objects as go\n",
    "import numpy as np\n",
    "import plotly.io as pio\n",
    "pio.templates.default = \"seaborn\""
   ]
  },
  {
   "cell_type": "code",
   "execution_count": null,
   "id": "089fcf23-3144-4684-9d18-da2c67e46d65",
   "metadata": {
    "editable": true,
    "slideshow": {
     "slide_type": ""
    },
    "tags": [
     "remove-input"
    ]
   },
   "outputs": [],
   "source": [
    "def plot(x, y1, y2):\n",
    "    \n",
    "    fig = go.Figure()\n",
    "\n",
    "    fig.add_trace(go.Scatter(x=x, y=y1, name=\"y=x\", legendgroup=\"g0\",  legendgrouptitle_text=\"                  \"))\n",
    "\n",
    "    fig.add_trace(go.Scatter(x=x, y=y2, name=\"y=(1+alpha)x - alpha\", marker_color=\"rgb(221,132,82)\", legendgroup=\"g1\",  legendgrouptitle_text=\"Problème original\"))\n",
    "    fig.add_trace(go.Scatter(x=[1], y=[1], name=\"solution exacte\", mode='markers', legendgroup=\"g1\", marker=dict(symbol='x', size=9, color=\"rgb(221,132,82)\")))\n",
    "\n",
    "    epsilon = np.array([0.001, 0.01, 0.1])\n",
    "    for i, eps_i in enumerate(epsilon):\n",
    "        y_i = (1+alpha)*x - alpha - eps_i\n",
    "        fig.add_trace(go.Scatter(x=x, y=y_i, name=\"y = (1 + alpha)x - alpha - eps\", marker_color = 'rgb(85,168,104)',\n",
    "                                 legendgroup=\"g2\",  legendgrouptitle_text=\"Problème perturbé\", visible=False))\n",
    "        fig.add_trace(go.Scatter(x=[1+eps_i/alpha], y=[1+eps_i/alpha], name=\"solution perturbée\", mode='markers',\n",
    "                                 legendgroup=\"g2\", marker=dict(symbol='x', size=9, color=\"rgb(85,168,104)\"), visible=False))\n",
    "\n",
    "\n",
    "    fig.data[3].visible = True\n",
    "    fig.data[4].visible = True\n",
    "\n",
    "    # Create and add slider\n",
    "    steps = []\n",
    "    for i, eps_i in enumerate(epsilon):\n",
    "        args = [{\"visible\": [(el==2*i+3 or el==2*i+4 or el==0 or el==1 or el==2) for el in range(len(fig.data))]}]\n",
    "        step = dict(method=\"update\", label = f\"{eps_i}\",  args=args)\n",
    "        steps.append(step)\n",
    "    \n",
    "    sliders = [dict(currentvalue={'prefix': 'epsilon = '}, steps=steps)]\n",
    "    \n",
    "    legend = dict(orientation=\"h\", y=1.25)\n",
    "    fig.update_layout(height=500, width=750, legend=legend, yaxis_range=[min(y1), max(y1)], sliders=sliders)\n",
    "    fig.show()"
   ]
  },
  {
   "cell_type": "markdown",
   "id": "d0e2da95-7886-42d7-9923-720a78b188b6",
   "metadata": {
    "tags": []
   },
   "source": [
    "# Conditionnement"
   ]
  },
  {
   "cell_type": "markdown",
   "id": "proof-collective",
   "metadata": {},
   "source": [
    "## Système linéaire"
   ]
  },
  {
   "cell_type": "markdown",
   "id": "embedded-academy",
   "metadata": {},
   "source": [
    "On veut résoudre le système linéaire suivant :\n",
    "\n",
    "$$\n",
    "A=\\left[\n",
    "\\begin{array}{lll}\n",
    "-\\gamma & 1  \\\\\n",
    "- 1              & 1  \\\\\n",
    "\\end{array}\n",
    "\\right]\n",
    "\\begin{pmatrix}\n",
    "     x    \\\\\n",
    "     y            \\\\\n",
    "\\end{pmatrix}\n",
    "= \\begin{pmatrix}\n",
    "     -\\beta    \\\\\n",
    "     0              \\\\\n",
    "\\end{pmatrix}\n",
    "$$\n",
    "\n",
    "dont la solution est $x=\\beta/(\\gamma-1)$ et $y=\\beta/(\\gamma-1)$ correspondant aux coordonnées du point d'intersection des droites $y=x$ et $y=\\gamma\\,x - \\beta$. On se placera autour d'un cas où $\\gamma = 1+\\alpha$ et $\\beta = \\alpha$, avec $\\alpha$ petit devant 1."
   ]
  },
  {
   "cell_type": "markdown",
   "id": "veterinary-investment",
   "metadata": {},
   "source": [
    "### Cas où $\\alpha$ est petit\n",
    "\n",
    "Dans le cas où $\\alpha$ est petit devant 1, comme représenté sur la figure suivante où il vaut 0.05, une petite perturbation, par exemple du second membre où $-\\alpha$ devient $-\\alpha-\\epsilon$, implique une modification de la solution grande devant la  taille de la perturbation puisque la nouvelle solution vérifie toujours $\\bar x=\\bar y$ mais $\\bar x=1+\\epsilon/\\alpha$."
   ]
  },
  {
   "cell_type": "code",
   "execution_count": null,
   "id": "dbb61c91-04f1-4a7c-ae9e-1f34814d6b6a",
   "metadata": {},
   "outputs": [],
   "source": [
    "alpha = 0.05\n",
    "x = np.linspace(0.5, 3.5, 100)\n",
    "y1 = x\n",
    "y2 = (1+alpha)*x - alpha\n",
    "plot(x, y1, y2)"
   ]
  },
  {
   "cell_type": "markdown",
   "id": "narrative-institution",
   "metadata": {},
   "source": [
    "Dans ce cadre, on peut voir que la perturbation du second membre de l'ordre de $\\epsilon$ implique une modification de la solution de $\\epsilon/\\alpha$, ce qui apporte une borne inférieure en $1/\\alpha$ sur le conditionnement que l'on calculera en petite classe et qui est effectivement de l'ordre de $1/\\alpha$. Pour $\\alpha$ petit devant un, le conditionnement est mauvais et on pourra faire le lien avec le Chapitre 4 du cours où sera présenté le conditionnement d'une matrice."
   ]
  },
  {
   "cell_type": "markdown",
   "id": "covered-madness",
   "metadata": {},
   "source": [
    "### Cas où $\\alpha = -2$ "
   ]
  },
  {
   "cell_type": "code",
   "execution_count": null,
   "id": "anonymous-petroleum",
   "metadata": {},
   "outputs": [],
   "source": [
    "alpha = -2\n",
    "x = np.linspace(0.5, 1.5, 100)\n",
    "y1 = x\n",
    "y2 = (1+alpha)*x - alpha\n",
    "plot(x, y1, y2)"
   ]
  },
  {
   "cell_type": "markdown",
   "id": "considerable-specific",
   "metadata": {},
   "source": [
    "Dans ce cas, le conditionnement du problème est de l'ordre de $1$ et une modification du second membre induit une perturbation de l'ordre de $\\epsilon/2$. Le problème est très bien conditionné et cela est uniquement associé à la structure mathématique du problème de départ (matrice plus ou moins proche d'une matrice singulière) et en rien à un problème d'évaluation algorithmique."
   ]
  }
 ],
 "metadata": {
  "@webio": {
   "lastCommId": null,
   "lastKernelId": null
  },
  "kernelspec": {
   "display_name": "Python 3 (ipykernel)",
   "language": "python",
   "name": "python3"
  },
  "language_info": {
   "codemirror_mode": {
    "name": "ipython",
    "version": 3
   },
   "file_extension": ".py",
   "mimetype": "text/x-python",
   "name": "python",
   "nbconvert_exporter": "python",
   "pygments_lexer": "ipython3",
   "version": "3.11.3"
  },
  "widgets": {
   "application/vnd.jupyter.widget-state+json": {
    "state": {},
    "version_major": 2,
    "version_minor": 0
   }
  }
 },
 "nbformat": 4,
 "nbformat_minor": 5
}
