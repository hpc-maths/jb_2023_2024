{
 "cells": [
  {
   "cell_type": "code",
   "execution_count": null,
   "metadata": {},
   "outputs": [],
   "source": [
    "#\n",
    "#    Notebook de cours MAP412 - Chapitre 1 - M. Massot 2023-2024 - Ecole polytechnique\n",
    "#    ----------   \n",
    "#    Evaluation de la fonction de Rump \n",
    "#    \n",
    "#    Auteurs : L. Séries et M. Massot - (C) 2023\n",
    "#    "
   ]
  },
  {
   "cell_type": "code",
   "execution_count": null,
   "metadata": {},
   "outputs": [],
   "source": [
    "from mpmath import mp"
   ]
  },
  {
   "cell_type": "markdown",
   "metadata": {},
   "source": [
    "# Exemple de Rump"
   ]
  },
  {
   "cell_type": "markdown",
   "metadata": {},
   "source": [
    "## Des résultats surprenants...\n",
    "\n",
    "On considère la fonction :\n",
    "\n",
    "$$ f(x,y) = (333.75 - x^2) y^6 + x^2 (11 x^2 y^2 - 121y^4 - 2) + 5.5 y^8 + \\frac{x}{2y} $$"
   ]
  },
  {
   "cell_type": "code",
   "execution_count": null,
   "metadata": {},
   "outputs": [],
   "source": [
    "def f_rump(x,y):\n",
    "    return (333.75-x*x)*y**6 + x**2*(11*(x**2)*(y**2) - 121*y**4 - 2) + 5.5*y**8 + x/(2*y)"
   ]
  },
  {
   "cell_type": "markdown",
   "metadata": {},
   "source": [
    "L'évaluation de la fonction $f$ au point $(x,y) = (77617, 33096)$ pour différents formats de nombre à virgule flottante donne les résultats suivants :"
   ]
  },
  {
   "cell_type": "code",
   "execution_count": null,
   "metadata": {},
   "outputs": [],
   "source": [
    "# flottants sur 32 bits \n",
    "mp.prec = 24\n",
    "x = mp.mpf('77617')\n",
    "y = mp.mpf('33096')\n",
    "print(\"Evaluation de la fonction pour des flottants sur 32 bits\")\n",
    "print(f\"f(x,y) = {f_rump(x,y)}\")\n",
    "\n",
    "# flottants sur 64 bits \n",
    "mp.prec = 53\n",
    "x = mp.mpf('77617')\n",
    "y = mp.mpf('33096')\n",
    "print(\"\\nEvaluation de la fonction pour des flottants sur 64 bits\")\n",
    "print(f\"f(x,y) = {f_rump(x,y)}\")\n",
    "\n",
    "# flottants sur 128 bits \n",
    "mp.prec = 113\n",
    "x = mp.mpf('77617')\n",
    "y = mp.mpf('33096')\n",
    "print(\"\\nEvaluation de la fonction pour des flottants sur 128 bits\")\n",
    "print(f\"f(x,y) = {f_rump(x,y)}\")"
   ]
  },
  {
   "cell_type": "markdown",
   "metadata": {},
   "source": [
    "Ces résultats semblent cohérents : on trouve pour chaque format de nombre à virgule flottante le même résultat avec une précision croissante avec la taille de la mantisse."
   ]
  },
  {
   "cell_type": "markdown",
   "metadata": {},
   "source": [
    "Pourtant, si on considère les formes suivantes de la même fonction :\n",
    "\n",
    "* $ f(x,y) = 333.75 y^6 + x^2 (11 x^2 y^2 - y^6 - 121y^4 - 2) + 5.5 y^8 + \\displaystyle \\frac{x}{2y} $\n",
    "\n",
    "* $ f(x,y) = 333.75 yyyyyy + xx (11 xx \\; yy - yyyyyy - 121yyyy - 2) + 5.5 yyyyyyyy + \\displaystyle \\frac{x}{2y} $"
   ]
  },
  {
   "cell_type": "code",
   "execution_count": null,
   "metadata": {},
   "outputs": [],
   "source": [
    "def f_rump_02(x,y):\n",
    "    return 333.75*y**6 + (x**2)*(11*(x**2)*(y**2) - y**6 - 121*y**4 - 2) + 5.5*y**8 + x/(2*y)\n",
    "\n",
    "def f_rump_03(x,y):\n",
    "    return 333.75*y*y*y*y*y*y + (x*x)*(11*(x*x)*(y*y) - y*y*y*y*y*y - 121*y*y*y*y - 2) + 5.5*y*y*y*y*y*y*y*y + x/(2*y)"
   ]
  },
  {
   "cell_type": "markdown",
   "metadata": {},
   "source": [
    "Les évaluations de $f_2$ et $f_3$ au point $(x,y) = (77617, 33096)$ donnent les résultats suivants :"
   ]
  },
  {
   "cell_type": "code",
   "execution_count": null,
   "metadata": {},
   "outputs": [],
   "source": [
    "# flottants sur 32 bits \n",
    "mp.prec = 24\n",
    "x = mp.mpf('77617')\n",
    "y = mp.mpf('33096')\n",
    "print(\"Evaluation de la fonction pour des flottants sur 32 bits\")\n",
    "print(f\"f2(x,y) = {f_rump_02(x,y)}\")\n",
    "print(f\"f3(x,y) = {f_rump_03(x,y)}\")\n",
    "\n",
    "# flottants sur 64 bits \n",
    "mp.prec = 53\n",
    "x = mp.mpf('77617')\n",
    "y = mp.mpf('33096')\n",
    "print(\"\\nEvaluation de la fonction pour des flottants sur 64 bits\")\n",
    "print(f\"f2(x,y) = {f_rump_02(x,y)}\")\n",
    "print(f\"f3(x,y) = {f_rump_03(x,y)}\")\n",
    "\n",
    "# flottants sur 128 bits \n",
    "mp.prec = 113\n",
    "x = mp.mpf('77617')\n",
    "y = mp.mpf('33096')\n",
    "print(\"\\nEvaluation de la fonction pour des flottants sur 128 bits\")\n",
    "print(f\"f2(x,y) = {f_rump_02(x,y)}\")\n",
    "print(f\"f3(x,y) = {f_rump_03(x,y)}\")"
   ]
  },
  {
   "cell_type": "markdown",
   "metadata": {},
   "source": [
    "En réalité, la valeur exacte de l'évaluation de la fonction $f$ au point $(x,y) = (77617, 33096)$ est un nombre rationnel que l'on peut obtenir avec [SageMath](./sagemath_rump) et qui vaut -54767/66192 $\\simeq$ -0.827396059946821."
   ]
  },
  {
   "cell_type": "markdown",
   "metadata": {},
   "source": [
    "Ces résultats appellent plusieurs remarques : \n",
    "\n",
    "* Le choix de la méthode de calcul de la fonction a un impact important sur le resultat, qui peut être radicalement différent ou similaire pour un calcul en quadruple précision mais faux !\n",
    "* La question se pose alors de connaître l'origine des erreurs obtenues avec simple, double et quadruple précision."
   ]
  },
  {
   "cell_type": "markdown",
   "metadata": {},
   "source": [
    "**Challenge :** Proposer une explication permettant d'interpréter les résultats obtenus."
   ]
  }
 ],
 "metadata": {
  "@webio": {
   "lastCommId": null,
   "lastKernelId": null
  },
  "kernelspec": {
   "display_name": "Python 3 (ipykernel)",
   "language": "python",
   "name": "python3"
  },
  "language_info": {
   "codemirror_mode": {
    "name": "ipython",
    "version": 3
   },
   "file_extension": ".py",
   "mimetype": "text/x-python",
   "name": "python",
   "nbconvert_exporter": "python",
   "pygments_lexer": "ipython3",
   "version": "3.10.12"
  },
  "latex_envs": {
   "LaTeX_envs_menu_present": true,
   "autoclose": false,
   "autocomplete": true,
   "bibliofile": "biblio.bib",
   "cite_by": "apalike",
   "current_citInitial": 1,
   "eqLabelWithNumbers": true,
   "eqNumInitial": 1,
   "hotkeys": {
    "equation": "Ctrl-E",
    "itemize": "Ctrl-I"
   },
   "labels_anchors": false,
   "latex_user_defs": false,
   "report_style_numbering": false,
   "user_envs_cfg": false
  },
  "widgets": {
   "application/vnd.jupyter.widget-state+json": {
    "state": {},
    "version_major": 2,
    "version_minor": 0
   }
  }
 },
 "nbformat": 4,
 "nbformat_minor": 4
}
