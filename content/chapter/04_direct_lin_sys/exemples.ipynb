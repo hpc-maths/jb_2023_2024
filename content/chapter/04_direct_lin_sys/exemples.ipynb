{
 "cells": [
  {
   "cell_type": "code",
   "execution_count": null,
   "id": "895e3c46-2813-4b63-88ae-f1cf0656e5ba",
   "metadata": {},
   "outputs": [],
   "source": [
    "#\n",
    "#    Notebook de cours MAP412 - Chapitre 4 - M. Massot 2022-2023 - Ecole polytechnique\n",
    "#    ----------   \n",
    "#    Exemples préliminaires\n",
    "#    \n",
    "#    Auteurs : L. Séries et M. Massot - (C) 2022\n",
    "#    "
   ]
  },
  {
   "cell_type": "markdown",
   "id": "bc5fbe5d-8850-494e-acab-9f6c398ec517",
   "metadata": {},
   "source": [
    "# Exemples préliminaires"
   ]
  },
  {
   "cell_type": "code",
   "execution_count": null,
   "id": "494f8626-dc44-4193-b3d1-02187e18eb35",
   "metadata": {},
   "outputs": [],
   "source": [
    "import numpy as np\n",
    "from mpmath import mp\n",
    "import mpmath"
   ]
  },
  {
   "cell_type": "markdown",
   "id": "901f537f-f01c-4b9d-bc53-c1d84c8a4a3f",
   "metadata": {},
   "source": [
    "## Matrice de Hilbert\n",
    "\n",
    "Une matrice de Hilbert est une matrice carrée de terme général :\n",
    "\n",
    "$$ H_{ij} = \\frac{1}{i+j-1} $$\n",
    "\n",
    "La matrice de Hilbert de taille 6 s'écrit :\n",
    "\n",
    "$$\\begin{pmatrix}\n",
    " 1   & 1/2 & 1/3 & 1/4 & 1/5  & 1/6  \\\\\n",
    " 1/2 & 1/3 & 1/4 & 1/5 & 1/6  & 1/7  \\\\\n",
    " 1/3 & 1/4 & 1/5 & 1/6 & 1/7  & 1/8  \\\\\n",
    " 1/4 & 1/5 & 1/6 & 1/7 & 1/8  & 1/9  \\\\\n",
    " 1/5 & 1/6 & 1/7 & 1/8 & 1/9  & 1/10 \\\\\n",
    " 1/6 & 1/7 & 1/8 & 1/9 & 1/10 & 1/11  \n",
    "\\end{pmatrix}$$"
   ]
  },
  {
   "cell_type": "markdown",
   "id": "0c545363-1620-4d53-80b6-19e6ea9a166e",
   "metadata": {},
   "source": [
    "## Résolution à précision arbitraire"
   ]
  },
  {
   "cell_type": "markdown",
   "id": "e55e6784-5e22-4bd4-bbc2-e896f46370c7",
   "metadata": {},
   "source": [
    "Dans un premier temps, on calcule la solution exacte pour un second membre $b$ dont chaque  composante vaut 1 pour $n = 4$ :"
   ]
  },
  {
   "cell_type": "code",
   "execution_count": null,
   "id": "0648fe19-5a94-4100-8e43-d72d20a86afc",
   "metadata": {},
   "outputs": [],
   "source": [
    "n = 6\n",
    "A = matrix(QQ, [[1/(i+j-1) for j in [1..n]] for i in [1..n]])\n",
    "print(\"A = \")\n",
    "print(A.str(unicode=True))\n",
    "\n",
    "b = vector(QQ, [1 for i in range(0,n)])\n",
    "print(\"\\nb = \")\n",
    "print(b.column().str(unicode=True))\n",
    "\n",
    "x = A\\b\n",
    "print(\"\\nx = \")\n",
    "print(x.column().str(unicode=True))"
   ]
  },
  {
   "cell_type": "markdown",
   "id": "2b5af1be-d60d-46b5-98aa-fbd2735ae4de",
   "metadata": {},
   "source": [
    "Puis, on résoud le même système pour différents formats de nombre à virgule flottante :"
   ]
  },
  {
   "cell_type": "code",
   "execution_count": null,
   "id": "95ac9dbc-44fe-4c4d-a13a-36764ab51253",
   "metadata": {},
   "outputs": [],
   "source": [
    "print(\"Solution exacte  :\")\n",
    "print(x.column().str(unicode=True))\n",
    "\n",
    "# double precision\n",
    "mp.prec = 53\n",
    "A = mpmath.matrix([[1/(i+j-1) for j in [1..n]] for i in [1..n]])\n",
    "b = mpmath.matrix([1 for i in range(0,n)])\n",
    "x = mpmath.lu_solve(A, b)\n",
    "print(f\"\\nSolution pour une précision de {mp.dps} chiffres significatifs (double précison) : \")\n",
    "print(x)\n",
    "\n",
    "# simple precision\n",
    "mp.prec = 24\n",
    "A = mpmath.matrix([[1/(i+j-1) for j in [1..n]] for i in [1..n]])\n",
    "b = mpmath.matrix([1 for i in range(0,n)])\n",
    "x = mpmath.lu_solve(A, b)\n",
    "print(f\"\\nSolution pour une précision de {mp.dps} chiffres significatifs (simple précison) : \")\n",
    "print(x)\n",
    "\n",
    "# 3 chiffres significatifs\n",
    "mp.dps = 4\n",
    "A = mpmath.matrix([[1/(i+j-1) for j in [1..n]] for i in [1..n]])\n",
    "b = mpmath.matrix([1 for i in range(0,n)])\n",
    "x = mpmath.lu_solve(A, b)\n",
    "print(f\"\\nSolution pour une précision de {mp.dps} chiffres significatifs : \")\n",
    "print(x)"
   ]
  },
  {
   "cell_type": "markdown",
   "id": "c2f78e5c-5584-4711-ba42-7c3f1f3d5d23",
   "metadata": {},
   "source": [
    "## Perturbation du second membre pour une résolution exacte"
   ]
  },
  {
   "cell_type": "markdown",
   "id": "eec51c3d-a92b-4280-9288-818764cddd6a",
   "metadata": {},
   "source": [
    "On initialise une matrice de Hilbert de taille $n$ avec des fractions fractionnelles de sorte de faire calculs exacts."
   ]
  },
  {
   "cell_type": "code",
   "execution_count": null,
   "id": "e21cf32b-b89f-46f7-9c3c-19be5cdc3bc9",
   "metadata": {},
   "outputs": [],
   "source": [
    "n = 6\n",
    "A = matrix(QQ, [[1/(i+j-1) for j in [1..n]] for i in [1..n]])\n",
    "print(A.str(unicode=True))"
   ]
  },
  {
   "cell_type": "markdown",
   "id": "337196d3-6d35-495f-b67d-bbe1beac856e",
   "metadata": {},
   "source": [
    "On calcule la solution exacte pour un second membre $b$ dont chaque composante vaut 1"
   ]
  },
  {
   "cell_type": "code",
   "execution_count": null,
   "id": "79e65af0-b49d-43c9-96c8-4f0243a03f19",
   "metadata": {},
   "outputs": [],
   "source": [
    "b = vector(QQ, [1 for i in range(0,n)])\n",
    "x = A\\b\n",
    "print(x.column().str(unicode=True))"
   ]
  },
  {
   "cell_type": "markdown",
   "id": "48a0ef50-8a84-40c6-965c-ffcc9e3f19c5",
   "metadata": {},
   "source": [
    "On perturbe la dernière composante du second membre de (1/1000000), on résoud le système et on s'attend à trouver une solution proche du vecteur dont les composantes valents $1$ :"
   ]
  },
  {
   "cell_type": "code",
   "execution_count": null,
   "id": "5305aa2d-2dfb-4933-a363-ec491a9eecf3",
   "metadata": {},
   "outputs": [],
   "source": [
    "b[n-1] *= (1+1/(1000000)) #  perturbation du second membre\n",
    "x_pert = A\\b\n",
    "print(\"Solution perturbée :\")\n",
    "print(x_pert.column().str(unicode=True))"
   ]
  },
  {
   "cell_type": "code",
   "execution_count": null,
   "id": "c1eafb76-8fac-42c7-8cb4-5ae4f706fccd",
   "metadata": {},
   "outputs": [],
   "source": [
    "print(\"Ecart entre la solution et la solution perturbée :\" )\n",
    "for i in range(n):\n",
    "    print(abs(float(x[i]-x_pert[i])))\n",
    "\n",
    "err = max(abs(float(x[i]-x_pert[i])) for i in range(0,n))\n",
    "print(\"\\nNorme infinie de l'de l'écart entre la solution et la solution perturbée  :\", err)"
   ]
  },
  {
   "cell_type": "markdown",
   "id": "97aac65c-ecd2-4d9b-b24e-b42a3d1ec877",
   "metadata": {},
   "source": [
    "## Exemple de Forsythe\n",
    "\n",
    "On considère le système :\n",
    "\n",
    "$$\n",
    "\\begin{pmatrix}\n",
    " 0.0001   & 1 \\\\\n",
    " 1   & 1 \n",
    "\\end{pmatrix}\n",
    "\\begin{pmatrix}\n",
    " x_1  \\\\\n",
    " x_2  \n",
    "\\end{pmatrix}\n",
    "=\n",
    "\\begin{pmatrix}\n",
    " 1.0001  \\\\\n",
    " 2  \n",
    "\\end{pmatrix}\n",
    "$$\n",
    "\n",
    "pour lequel la solution exacte est $x_1 = 1$ et $x_2 = 1$.\n",
    "\n",
    "On utilise l'algorithme de l’élimination de Gauss pour des flottants avec 3 chiffres significatifs (en base 10)."
   ]
  },
  {
   "cell_type": "code",
   "execution_count": null,
   "id": "ab2de102-7503-43ea-8e4f-04c3a62fa29b",
   "metadata": {},
   "outputs": [],
   "source": [
    "def gaussian_elimination_without_pivoting(a, b): \n",
    "    n = b.size\n",
    "    for i in range(n-1):\n",
    "        # elimination\n",
    "        li = a[i+1:,i]/a[i,i]\n",
    "        b[i+1:] = b[i+1:] - li * b[i]\n",
    "        a[i+1:] = a[i+1:] - li.reshape(n-i-1,1)*a[i]\n",
    "        \n",
    "def backward_substitution(a, b):\n",
    "    n = b.size\n",
    "    x = b[0]*np.zeros(n)\n",
    "    for i in range(n-1, -1, -1):\n",
    "        x[i] = (b[i] - np.sum(a[i,i+1:]*x[i+1:])) / a[i,i]\n",
    "    return x\n",
    "\n",
    "def gauss_solve_without_pivoting(a, b):\n",
    "    ag = np.copy(a) \n",
    "    bg = np.copy(b)\n",
    "    gaussian_elimination_without_pivoting(ag, bg)\n",
    "    return backward_substitution(ag, bg)"
   ]
  },
  {
   "cell_type": "code",
   "execution_count": null,
   "id": "2aad98e0-d12c-43fc-9c5a-4876590739c7",
   "metadata": {},
   "outputs": [],
   "source": [
    "# precision arbitraire de 3 chiffres significatifs\n",
    "mp.dps = 3\n",
    "mp.pretty = True\n",
    "A = mpmath.matrix([[1e-4, 1], [1, 1]])\n",
    "b = mpmath.matrix([1.0001, 2])\n",
    "\n",
    "A = np.array(A.tolist())\n",
    "b = np.array(b.tolist()).reshape(2)\n",
    "x = gauss_solve_without_pivoting(A, b)\n",
    "print(f\"Solution pour une précision de {mp.dps} chiffres significatifs : \")\n",
    "print(f\"x1 = {x[0]}  et x2 = {x[1]}\")"
   ]
  },
  {
   "cell_type": "markdown",
   "id": "9aedce53-18d2-4315-802d-ecc7d3f1ed96",
   "metadata": {},
   "source": [
    "On intervertit les 2 lignes du système : \n",
    "\n",
    "$$\n",
    "\\begin{pmatrix}\n",
    " 1   & 1 \\\\\n",
    " 0.0001  & 1 \n",
    "\\end{pmatrix}\n",
    "\\begin{pmatrix}\n",
    " x_2  \\\\\n",
    " x_1  \n",
    "\\end{pmatrix}\n",
    "=\n",
    "\\begin{pmatrix}\n",
    " 2 \\\\ \n",
    " 1.0001 \n",
    "\\end{pmatrix}\n",
    "$$"
   ]
  },
  {
   "cell_type": "code",
   "execution_count": null,
   "id": "73e672db-cec4-4d0b-9b64-7c8e6443782d",
   "metadata": {},
   "outputs": [],
   "source": [
    "# precision arbitraire de 3 chiffres significatifs\n",
    "mp.dps = 3\n",
    "mp.pretty = True\n",
    "A = mpmath.matrix([[1, 1], [1e-4, 1]])\n",
    "b = mpmath.matrix([2, 1.0001])\n",
    "\n",
    "A = np.array(A.tolist())\n",
    "b = np.array(b.tolist()).reshape(2)\n",
    "x = gauss_solve_without_pivoting(A, b)\n",
    "print(f\"Solution pour une précision de {mp.dps} chiffres significatifs : \")\n",
    "print(f\"x1 = {x[1]}  et x2 = {x[0]}\")"
   ]
  }
 ],
 "metadata": {
  "kernelspec": {
   "display_name": "SageMath 9.5",
   "language": "sage",
   "name": "sagemath"
  },
  "language_info": {
   "codemirror_mode": {
    "name": "ipython",
    "version": 3
   },
   "file_extension": ".py",
   "mimetype": "text/x-python",
   "name": "python",
   "nbconvert_exporter": "python",
   "pygments_lexer": "ipython3",
   "version": "3.10.4"
  }
 },
 "nbformat": 4,
 "nbformat_minor": 5
}
