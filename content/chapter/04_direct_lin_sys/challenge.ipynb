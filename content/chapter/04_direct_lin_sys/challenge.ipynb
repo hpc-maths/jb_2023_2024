{
 "cells": [
  {
   "cell_type": "code",
   "execution_count": null,
   "id": "973178a0-7847-4b5d-a232-cea029bace13",
   "metadata": {},
   "outputs": [],
   "source": [
    "#\n",
    "#    Notebook de cours MAP412 - Chapitre 4 - M. Massot 2022-2023 - Ecole polytechnique\n",
    "#    ----------   \n",
    "#    Challenge sur la résolution des systèmes linéaires par des méthodes directes.\n",
    "#    \n",
    "#    Auteurs : L. Séries et M. Massot - (C) 2022\n",
    "#    "
   ]
  },
  {
   "cell_type": "markdown",
   "id": "58e6f9d7-185c-44e7-9f2c-2c9a15d890f5",
   "metadata": {},
   "source": [
    "# Challenge : Exemple de Wanner"
   ]
  },
  {
   "cell_type": "markdown",
   "id": "5e0adeac-7d2b-4633-be7c-8749621aeb87",
   "metadata": {},
   "source": [
    "On considère le système suivant :\n",
    "\n",
    "$$\n",
    "\\begin{pmatrix}\n",
    " 1/2 & 1/3 & 1/4 & 1/5\\\\\n",
    " 1/3 & 1/4 & 1/5 & 1/6\\\\\n",
    " 1/4 & 1/5 & 1/6 & 1/7\\\\\n",
    " 1/5 & 1/6 & 1/7 & 1/8\n",
    "\\end{pmatrix}\n",
    "\\begin{pmatrix}\n",
    " x_1 \\\\\n",
    " x_2 \\\\ \n",
    " x_3 \\\\ \n",
    " x_4 \\\\ \n",
    "\\end{pmatrix}\n",
    "=\n",
    "\\begin{pmatrix}\n",
    " 3511/13860 \\\\\n",
    " 277/1540 \\\\ \n",
    " 40877/291060 \\\\\n",
    " 3203/27720\n",
    "\\end{pmatrix}\n",
    "$$\n",
    "\n",
    "dont la solution exacte est :\n",
    "\n",
    "$$\n",
    "\\begin{pmatrix}\n",
    " 1/3 \\\\\n",
    " 1/11 \\\\ \n",
    " 1/9 \\\\\n",
    " 1/7\n",
    "\\end{pmatrix}\n",
    "$$\n",
    "\n",
    "On résoud le système pour des nombres à virgule flottante sur 64 bits puis 32 bits :"
   ]
  },
  {
   "cell_type": "code",
   "execution_count": null,
   "id": "65e12a60-7451-4dbd-a3f6-6fe9c93e04aa",
   "metadata": {},
   "outputs": [],
   "source": [
    "import numpy as np\n",
    "\n",
    "# double precision\n",
    "A64 = np.matrix([[1/2, 1/3, 1/4, 1/5], \n",
    "               [1/3, 1/4, 1/5, 1/6],\n",
    "               [1/4, 1/5, 1/6, 1/7], \n",
    "               [1/5, 1/6, 1/7, 1/8]], dtype=np.float64)\n",
    "\n",
    "b64 = np.array([3511/13860, 277/1540, 40877/291060, 3203/27720], dtype=np.float64)\n",
    "\n",
    "np.set_printoptions(precision=16)\n",
    "x_exa = np.array([1/3, 1/11, 1/9, .1/7])\n",
    "print(\"Solution exacte =\", x_exa)\n",
    "\n",
    "x64 = np.linalg.solve(A64, b64)\n",
    "\n",
    "print(\"\\nSolution pour des nombres à virgule flottante sur 64 bits :\")\n",
    "print(\"x = \", x64)\n",
    "print(\"Résidu Ax-b :\")\n",
    "print(np.dot(A64,x64)-b64)\n",
    "\n",
    "# simple precision\n",
    "A32 = np.matrix([[1/2, 1/3, 1/4, 1/5], \n",
    "               [1/3, 1/4, 1/5, 1/6],\n",
    "               [1/4, 1/5, 1/6, 1/7], \n",
    "               [1/5, 1/6, 1/7, 1/8]], dtype=np.float32)\n",
    "\n",
    "b32 = np.array([3511/13860, 277/1540, 40877/291060, 3203/27720], dtype=np.float32)\n",
    "\n",
    "x32 = np.linalg.solve(A32, b32)\n",
    "\n",
    "np.set_printoptions(precision=7)\n",
    "print(\"\\nSolution pour des nombres à virgule flottante sur 32 bits :\")\n",
    "print(\"x = \", x32)\n",
    "print(\"Résidu Ax-b :\")\n",
    "print((np.dot(A32,x32)-b32))"
   ]
  },
  {
   "cell_type": "markdown",
   "id": "8581c8d4-d614-463a-8a16-5d4c3455c774",
   "metadata": {},
   "source": [
    "Les résultats montrent que seuls 3 à 4 décimales restent justes lors du passage de la double précision vers la simple précision. On constate que les résidus des solutions  $Ax − b$ sont de l'ordre de la précision machine choisie. Quelle est l'origine de l'erreur obtenue ? "
   ]
  }
 ],
 "metadata": {
  "kernelspec": {
   "display_name": "Python 3 (ipykernel)",
   "language": "python",
   "name": "python3"
  },
  "language_info": {
   "codemirror_mode": {
    "name": "ipython",
    "version": 3
   },
   "file_extension": ".py",
   "mimetype": "text/x-python",
   "name": "python",
   "nbconvert_exporter": "python",
   "pygments_lexer": "ipython3",
   "version": "3.10.12"
  }
 },
 "nbformat": 4,
 "nbformat_minor": 5
}
