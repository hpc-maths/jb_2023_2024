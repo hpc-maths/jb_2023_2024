{
 "cells": [
  {
   "cell_type": "code",
   "execution_count": null,
   "id": "c255f5f1-e0d6-4e6b-ab2d-ef765e67a9a1",
   "metadata": {},
   "outputs": [],
   "source": [
    "#\n",
    "#    Notebook de cours MAP412 - Chapitre 9 - M. Massot 2022-2023 - Ecole polytechnique\n",
    "#    ----------   \n",
    "#    Challenge - dynamique de la chaleur\n",
    "#    \n",
    "#    Auteurs : L. Séries et M. Massot - (C) 2022\n",
    "#    "
   ]
  },
  {
   "cell_type": "markdown",
   "id": "03c6c415-e91c-458d-89c6-4a32c61e6ad9",
   "metadata": {},
   "source": [
    "# Challenge - dynamique de la chaleur"
   ]
  },
  {
   "cell_type": "code",
   "execution_count": null,
   "id": "d0e743dc-399b-4816-ac43-f8cf1c75c44b",
   "metadata": {
    "tags": [
     "hide-input"
    ]
   },
   "outputs": [],
   "source": [
    "from dataclasses import dataclass\n",
    "import numpy as np\n",
    "from scipy.integrate import solve_ivp\n",
    "from scipy.sparse import diags\n",
    "from scipy import sparse\n",
    "from scipy.sparse.linalg import spsolve\n",
    "import plotly.graph_objects as go\n",
    "from plotly.subplots import make_subplots\n",
    "import plotly.io as pio\n",
    "pio.templates.default = \"seaborn\""
   ]
  },
  {
   "cell_type": "markdown",
   "id": "44761895-5258-4e5b-932b-1780f62fae0f",
   "metadata": {},
   "source": [
    "On considère l'équation de la chaleur dans le cas 1D :\n",
    "\n",
    "$$\n",
    "\\left\\{\n",
    "\\begin{aligned}\n",
    "& \\partial_t u(x,t) - D \\, \\partial_{xx} u(x,t) = 0 \\;\\; \\text{pour} \\; 0 < x < 1\\\\\n",
    "& \\partial_{x} u(0,t) = \\partial_{x} u(1,t) = 0,\\\\\n",
    "& u(x,t=t_0)  =  u_0(x),\n",
    "\\end{aligned}\n",
    "\\right.\n",
    "$$\n",
    "\n",
    "où la donnée initiale est choisie par l'utilisateur et avec des conditions aux limites de type Neumann homogène.\n",
    "\n",
    "Pour la simulation nous prenons deux temps finaux  $t_0=0.005$ et $t_0=0.015$ et $D=1$. Nous prenons aussi 1001 points de maillage en espace et 10001 points en temps."
   ]
  },
  {
   "cell_type": "code",
   "execution_count": null,
   "id": "aa3731fa-32ff-49b2-b562-7faebfe88e60",
   "metadata": {
    "tags": [
     "hide-input"
    ]
   },
   "outputs": [],
   "source": [
    "#############################################\n",
    "class heat_model:\n",
    "\n",
    "    def __init__(self, d, xmin, xmax, nx) :\n",
    "        self.d = d\n",
    "        self.xmin = xmin\n",
    "        self.xmax = xmax\n",
    "        self.nx = nx\n",
    "        self.dx = (xmax-xmin)/(nx-1)\n",
    "        self.oneoverdxdx = 1/(self.dx*self.dx)\n",
    "        \n",
    "        doverdxdx = d/(self.dx**2)\n",
    "        diag = np.repeat(-2, nx)\n",
    "        sub_diag = np.repeat([1., 2.], [nx-2, 1])\n",
    "        self.a = doverdxdx * diags([diag, sub_diag, np.flip(sub_diag)], [0, -1, 1])\n",
    "\n",
    "    def fcn(self, t, y):\n",
    "        return self.a.dot(y)\n",
    "    \n",
    "    def fcn_exact(self, t):\n",
    "        xmin = self.xmin\n",
    "        xmax = self.xmax\n",
    "        d = self.d\n",
    "        nx = self.nx\n",
    "        dx = self.dx\n",
    "        x = np.linspace(xmin, xmax, nx)\n",
    "        y = (1/(2*np.sqrt(np.pi*t))) * np.exp(-(x*x)/(4.*t))\n",
    "        return y"
   ]
  },
  {
   "cell_type": "markdown",
   "id": "0d7d8b46-8505-47a1-9d06-05293d0a3685",
   "metadata": {},
   "source": [
    "## Méthode d'Euler explicite"
   ]
  },
  {
   "cell_type": "code",
   "execution_count": null,
   "id": "f92071e0-0fef-474f-81da-21a44a1e70d5",
   "metadata": {
    "tags": [
     "hide-input"
    ]
   },
   "outputs": [],
   "source": [
    "@dataclass\n",
    "class ode_result:\n",
    "    t: np.ndarray \n",
    "    y: np.ndarray    \n",
    "    \n",
    "#############################################\n",
    "def forward_euler(tini, tend, nt, yini, fcn):\n",
    "    \n",
    "    dt = (tend-tini) / (nt-1)\n",
    "    t = np.linspace(tini, tend, nt)\n",
    "\n",
    "    yn = np.copy(yini)\n",
    "\n",
    "    for it, tn  in enumerate(t[:-1]):\n",
    "        yn = yn + dt*fcn(tn, yn)\n",
    "        \n",
    "    return ode_result(t, yn)"
   ]
  },
  {
   "cell_type": "markdown",
   "id": "a7ef1ebc-413e-4ff4-bf41-72c699241a47",
   "metadata": {},
   "source": [
    "## Dynamique de l'équation de la chaleur \n",
    "\n",
    "Nous considérons une donnée initiale à 2 modes \n",
    "\n",
    "$u_0(x) = \\cos\\Big(2\\pi x\\Big) + 2 \\cos\\Big(6\\pi x\\Big)$\n"
   ]
  },
  {
   "cell_type": "code",
   "execution_count": null,
   "id": "fdce59e8-4535-4900-ae82-c11db1d670a9",
   "metadata": {},
   "outputs": [],
   "source": [
    "xmin = 0.\n",
    "xmax = 1.\n",
    "nx = 1001\n",
    "dx = (xmax-xmin)/(nx-1)\n",
    "x = np.linspace(xmin, xmax, nx)\n",
    "\n",
    "d = 1.    \n",
    "hm = heat_model(d=d, xmin=xmin, xmax=xmax, nx=nx)\n",
    "fcn = hm.fcn\n",
    "\n",
    "tini = 0.\n",
    "tend = 0.005\n",
    "\n",
    "k = 2*np.pi\n",
    "\n",
    "yini = np.cos(k*x) + 2*np.cos(3*k*x)\n",
    "\n",
    "yexa = np.cos(k*x) * np.exp(-k**2 * tend) + 2*np.cos(3*k*x) * np.exp(-(3*k)**2 * tend)\n",
    "yexa3 = np.cos(k*x) * np.exp(-k**2 * 3* tend) + 2*np.cos(3*k*x) * np.exp(-(3*k)**2 * 3 * tend)\n",
    "\n",
    "nt = 10001\n",
    "dt = (tend-tini) / (nt-1)\n",
    "print(f\"dt = {dt}\")\n",
    "\n",
    "sol = forward_euler(tini, tend, nt, yini, fcn)\n",
    "\n",
    "solsol = forward_euler(tini, 3*tend, 3*(nt-1)+1, yini, fcn)\n",
    "\n",
    "fig_sol = go.Figure()\n",
    "fig_sol.add_trace(go.Scatter(x=x, y=yini, name=\"sol. ini.\"))\n",
    "fig_sol.add_trace(go.Scatter(x=x, y=yexa, name=\"sol. exa.\"))\n",
    "fig_sol.add_trace(go.Scatter(x=x, y=sol.y, name=\"sol. num. tend = 0.005\"))\n",
    "fig_sol.add_trace(go.Scatter(x=x, y=solsol.y, name=\"sol. num. tend = 0.015\"))\n",
    "legend = dict(x=0.8, bgcolor='rgba(0,0,0,0)')\n",
    "fig_sol.update_layout(legend=legend, height=450)\n",
    "fig_sol.update_xaxes(title='x')\n",
    "fig_sol.show()\n",
    "\n",
    "fig_err = go.Figure()\n",
    "fig_err.add_trace(go.Scatter(x=x, y=sol.y-yexa, name=\"err - tend = 0.005\", showlegend=True))\n",
    "fig_err.add_trace(go.Scatter(x=x, y=solsol.y-yexa3, name=\"err - tend = 0.015\", showlegend=True))\n",
    "fig_err.update_layout(legend=legend, height=450)\n",
    "fig_err.update_xaxes(title='x')\n",
    "fig_err.update_yaxes(title='ynum - yexa', exponentformat='e')\n",
    "fig_err.show()"
   ]
  },
  {
   "cell_type": "markdown",
   "id": "c02a474b",
   "metadata": {},
   "source": [
    "Interpréter la dynamique de manière quantitative ? Que reste-t-il de la fréquence la plus élevée au temps $t=0.015$ ? Expliquer."
   ]
  }
 ],
 "metadata": {
  "kernelspec": {
   "display_name": "Python 3 (ipykernel)",
   "language": "python",
   "name": "python3"
  },
  "language_info": {
   "codemirror_mode": {
    "name": "ipython",
    "version": 3
   },
   "file_extension": ".py",
   "mimetype": "text/x-python",
   "name": "python",
   "nbconvert_exporter": "python",
   "pygments_lexer": "ipython3",
   "version": "3.10.12"
  }
 },
 "nbformat": 4,
 "nbformat_minor": 5
}
