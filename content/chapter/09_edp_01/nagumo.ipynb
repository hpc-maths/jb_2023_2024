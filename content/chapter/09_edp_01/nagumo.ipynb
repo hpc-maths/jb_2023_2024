{
 "cells": [
  {
   "cell_type": "code",
   "execution_count": 1,
   "id": "6060f2a9-abb7-4693-8e32-b74d67dacfa5",
   "metadata": {},
   "outputs": [],
   "source": [
    "#\n",
    "#    Notebook de cours MAP412 - Chapitre 9 - M. Massot 2022-2023 - Ecole polytechnique\n",
    "#    ----------   \n",
    "#    Onde progressive - Nagumo\n",
    "#    \n",
    "#    Auteurs : L. Séries et M. Massot - (C) 2022\n",
    "#    "
   ]
  },
  {
   "cell_type": "markdown",
   "id": "34ec868c-6c47-42aa-86f4-6bc43de342c8",
   "metadata": {},
   "source": [
    "# Onde progressive - Nagumo"
   ]
  },
  {
   "cell_type": "code",
   "execution_count": null,
   "id": "769f71dd-8a28-411a-bccb-a2cdbdd9fd6b",
   "metadata": {
    "tags": [
     "hide-input"
    ]
   },
   "outputs": [],
   "source": [
    "from dataclasses import dataclass\n",
    "import time\n",
    "import numpy as np\n",
    "from scipy.sparse import diags, eye\n",
    "from scipy.integrate import solve_ivp\n",
    "from scipy.sparse.linalg import spsolve\n",
    "import plotly.graph_objects as go\n",
    "from plotly.subplots import make_subplots\n",
    "import plotly.io as pio\n",
    "pio.templates.default = \"seaborn\""
   ]
  },
  {
   "cell_type": "markdown",
   "id": "1d22152d-b72c-468d-a66a-a0dac7e73056",
   "metadata": {},
   "source": [
    "## Equation de Nagumo\n",
    "\n",
    "On considère l'équation de Nagumo :\n",
    "\n",
    "$$\n",
    "\\partial_t u - D \\, \\partial_{xx} u = k \\, u^2 (1 - u) \\;\\; \\text{pour} \\; -L < x < L\\\\     \n",
    "$$\n",
    "\n",
    "avec $L=50$, $k=1$ et $d=1$. Il est aisé de tester les méthodes avec une onde plus raide mais avec la même vitesse de propagation ($k=10$ et $d=0.1$).\n",
    "\n",
    "On considère 2001 point de maillage menant à $\\Delta x = 1/20$. La vitesse de l'onde est $c=1/\\sqrt{2}$."
   ]
  },
  {
   "cell_type": "code",
   "execution_count": null,
   "id": "12dc165c-93e6-4782-bae2-438ae992ba73",
   "metadata": {
    "tags": [
     "hide-input"
    ]
   },
   "outputs": [],
   "source": [
    "def show_sol_and_err(tini, tsol, x, yini, ysol, yref):\n",
    "\n",
    "    err = np.abs(yref-ysol)\n",
    "\n",
    "    fig = make_subplots(rows=2, cols=1, subplot_titles=(\"Solution\", \"Erreur\"), vertical_spacing=0.15)\n",
    "    \n",
    "    marker = dict(symbol='x', color='grey')\n",
    "    fig.add_trace(go.Scattergl(x=x, y=yini, name=f'sol at t={tini}', mode='markers', marker=marker), row=1, col=1)\n",
    "    marker = dict(symbol='x', color='rgb(76,114,176)')\n",
    "    fig.add_trace(go.Scattergl(x=x, y=yref, name=f'sol at t={tsol}', mode='markers', marker=marker), row=1, col=1)\n",
    "    \n",
    "    fig.add_trace(go.Scattergl(x=x, y=err, showlegend=False, mode='markers', marker=marker), row=2, col=1)\n",
    "    \n",
    "    fig.update_layout(height=800)\n",
    "    fig.update_yaxes(exponentformat='e')\n",
    "    fig.show()"
   ]
  },
  {
   "cell_type": "code",
   "execution_count": null,
   "id": "80501786-5ad6-4e3c-a510-38ecc7810446",
   "metadata": {
    "tags": [
     "hide-input"
    ]
   },
   "outputs": [],
   "source": [
    "class nagumo_model:\n",
    "\n",
    "    def __init__(self, k, d, xmin, xmax, nx) :\n",
    "        self.k = k\n",
    "        self.d = d\n",
    "        self.xmin = xmin\n",
    "        self.xmax = xmax\n",
    "        self.nx = nx\n",
    "        self.dx = (xmax-xmin)/(nx-1)\n",
    "\n",
    "        # construction de la matrice creuse de diffusion\n",
    "        doverdxdx = d/(self.dx**2)\n",
    "        diag = np.repeat(-2*doverdxdx,nx)\n",
    "        diag_x = np.repeat([2*doverdxdx, doverdxdx], [1, nx-2])\n",
    "        self.a = diags([np.flip(diag_x), diag, diag_x], [-1, 0, 1])\n",
    "\n",
    "    def fcn(self, t, y):\n",
    "        k = self.k\n",
    "        return self.a.dot(y) + k*y*y*(1-y)\n",
    "\n",
    "    def fcn_diff(self, t, y):        \n",
    "        return self.a.dot(y)\n",
    "    \n",
    "    def fcn_reac(self, t, y):\n",
    "        k = self.k  \n",
    "        return k*y*y*(1 - y)\n",
    "    \n",
    "    def fcn_exact(self, t):\n",
    "        k = self.k\n",
    "        d = self.d\n",
    "        xmin = self.xmin\n",
    "        xmax = self.xmax\n",
    "        nx = self.nx\n",
    "        dx = self.dx\n",
    "        x0 = -10.\n",
    "\n",
    "        v = (1./np.sqrt(2.))*(np.sqrt(k*d))\n",
    "        cst  = -(1./np.sqrt(2.))*(np.sqrt(k/d))\n",
    "\n",
    "        x = np.linspace(xmin, xmax, nx)\n",
    "        y = np.exp(cst*(x-x0-v*t)) / (1. + np.exp(cst*(x-x0-v*t)))\n",
    "        return y"
   ]
  },
  {
   "cell_type": "markdown",
   "id": "cf23d072-ac28-427c-8251-bb26cf07e75f",
   "metadata": {},
   "source": [
    "## Paramètres du problème"
   ]
  },
  {
   "cell_type": "code",
   "execution_count": null,
   "id": "53448a52-5927-47e5-8166-3d3e5050cac2",
   "metadata": {},
   "outputs": [],
   "source": [
    "k = 1.\n",
    "d = 1.\n",
    "\n",
    "xmin = -50.\n",
    "xmax = 50.\n",
    "nx = 2001\n",
    "tini = 0.0\n",
    "tend = 10.0\n",
    "\n",
    "nm = nagumo_model(k=k, d=d, xmin=xmin, xmax=xmax, nx=nx)\n",
    "dx = nm.dx\n",
    "x = np.linspace(xmin, xmax, nx)\n",
    "fcn_exact = nm.fcn_exact\n",
    "fcn = nm.fcn\n",
    "fcn_reac = nm.fcn_reac\n",
    "fcn_diff = nm.fcn_diff\n",
    "a = nm.a\n",
    "\n",
    "yini = fcn_exact(tini)\n",
    "yexa = fcn_exact(tend)"
   ]
  },
  {
   "cell_type": "markdown",
   "id": "b838992c-bd3a-4a81-beaa-229718db28c2",
   "metadata": {},
   "source": [
    "## Solution quasi exacte"
   ]
  },
  {
   "cell_type": "code",
   "execution_count": null,
   "id": "fbf15bb9-c82c-41fb-a7ea-3903a12d6c82",
   "metadata": {},
   "outputs": [],
   "source": [
    "tol = 1.e-9\n",
    "\n",
    "t1 = time.time()\n",
    "sol_ref = solve_ivp(fcn, (tini, tend), yini, method='Radau', t_eval=[tend], rtol=tol, atol=1.e-3*tol)\n",
    "t2 = time.time()\n",
    "print(f\"Time to solve : {t2-t1} s\")\n",
    "\n",
    "yref = sol_ref.y[:,0]\n",
    "\n",
    "err = np.abs(yref-yexa)\n",
    "print(f\"Norme de l'erreur par rapport à la solution exacte : {np.linalg.norm(err)/np.sqrt(nx-1):.10e}\")\n",
    "\n",
    "show_sol_and_err(tini, tend, x, yini, yref, yexa)"
   ]
  },
  {
   "cell_type": "markdown",
   "id": "04663db2-2c2a-45ec-a0cc-a978718f2bfe",
   "metadata": {},
   "source": [
    "## Méthode de Runge et Kutta d'ordre 2 (Heun)"
   ]
  },
  {
   "cell_type": "code",
   "execution_count": null,
   "id": "cddf29cd-01ef-4e3a-b94b-12af6a5904be",
   "metadata": {
    "tags": [
     "hide-input"
    ]
   },
   "outputs": [],
   "source": [
    "@dataclass\n",
    "class ode_result:\n",
    "    t: np.ndarray \n",
    "    y: np.ndarray\n",
    "    \n",
    "def heun(tini, tend, nt, yini, fcn):\n",
    "\n",
    "    dt = (tend-tini) / (nt-1)\n",
    "    t = np.linspace(tini, tend, nt)\n",
    "\n",
    "    yn = yini\n",
    "\n",
    "    for it, tn  in enumerate(t[:-1]):\n",
    "        k1 = fcn(tn, yn)\n",
    "        k2 = fcn(tn + dt, yn + dt*k1)\n",
    "        yn = yn + dt/2*(k1+k2)\n",
    "\n",
    "    return ode_result(t, yn)"
   ]
  },
  {
   "cell_type": "code",
   "execution_count": null,
   "id": "b87b9b1a-5ac3-47d9-888d-69f2081e70f8",
   "metadata": {},
   "outputs": [],
   "source": [
    "nt = 10001\n",
    "dt = (tend-tini)/(nt-1)\n",
    "print(f\"dt = {dt}\")\n",
    "\n",
    "t1 = time.time()\n",
    "sol = heun(tini, tend, nt, yini, fcn)\n",
    "t2 = time.time()\n",
    "print(f\"Time to solve : {t2-t1} s\")\n",
    "\n",
    "err = np.abs(yref-sol.y)\n",
    "print(f\"Norme de l'erreur par rapport à la solution quasi-exacte : {np.linalg.norm(err)/np.sqrt(nx-1):.10e}\")\n",
    "\n",
    "show_sol_and_err(tini, tend, x, yini, sol.y, yref)"
   ]
  },
  {
   "cell_type": "markdown",
   "id": "497d5c8f-726e-4696-8204-40d71095c0e5",
   "metadata": {},
   "source": [
    "## Méthode IMEX basée sur des méthodes de Runge-Kutta additives"
   ]
  },
  {
   "cell_type": "markdown",
   "id": "642b963c-fd99-45a4-8ebd-895efc08514c",
   "metadata": {},
   "source": [
    "### IMEX - RK d'ordre 2 à 2 étages "
   ]
  },
  {
   "cell_type": "code",
   "execution_count": null,
   "id": "9df59592-9077-4047-b028-7b0023cad30c",
   "metadata": {
    "tags": [
     "hide-input"
    ]
   },
   "outputs": [],
   "source": [
    "def imex_rk22(tini, tend, nt, yini, a, fcn):\n",
    "\n",
    "    dt = (tend-tini) / (nt-1)\n",
    "    t = np.linspace(tini, tend, nt)\n",
    "\n",
    "    yn = yini\n",
    "\n",
    "    lamb = 1 - np.sqrt(2)/2\n",
    "    #mat = sparse.eye(yini.size) - lamb*dt*a\n",
    "    mat = eye(yini.size) - lamb*dt*a\n",
    "\n",
    "    for it, tn  in enumerate(t[:-1]):\n",
    "        \n",
    "        y1 = spsolve(mat.tocsr(), yn)\n",
    "\n",
    "        rhs = yn + dt*fcn(tn,y1) + dt*(1-2*lamb)*a.dot(y1)\n",
    "        y2 = spsolve(mat.tocsr(), rhs)\n",
    "\n",
    "        yn = yn + 0.5*dt*(fcn(tn,y1) + fcn(tn,y2)) + 0.5*dt*a.dot(y1+y2)\n",
    "\n",
    "    return ode_result(t, yn)"
   ]
  },
  {
   "cell_type": "code",
   "execution_count": null,
   "id": "ab574729-525d-48f6-9cdf-1c934aa5f9f2",
   "metadata": {},
   "outputs": [],
   "source": [
    "nt = 1001\n",
    "dt = (tend-tini)/(nt-1)\n",
    "print(f\"dt = {dt}\")\n",
    "\n",
    "t1 = time.time()\n",
    "sol = imex_rk22(tini, tend, nt, yini, a, fcn_reac)\n",
    "t2 = time.time()\n",
    "print(f\"Time to solve : {t2-t1} s\")\n",
    "\n",
    "err = np.abs(yref-sol.y)\n",
    "print(f\"Norme de l'erreur par rapport à la solution quasi-exacte : {np.linalg.norm(err)/np.sqrt(nx-1):.10e}\")\n",
    "\n",
    "show_sol_and_err(tini, tend, x, yini, sol.y, yref)"
   ]
  },
  {
   "cell_type": "markdown",
   "id": "06d23633-5003-429e-a754-d0dc0ce2a6ea",
   "metadata": {},
   "source": [
    "### IMEX - RK d'ordre 2 à 3 étages "
   ]
  },
  {
   "cell_type": "code",
   "execution_count": null,
   "id": "d83d6e6a-1486-4476-937e-af7517b62efd",
   "metadata": {
    "tags": [
     "hide-input"
    ]
   },
   "outputs": [],
   "source": [
    "def imex_rk23(tini, tend, nt, yini, a, fcn):\n",
    "\n",
    "    dt = (tend-tini) / (nt-1)\n",
    "    t = np.linspace(tini, tend, nt)\n",
    "\n",
    "    yn = yini\n",
    "\n",
    "    lamb = 1 - np.sqrt(2)/2\n",
    "    mat = eye(yini.size) - lamb*dt*a\n",
    "\n",
    "    for it, tn  in enumerate(t[:-1]):\n",
    "        \n",
    "        rhs = yn + lamb*dt*fcn(tn,yn)\n",
    "        y2 = spsolve(mat.tocsr(), rhs)\n",
    "        \n",
    "        rhs = yn + (lamb-1)*dt*fcn(tn,yn) + 2*(1-lamb)*dt*fcn(tn,y2) + dt*(1-2*lamb)*a.dot(y2)\n",
    "        y3 = spsolve(mat.tocsr(), rhs)\n",
    "\n",
    "        yn = yn + 0.5*dt*(fcn(tn,y2) + fcn(tn,y3)) + 0.5*dt*a.dot(y2+y3)\n",
    "\n",
    "    return ode_result(t, yn)"
   ]
  },
  {
   "cell_type": "code",
   "execution_count": null,
   "id": "7d8bd2c6-1be3-4109-8adf-caef7f32ef15",
   "metadata": {},
   "outputs": [],
   "source": [
    "nt = 1001\n",
    "dt = (tend-tini)/(nt-1)\n",
    "print(f\"dt = {dt}\")\n",
    "\n",
    "t1 = time.time()\n",
    "sol = imex_rk23(tini, tend, nt, yini, a, fcn_reac)\n",
    "t2 = time.time()\n",
    "print(f\"Time to solve : {t2-t1} s\")\n",
    "\n",
    "err = np.abs(yref-sol.y)\n",
    "print(f\"Norme de l'erreur par rapport à la solution quasi-exacte : {np.linalg.norm(err)/np.sqrt(nx-1):.10e}\")\n",
    "\n",
    "show_sol_and_err(tini, tend, x, yini, sol.y, yref)"
   ]
  },
  {
   "cell_type": "markdown",
   "id": "3af62dfb-e411-4d94-87c0-a7b1ba7884a5",
   "metadata": {},
   "source": [
    "## Méthode de splitting (Strang)"
   ]
  },
  {
   "cell_type": "code",
   "execution_count": null,
   "id": "55ddd6fb-4311-487a-9789-2bd6e76939a7",
   "metadata": {
    "tags": [
     "hide-input"
    ]
   },
   "outputs": [],
   "source": [
    "def strang(tini, tend, nt, yini, fcn_a, fcn_b):\n",
    "\n",
    "    dt = (tend-tini) / (nt-1)\n",
    "    t = np.linspace(tini, tend, nt)\n",
    "    \n",
    "    yn = yini\n",
    "    \n",
    "    tol = 1.e-8\n",
    "    \n",
    "    for it, tn  in enumerate(t[:-1]):\n",
    "        sol = solve_ivp(fcn_b, (tn, tn+(dt/2)), yn, method=\"RK45\", rtol=tol, atol=tol)\n",
    "        sol = solve_ivp(fcn_a, (tn, tn+dt), sol.y[:,-1], method=\"RK45\", rtol=tol, atol=tol)\n",
    "        sol = solve_ivp(fcn_b, (tn+(dt/2), tn+dt), sol.y[:,-1], method=\"RK45\", rtol=tol, atol=tol)\n",
    "        yn = sol.y[:,-1]\n",
    "\n",
    "    return ode_result(t, yn)"
   ]
  },
  {
   "cell_type": "code",
   "execution_count": null,
   "id": "57a711dd-81b6-4d40-b923-a68afda78eb2",
   "metadata": {},
   "outputs": [],
   "source": [
    "nt = 1001\n",
    "dt = (tend-tini)/(nt-1)\n",
    "print(f\"dt = {dt}\")\n",
    "\n",
    "t1 = time.time()\n",
    "sol = strang(tini, tend, nt, yini, fcn_diff, fcn_reac)\n",
    "t2 = time.time()\n",
    "print(f\"Time to solve : {t2-t1} s\")\n",
    "\n",
    "err = np.abs(yref-sol.y)\n",
    "print(f\"Norme de l'erreur par rapport à la solution quasi-exacte : {np.linalg.norm(err)/np.sqrt(nx-1):.10e}\")\n",
    "\n",
    "show_sol_and_err(tini, tend, x, yini, sol.y, yref)"
   ]
  }
 ],
 "metadata": {
  "@webio": {
   "lastCommId": null,
   "lastKernelId": null
  },
  "celltoolbar": "Format de la Cellule Texte Brut",
  "kernelspec": {
   "display_name": "Python 3 (ipykernel)",
   "language": "python",
   "name": "python3"
  },
  "language_info": {
   "codemirror_mode": {
    "name": "ipython",
    "version": 3
   },
   "file_extension": ".py",
   "mimetype": "text/x-python",
   "name": "python",
   "nbconvert_exporter": "python",
   "pygments_lexer": "ipython3",
   "version": "3.10.4"
  }
 },
 "nbformat": 4,
 "nbformat_minor": 5
}
