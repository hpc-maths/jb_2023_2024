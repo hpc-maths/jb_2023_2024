{
 "cells": [
  {
   "cell_type": "code",
   "execution_count": 1,
   "id": "dbe0e6c1-ced6-456c-9eff-6af27f92ac11",
   "metadata": {},
   "outputs": [],
   "source": [
    "#\n",
    "#    Notebook de cours MAP412 - Chapitre 9 - M. Massot 2022-2023 - Ecole polytechnique\n",
    "#    ----------   \n",
    "#    Valeurs propres du Laplacien\n",
    "#    \n",
    "#    Auteurs : L. Séries et M. Massot - (C) 2022\n",
    "#    "
   ]
  },
  {
   "cell_type": "markdown",
   "id": "20dc249d",
   "metadata": {},
   "source": [
    "# Valeurs propres du Laplacien"
   ]
  },
  {
   "cell_type": "code",
   "execution_count": null,
   "id": "ab873895",
   "metadata": {
    "tags": [
     "hide-input"
    ]
   },
   "outputs": [],
   "source": [
    "import plotly.graph_objects as go\n",
    "import numpy as np"
   ]
  },
  {
   "cell_type": "markdown",
   "id": "40785014",
   "metadata": {},
   "source": [
    "En se basant sur l'analyse classique du spectre de la matrice $A$, on rappelle que les valeurs propres sont données par :\n",
    "\n",
    "$$\n",
    "\\lambda_k = - \\frac{4}{(\\Delta x)^2}\\,\\sin^2\\left( \\frac{k\\,\\pi}{2(n+1)}\\right),\\quad k=0,\\ldots,n-1.\n",
    "$$\n",
    "\n",
    "L'analyse classique donne comme valeurs propres de Laplacien sur un intervalle de longeur $L$ : \n",
    "\n",
    "$$\n",
    "\\frac{-k^2 \\pi^2}{L^2}, \\quad k=0,\\ldots,n-1,$$"
   ]
  },
  {
   "cell_type": "code",
   "execution_count": null,
   "id": "166f7673",
   "metadata": {},
   "outputs": [],
   "source": [
    "xmin = -5.\n",
    "xmax = 5.\n",
    "lx = xmax-xmin\n",
    "nx = 1000\n",
    "dx = lx /(nx+1)\n",
    "\n",
    "k = np.arange(nx)\n",
    "    \n",
    "cont_eig_vals = -((k * np.pi) / lx)**2\n",
    "disc_eig_vals = -(4/(dx*dx)) * np.sin((k*np.pi)/(2*(nx+1)))**2   \n",
    "\n",
    "fig = go.Figure()\n",
    "\n",
    "fig.add_trace(go.Scatter(x=k, y=cont_eig_vals, name=\"Valeurs propres du Laplacien\"))\n",
    "fig.add_trace(go.Scatter(x=k, y=disc_eig_vals, name=\"Valeurs propres du Laplacien discrétisé\"))\n",
    "\n",
    "# Create and add slider\n",
    "steps = []\n",
    "for nxi in np.arange(1000,10001,100):\n",
    "    dx = lx /(nxi+1)\n",
    "    k = np.arange(nxi)\n",
    "    cont_eig_vals = -((k * np.pi) / lx)**2\n",
    "    disc_eig_vals = -(4/(dx*dx)) * np.sin((k*np.pi)/(2*(nxi+1)))**2   \n",
    "    step = dict(method=\"update\", label = f\"{nxi}\", args=[{\"x\": [k, k], \"y\": [cont_eig_vals, disc_eig_vals]}])\n",
    "    steps.append(step)\n",
    "sliders = [dict(currentvalue={'prefix': 'nx = '}, steps=steps)]\n",
    "\n",
    "fig.update_layout(sliders=sliders, yaxis=dict(exponentformat='e'),  height=600,\n",
    "                  legend=dict(x=0.65, y=0.99, bgcolor='rgba(0,0,0,0)'))\n",
    "fig.show()"
   ]
  }
 ],
 "metadata": {
  "@webio": {
   "lastCommId": null,
   "lastKernelId": null
  },
  "kernelspec": {
   "display_name": "Python 3 (ipykernel)",
   "language": "python",
   "name": "python3"
  },
  "language_info": {
   "codemirror_mode": {
    "name": "ipython",
    "version": 3
   },
   "file_extension": ".py",
   "mimetype": "text/x-python",
   "name": "python",
   "nbconvert_exporter": "python",
   "pygments_lexer": "ipython3",
   "version": "3.10.4"
  }
 },
 "nbformat": 4,
 "nbformat_minor": 5
}
