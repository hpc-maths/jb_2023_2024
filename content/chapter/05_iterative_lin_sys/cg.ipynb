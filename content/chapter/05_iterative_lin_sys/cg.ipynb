{
 "cells": [
  {
   "cell_type": "code",
   "execution_count": null,
   "id": "433658d7-f96a-44b8-b7df-32f258f0a8ba",
   "metadata": {},
   "outputs": [],
   "source": [
    "#\n",
    "#    Notebook de cours MAP412 - Chapitre 5 - M. Massot 2022-2023 - Ecole polytechnique\n",
    "#    ----------   \n",
    "#    Challenge : convergence du gradient conjugué\n",
    "#    \n",
    "#    Auteurs : L. Séries et M. Massot - (C) 2022\n",
    "#    "
   ]
  },
  {
   "cell_type": "markdown",
   "id": "77c431ac-cb01-42a0-b577-02f2ff54f638",
   "metadata": {},
   "source": [
    "# Challenge : convergence du gradient conjugué"
   ]
  },
  {
   "cell_type": "code",
   "execution_count": null,
   "id": "9419a94d-3cea-49e6-ad90-08d6ece0b6ab",
   "metadata": {},
   "outputs": [],
   "source": [
    "import numpy as np\n",
    "from scipy.sparse import diags\n",
    "\n",
    "def eig_val_1d(nx, dx, i):\n",
    "    a = (4/(dx**2))\n",
    "    return a*np.sin((np.pi*i)/(2*(nx+1)))**2\n",
    "\n",
    "def eig_vec(nx, dx, i):\n",
    "    j = np.arange(1,nx+1)\n",
    "    return np.sqrt(2/(nx+1)) * np.sin(j*i*np.pi/(nx+1))\n",
    "\n",
    "def conjugate_gradient(a, b, eps=1.e-6):\n",
    "    xk = np.zeros(b.size)\n",
    "    norm_b = np.linalg.norm(b)\n",
    "\n",
    "    rk = b - a.dot(xk)\n",
    "    pk = rk\n",
    "    rkm1 = rk\n",
    "    \n",
    "    hist_norm_rk = []\n",
    "\n",
    "    for k in range(b.size):\n",
    "        apk = a.dot(pk)\n",
    "        alpha = np.dot(rk,rk) / np.dot(pk, apk)\n",
    "        xk = xk + alpha*pk\n",
    "        rk = rk - alpha*apk\n",
    "        norm_rk = np.linalg.norm(rk)\n",
    "        hist_norm_rk.append(norm_rk/norm_b)\n",
    "        if norm_rk/norm_b < eps: break\n",
    "        beta = np.dot(rk,rk) / np.dot(rkm1, rkm1)\n",
    "        pk = rk + beta*pk\n",
    "        rkm1 = rk\n",
    "\n",
    "    print(f\"  Nombre d'itérations = {k+1}\")\n",
    "    print(f\"  ||A.xk - b|| / ||b|| = {norm_rk/norm_b}\")\n",
    "\n",
    "    return xk, hist_norm_rk"
   ]
  },
  {
   "cell_type": "markdown",
   "id": "a21b294b-b030-4775-9eb8-5355d35de161",
   "metadata": {},
   "source": [
    "## Equation de Poisson\n",
    "\n",
    "On souhaite résoudre le problème elliptique constitué par l'équation de Poisson dans le cas 1D soumise à des conditions aux limites de type de Dirichlet homogène :\n",
    "\n",
    "$$\n",
    "\\left\\{\n",
    "\\begin{aligned}\n",
    "- & u''(x)  =  f(x) \\quad \\text{dans} \\; \\Omega = [0,1] \\quad \\text{avec} \\; f(x)=1\\\\\n",
    "  & u(0)  =  0 \\; \\text{et} \\; u(1) = 0\n",
    "\\end{aligned}\n",
    "\\right.\n",
    "$$\n",
    "\n",
    "La discrétisation par différence finie permet de se ramener à la résolution d'un système linéaire $Ax=b$.\n",
    "\n",
    "On résoud ce système avec l'algorithme du gradient conjugué en choisissant l'itéré initial $x_0 = 0$ pour différent second membre."
   ]
  },
  {
   "cell_type": "code",
   "execution_count": null,
   "id": "99601e20-0122-4cf7-bf6d-0c993d4906e1",
   "metadata": {},
   "outputs": [],
   "source": [
    "nx = 100\n",
    "dx = 1/(nx+1)\n",
    "\n",
    "# construction de la matrice creuse\n",
    "diag = np.repeat(2/dx**2, nx)\n",
    "diag_x = np.repeat(-1/dx**2, nx-1)\n",
    "a  = diags([diag, diag_x, diag_x], [0, -1, 1])"
   ]
  },
  {
   "cell_type": "markdown",
   "id": "7b52a2f6-6cab-4c67-8871-a2a19900a9c2",
   "metadata": {},
   "source": [
    "**Cas d'un second membre $b$ toutes les composantes de valent 1**"
   ]
  },
  {
   "cell_type": "code",
   "execution_count": null,
   "id": "5914dc05-b031-4eec-acd9-013a05f02056",
   "metadata": {
    "tags": []
   },
   "outputs": [],
   "source": [
    "b = np.ones(nx)\n",
    "print(f\"Cas 1d : nx = {nx}\")\n",
    "print(f\"Taille de la matrice : ({nx} x {nx})\")\n",
    "u, _ = conjugate_gradient(a, b)"
   ]
  },
  {
   "cell_type": "markdown",
   "id": "23e789e6-0044-4ea6-978c-6530393bacb4",
   "metadata": {},
   "source": [
    "**Cas d'un second membre $b$ égale à un vecteur propre de $A$**"
   ]
  },
  {
   "cell_type": "code",
   "execution_count": null,
   "id": "74399ac9-468e-4f4b-b9c1-99f1f92d50c3",
   "metadata": {},
   "outputs": [],
   "source": [
    "b = eig_vec(nx, dx, 3)\n",
    "\n",
    "print(f\"Cas 1d : nx = {nx}\")\n",
    "print(f\"Taille de la matrice : ({nx} x {nx})\")\n",
    "\n",
    "x, _ = conjugate_gradient(a, b)"
   ]
  },
  {
   "cell_type": "markdown",
   "id": "7a458d56-621b-469f-87ce-fa5956db2ee6",
   "metadata": {},
   "source": [
    "Comment expliquer que l'algorithme converge en 1 itération lorsque le second membre est un vecteur propre de $A$ ? "
   ]
  }
 ],
 "metadata": {
  "kernelspec": {
   "display_name": "Python 3 (ipykernel)",
   "language": "python",
   "name": "python3"
  },
  "language_info": {
   "codemirror_mode": {
    "name": "ipython",
    "version": 3
   },
   "file_extension": ".py",
   "mimetype": "text/x-python",
   "name": "python",
   "nbconvert_exporter": "python",
   "pygments_lexer": "ipython3",
   "version": "3.10.12"
  }
 },
 "nbformat": 4,
 "nbformat_minor": 5
}
