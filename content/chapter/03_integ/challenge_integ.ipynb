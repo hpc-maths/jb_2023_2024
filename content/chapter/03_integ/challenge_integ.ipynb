{
 "cells": [
  {
   "cell_type": "code",
   "execution_count": null,
   "id": "92addcc4-dd0e-409d-8258-24ec49ca34b4",
   "metadata": {},
   "outputs": [],
   "source": [
    "#\n",
    "#    Notebook de cours MAP412 - Chapitre 3 - M. Massot 2022-2023 - Ecole polytechnique\n",
    "#    ----------   \n",
    "#    Challenge  interpolation     \n",
    "#    Auteurs : L. Séries et M. Massot - (C) 2022\n",
    "#    "
   ]
  },
  {
   "cell_type": "markdown",
   "id": "1726bb06-3913-40ab-b2b4-6f751b6bc6d1",
   "metadata": {},
   "source": [
    "# Challenge : interpolation d'une fonction singulière"
   ]
  },
  {
   "cell_type": "markdown",
   "id": "853df58a-0856-415e-a678-77f0448985cc",
   "metadata": {},
   "source": [
    "On cherche à intégrer la fonction $f(x) = \\sqrt(x) \\log(x)$ sur l'intervalle $]0,1]$."
   ]
  },
  {
   "cell_type": "code",
   "execution_count": null,
   "id": "e53a87c3-e4fb-4c60-8357-cff5cc7ee8b1",
   "metadata": {
    "tags": [
     "hide-input"
    ]
   },
   "outputs": [],
   "source": [
    "import numpy as np\n",
    "import plotly.graph_objs as go\n",
    "import plotly.io as pio\n",
    "pio.templates.default = \"seaborn\""
   ]
  },
  {
   "cell_type": "code",
   "execution_count": null,
   "id": "743972f5-5984-4179-8522-4ccbf7ff964f",
   "metadata": {},
   "outputs": [],
   "source": [
    "def f(x):\n",
    "    return np.sqrt(x)*np.log(x)"
   ]
  },
  {
   "cell_type": "code",
   "execution_count": null,
   "id": "17d30d52-e94f-431c-b7ee-c14fe197e1ef",
   "metadata": {},
   "outputs": [],
   "source": [
    "x = np.linspace(1.e-20, 1, 500)\n",
    "\n",
    "fig = go.Figure(go.Scatter(x=x, y=f(x), fill='tozeroy', name='f(x)'))\n",
    "fig.update_layout(title=\"Intégration de la fonction f(x) = √x log(x)\")\n",
    "fig.show(height=500)"
   ]
  },
  {
   "cell_type": "markdown",
   "id": "30bab81b-4776-4ddd-902b-d7f62e22b4ad",
   "metadata": {},
   "source": [
    "Quelle est la meilleure stratégie à adopter pour intégrer cette fonction en terme de côut pour obtenir une bonne précision (de l'ordre de 1e-13) : monter en ordre pour une formule de quadrature ou fixer un ordre de quadrature et augmenter le nombre de division ? "
   ]
  }
 ],
 "metadata": {
  "kernelspec": {
   "display_name": "Python 3 (ipykernel)",
   "language": "python",
   "name": "python3"
  },
  "language_info": {
   "codemirror_mode": {
    "name": "ipython",
    "version": 3
   },
   "file_extension": ".py",
   "mimetype": "text/x-python",
   "name": "python",
   "nbconvert_exporter": "python",
   "pygments_lexer": "ipython3",
   "version": "3.10.12"
  }
 },
 "nbformat": 4,
 "nbformat_minor": 5
}
