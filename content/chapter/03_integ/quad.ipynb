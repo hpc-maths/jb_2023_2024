{
 "cells": [
  {
   "cell_type": "code",
   "execution_count": null,
   "id": "0f51c0ed-49d2-4870-b303-04fe4163b6df",
   "metadata": {},
   "outputs": [],
   "source": [
    "#\n",
    "#    Notebook de cours MAP412 - Chapitre 3 - M. Massot 2022-2023 - Ecole polytechnique\n",
    "#    ----------   \n",
    "#    Formule de quadrature\n",
    "#    \n",
    "#    Auteurs : L. Séries et M. Massot - (C) 2022\n",
    "#    "
   ]
  },
  {
   "cell_type": "markdown",
   "id": "9eb20dbd-b14e-4745-b1ce-793da9c443a3",
   "metadata": {
    "tags": []
   },
   "source": [
    "# Formule de quadrature\n",
    "\n",
    "On cherche à approcher l’intégrale :\n",
    "\n",
    "$$\n",
    "I^{[a,b]}(f) = \\int_a^b f(x){\\mathrm d}x.\n",
    "$$"
   ]
  },
  {
   "cell_type": "markdown",
   "id": "646fb038-e712-450c-ae27-d21ff82f40c1",
   "metadata": {},
   "source": [
    "## Formule simple"
   ]
  },
  {
   "cell_type": "markdown",
   "id": "6ebb63a0-23a1-4de1-bc8b-574ec42f0c9c",
   "metadata": {},
   "source": [
    "A partir d’une formule de quadrature à $n+1$ points définie sur un intervalle de référence, par exemple $[−1, 1]$ :\n",
    "\n",
    "$$\n",
    "I_{n}^{[−1, 1]}(f) = \\sum_{k=0}^{n} f(x_k) \\omega_k\n",
    "$$\n",
    "\n",
    "on peut obtenir une formule de quadrature à $n+1$ points directement sur l'intervalle $[a,b]$ :\n",
    "\n",
    "$$\n",
    "I_{n}^{[a, b]}(f) = \\sum_{k=0}^{n} f(\\tilde{x}_k) \\tilde{\\omega}_k,  \\quad \\tilde{x}_k = a + \\frac{b-a}{2} (x_k+1), \\quad \\tilde{x}_k =  \\frac{b-a}{2} \\omega_k\n",
    "$$\n",
    "\n",
    "où les $n$ abscisses de quadrature sont les $\\tilde{x}_k$ et les poids associés sont les $\\tilde{x}_k$."
   ]
  },
  {
   "cell_type": "code",
   "execution_count": null,
   "id": "8bacd3c3-3fc2-481a-ae1f-04ba74700253",
   "metadata": {
    "tags": [
     "hide-input"
    ]
   },
   "outputs": [],
   "source": [
    "import numpy as np\n",
    "import plotly.graph_objs as go\n",
    "from scipy.integrate import newton_cotes\n",
    "from scipy import interpolate\n",
    "import plotly.io as pio\n",
    "pio.templates.default = \"seaborn\""
   ]
  },
  {
   "cell_type": "markdown",
   "id": "a89dbc57-b18d-4ab3-83b5-ba3bb2e51800",
   "metadata": {},
   "source": [
    "**Exemple pour $f(x) = \\cos(\\frac{\\pi}{2}x)$ sur l'intervalle $[0,1]$ avec les formules de Newton-Cotes**"
   ]
  },
  {
   "cell_type": "code",
   "execution_count": null,
   "id": "911d23a3-b760-4ecf-a24f-972176789600",
   "metadata": {
    "tags": [
     "hide-input"
    ]
   },
   "outputs": [],
   "source": [
    "def f(x):\n",
    "    return np.cos((np.pi/2)*x)\n",
    "\n",
    "xplot = np.linspace(0,1,100)\n",
    "\n",
    "fig = go.Figure(layout_title='Formule simple')\n",
    "fig.add_trace(go.Scatter(x=xplot, y=f(xplot), name='f(x)', line_width=3, line_color='rgb(76,114,176)'))\n",
    "\n",
    "n = np.arange(1,20)\n",
    "\n",
    "for ni in n:\n",
    "    xk = np.linspace(0, 1, ni+1)\n",
    "    p = interpolate.KroghInterpolator(xk, f(xk))\n",
    "    fig.add_trace(go.Scatter(visible=False, x=xk, y=f(xk), mode='markers', line_color='rgb(221,132,82)', marker_size=8, showlegend=False))\n",
    "    fig.add_trace(go.Scatter(visible=False, x=xplot, y=p(xplot), fill='tozeroy', line_color='rgb(221,132,82)', name=\"Intégrale <br> estimée\"))\n",
    "\n",
    "# Make plot visible for s=2\n",
    "fig.data[1].visible = True\n",
    "fig.data[2].visible = True\n",
    "\n",
    "# Create and add slider\n",
    "steps = []\n",
    "for i, ni in enumerate(n):\n",
    "    step = dict(method=\"update\", label = f\" {ni+1}\",\n",
    "                args=[{\"visible\": [el==0 or el==2*i+1 or el==2*i+2 for el in range(len(fig.data))]}])\n",
    "    steps.append(step)\n",
    "sliders = [dict(currentvalue={\"prefix\": \"Nb de points : \"}, steps=steps)]\n",
    "\n",
    "fig.update_layout(sliders=sliders, height=500)\n",
    "fig.show()"
   ]
  },
  {
   "cell_type": "markdown",
   "id": "1f47144e-8522-410e-9e62-e9f0a1aed58c",
   "metadata": {},
   "source": [
    "**Résultats pour $f(x) = \\cos(\\frac{\\pi}{2}x)$ avec les formules de Newton-Cotes**"
   ]
  },
  {
   "cell_type": "code",
   "execution_count": null,
   "id": "84ce2491-e62a-4b30-b190-c015a7c11ddb",
   "metadata": {},
   "outputs": [],
   "source": [
    "def f(x):\n",
    "    return np.cos((np.pi/2)*x)\n",
    "\n",
    "res_exa = 2/np.pi\n",
    "\n",
    "n = np.arange(1, 40, 1)\n",
    "\n",
    "a = 0.\n",
    "b = 1.\n",
    "\n",
    "for ni in n:\n",
    "    wk, _ = newton_cotes(ni, equal=1)\n",
    "    xk = np.linspace(a, b, ni+1)\n",
    "    dx = (b - a) / ni\n",
    "    quad = dx * np.sum(wk * f(xk))\n",
    "    err = np.abs(quad - res_exa)/res_exa\n",
    "    print(f\"Nb de points : {ni+1:2d} --> erreur relative  : {err:20.15e}\")"
   ]
  },
  {
   "cell_type": "markdown",
   "id": "c41b3dc6-2b7d-4c96-9332-19be05d06ef1",
   "metadata": {},
   "source": [
    "**Résultats pour $g(x) = \\sqrt(x) \\log(x)$ avec les formules de Newton-Cotes**"
   ]
  },
  {
   "cell_type": "code",
   "execution_count": null,
   "id": "fc347df7-ec98-4b01-8dbb-dcc9cb3e2ead",
   "metadata": {},
   "outputs": [],
   "source": [
    "def g(x):\n",
    "    return  np.sqrt(x)*np.log(x)\n",
    "\n",
    "res_exa = -4./9.\n",
    "\n",
    "n = np.arange(1, 40, 1)\n",
    "\n",
    "a = 1.e-20\n",
    "b = 1.\n",
    "\n",
    "for ni in n:\n",
    "    wk, _ = newton_cotes(ni, equal=1)\n",
    "    xk = np.linspace(a, b, ni+1)\n",
    "    dx = (b - a) / ni\n",
    "    quad = dx * np.sum(wk * g(xk))\n",
    "    err = np.abs(quad - res_exa)/np.abs(res_exa)\n",
    "    print(f\"Nb de points : {ni+1:2d} --> erreur relative  : {err:20.15e}\")"
   ]
  },
  {
   "cell_type": "markdown",
   "id": "e83c4522-8e4d-47ab-95ea-e8f1ab86c8db",
   "metadata": {},
   "source": [
    "## Formules composées\n",
    "\n",
    "Pour la formule composée, on subdivise l'intervalle $[a,b]$ en $m$ sous-intervalles $[t_j,t_{j+1}]$, $j\\in\\{0, m-1\\}$, $a=t_0 < t_j \\ldots, <t_m=b$, sur lesquels on va utiliser une formule simple:\n",
    "\n",
    "$$\n",
    "I_{m,n}^{[a, b]}(f) = \\sum_{j=0}^{m-1} I_{m,n}^{[t_j,t_{j+1}]}(f)\n",
    "$$"
   ]
  },
  {
   "cell_type": "markdown",
   "id": "57956175-4dfe-4bd4-8247-965850faf008",
   "metadata": {},
   "source": [
    "**Exemple pour $f(x) = cos(\\frac{\\pi}{2}x)$ pour $m=2$ avec les formules de Newton-Cotes**"
   ]
  },
  {
   "cell_type": "code",
   "execution_count": null,
   "id": "6c260a65-47c7-4c99-a3dd-de3f5991f0aa",
   "metadata": {
    "tags": [
     "hide-input"
    ]
   },
   "outputs": [],
   "source": [
    "def f(x):\n",
    "    return np.cos((np.pi/2)*x)\n",
    "\n",
    "xplot = np.linspace(0,1,100)\n",
    "\n",
    "fig = go.Figure(layout_title='Formule composée avec Newton-Cotes')\n",
    "fig.add_trace(go.Scatter(x=xplot, y=f(xplot), name='f(x)', line_width=3, line_color='rgb(76,114,176)'))\n",
    "\n",
    "n = np.arange(1,20)\n",
    "\n",
    "m = 2\n",
    "x = np.linspace(0, 1, m+1)\n",
    "\n",
    "for ni in n: \n",
    "    #print(\"nb pts : \", ni+1)\n",
    "    for j in range(m):\n",
    "        xk = np.linspace(x[j], x[j+1], ni+1)\n",
    "        ####print(xk)\n",
    "        p = interpolate.KroghInterpolator(xk, f(xk))\n",
    "        xplot = np.linspace(x[j],x[j+1],100)\n",
    "        fig.add_trace(go.Scatter(visible=False, x=xk, y=f(xk), mode='markers', line_color='rgb(76,114,176)', marker_size=8, showlegend=False))\n",
    "        fig.add_trace(go.Scatter(visible=False, x=xplot, y=p(xplot), fill='tozeroy', name=f\"j={j}\"))\n",
    "\n",
    "# Make plot visible for n=1\n",
    "for j in range(m):\n",
    "    for iplot in range(2):\n",
    "        #print(iplot+j*2+1)\n",
    "        fig.data[iplot+j*2+1].visible = True\n",
    "    \n",
    "fig.data[1].visible = True\n",
    "fig.data[2].visible = True\n",
    "fig.data[3].visible = True\n",
    "fig.data[4].visible = True\n",
    "\n",
    "# Create and add slider\n",
    "steps = []\n",
    "for i, ni in enumerate(n):\n",
    "    step = dict(method=\"update\", label = f\" {ni+1}\",\n",
    "                args=[{\"visible\": [el==0 or el==2*m*i+1 or el==2*m*i+2 or el==2*m*i+3 or el==2*m*i+4 \n",
    "                                   for el in range(len(fig.data))]}])\n",
    "    steps.append(step)\n",
    "sliders = [dict(currentvalue={\"prefix\": \"Nb de points : \"}, steps=steps)]\n",
    "\n",
    "fig.update_layout(sliders=sliders, height=500)\n",
    "\n",
    "fig.show()"
   ]
  },
  {
   "cell_type": "markdown",
   "id": "5b5e30c9-61fb-4ef5-82be-ace308a18201",
   "metadata": {},
   "source": [
    "**Résultats pour $f(x) = cos(\\frac{\\pi}{2}x)$ avec les formules de Newton-Cotes**"
   ]
  },
  {
   "cell_type": "code",
   "execution_count": null,
   "id": "e8cc96cf-5a2c-44a3-bc48-c62f1955d242",
   "metadata": {},
   "outputs": [],
   "source": [
    "res_exa = 2/np.pi\n",
    "\n",
    "s = 3\n",
    "w, _ = newton_cotes(s-1, equal=1)\n",
    "w = w/(s-1)\n",
    "r = np.linspace(0, 1, s)\n",
    "print(f\"Nb de points par intervalle : {s}\\n\")\n",
    "\n",
    "a = 0\n",
    "b = 1\n",
    "\n",
    "n = np.array((1, 10, 100, 500, 1000, 10000, 100000))\n",
    "\n",
    "for i, ni in enumerate(n):\n",
    "    x = np.linspace(a, b, ni+1)\n",
    "    res = 0.\n",
    "    for j in range(ni):\n",
    "        h = x[j+1]-x[j]\n",
    "        res +=  h * np.sum(w * f(x[j]+h*r))\n",
    "    err = np.abs(res - res_exa)/res_exa\n",
    "    print(f\"Nb d'intervalles : {ni:6d} --> erreur relative  : {err:20.15e}\")"
   ]
  },
  {
   "cell_type": "markdown",
   "id": "7e1e9a3c-0783-41da-866f-2e474543a019",
   "metadata": {},
   "source": [
    "**Résultats pour $g(x) = \\sqrt(x) \\log(x)$ avec les formules de Newton-Cotes**"
   ]
  },
  {
   "cell_type": "code",
   "execution_count": null,
   "id": "c1046ca9-4445-44e8-af0d-0759033eb533",
   "metadata": {},
   "outputs": [],
   "source": [
    "res_exa = -4./9.\n",
    "\n",
    "s = 7\n",
    "w, _ = newton_cotes(s-1, equal=1)\n",
    "w = w/(s-1)\n",
    "r = np.linspace(0, 1, s)\n",
    "print(f\"Nb de points par intervalle : {s}\\n\")\n",
    "\n",
    "a = 1e-20\n",
    "b = 1\n",
    "\n",
    "n = np.array((1, 10, 100, 500, 1000, 10000, 100000))\n",
    "\n",
    "for i, ni in enumerate(n):\n",
    "    x = np.linspace(a, b, ni+1)\n",
    "    res = 0.\n",
    "    for j in range(ni):\n",
    "        h = x[j+1]-x[j]\n",
    "        res +=  h * np.sum(w * g(x[j]+h*r))\n",
    "    err = np.abs(res - res_exa)/res_exa\n",
    "    print(f\"Nb d'intervalles : {ni:6d} --> erreur relative  : {err:20.15e}\")"
   ]
  }
 ],
 "metadata": {
  "kernelspec": {
   "display_name": "Python 3 (ipykernel)",
   "language": "python",
   "name": "python3"
  },
  "language_info": {
   "codemirror_mode": {
    "name": "ipython",
    "version": 3
   },
   "file_extension": ".py",
   "mimetype": "text/x-python",
   "name": "python",
   "nbconvert_exporter": "python",
   "pygments_lexer": "ipython3",
   "version": "3.10.4"
  }
 },
 "nbformat": 4,
 "nbformat_minor": 5
}
