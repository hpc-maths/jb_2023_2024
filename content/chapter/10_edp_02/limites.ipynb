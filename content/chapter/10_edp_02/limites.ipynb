{
 "cells": [
  {
   "cell_type": "code",
   "execution_count": null,
   "id": "be08fc2a-4cfb-4877-b624-3f46a2421de4",
   "metadata": {},
   "outputs": [],
   "source": [
    "#\n",
    "#    Notebook de cours MAP412 - Chapitre 10 - M. Massot 2022-2023 - Ecole polytechnique\n",
    "#    ----------   \n",
    "#    EDP : Partie II : Limite des schémas d'ordre 1 et 2\n",
    "#    \n",
    "#    Auteurs : L. Séries et M. Massot - (C) 2022\n",
    "#    "
   ]
  },
  {
   "cell_type": "code",
   "execution_count": null,
   "id": "5f8da23a-815d-450f-b654-a70b392610be",
   "metadata": {
    "tags": [
     "hide-input"
    ]
   },
   "outputs": [],
   "source": [
    "import numpy as np\n",
    "import plotly.graph_objects as go\n",
    "import plotly.io as pio\n",
    "pio.templates.default = \"seaborn\""
   ]
  },
  {
   "cell_type": "markdown",
   "id": "58a88277-6341-42cd-8627-51d4cac5db12",
   "metadata": {},
   "source": [
    "# Limite des schémas d'ordre 1 et 2"
   ]
  },
  {
   "cell_type": "code",
   "execution_count": null,
   "id": "111e20b8-72e6-4b98-a6d6-c8d4c671eac8",
   "metadata": {
    "tags": [
     "hide-input"
    ]
   },
   "outputs": [],
   "source": [
    "def upwind(u, nt, a, dtoverdx):\n",
    "    for it in range(nt-1):\n",
    "        flux = a*u\n",
    "        u[1:] += -dtoverdx * (flux[1:] - flux[:-1])\n",
    "        u[0] = u[-1]\n",
    "    return u\n",
    "\n",
    "def lax_wendroff(u, nt, a, dtoverdx):\n",
    "    nu = a*dtoverdx\n",
    "    for it in range(nt-1):        \n",
    "        flux = u[:-1] + ((1-nu)/2)*(u[1:] - u[:-1])\n",
    "        u[1:-1] += -dtoverdx * (flux[1:] - flux[:-1])\n",
    "        u[0] = u[-2]\n",
    "        u[-1] = u[0]\n",
    "    return u"
   ]
  },
  {
   "cell_type": "markdown",
   "id": "8a75cf74-5865-47b9-ba05-e0b929333b29",
   "metadata": {},
   "source": [
    "## Equation d’advection linéaire"
   ]
  },
  {
   "cell_type": "markdown",
   "id": "e67bb227-6ce5-4298-830b-c78b18bffbf2",
   "metadata": {},
   "source": [
    "On considère l'équation d'advection linéaire :\n",
    "\n",
    "$$ \\partial_t u(x,t) + a \\, \\partial_x u(x,t) = 0$$\n",
    "\n",
    "Nous prendrons comme vitesse de propagation $a=1$."
   ]
  },
  {
   "cell_type": "markdown",
   "id": "2581328e-b206-4aea-862c-a9b986febc2e",
   "metadata": {},
   "source": [
    "### Schéma d'ordre 1 pour des données initiales régulières\n",
    "\n",
    "On choisit une donnée initiale régulière :\n",
    "\n",
    "$$ u(x,0) = u_0(x) = sin(2 \\pi x) $$"
   ]
  },
  {
   "cell_type": "code",
   "execution_count": null,
   "id": "2dcbcc23-097c-42b3-8b9f-aacf04bfbd55",
   "metadata": {},
   "outputs": [],
   "source": [
    "xmin =  0.0\n",
    "xmax =  1.0\n",
    "\n",
    "tini = 0.0\n",
    "tend = 3.1\n",
    "\n",
    "a = 1.\n",
    "\n",
    "nx = 400\n",
    "dx = (xmax-xmin) / nx\n",
    "x = np.linspace(xmin+(dx/2), xmax-(dx/2), nx)\n",
    "\n",
    "cfl = 0.5\n",
    "\n",
    "nt = int(a*(tend-tini)/(cfl*dx)) + 1\n",
    "dt = (tend-tini)/(nt-1)\n",
    "dtoverdx = dt/dx\n",
    "\n",
    "uini = lambda x : np.sin(2*np.pi*x)\n",
    "\n",
    "# initialisation de la solution avec une maille fantôme à gauche et des conditions aux limtes périodiques\n",
    "unum = np.zeros(nx+1)\n",
    "unum[1:] = uini(x)\n",
    "unum[0] = unum[-1]\n",
    "\n",
    "unum = upwind(unum, nt, a, dtoverdx)\n",
    "\n",
    "fig = go.Figure()\n",
    "fig.add_trace(go.Scatter(x=x, y=uini(x), name='sol initiale'))\n",
    "fig.add_trace(go.Scatter(x=x, y=uini(x-a*tend), name=f'sol. exa. à t={tend}'))\n",
    "fig.add_trace(go.Scatter(x=x, y=unum[1:], name=f'sol. num. à t={tend}'))\n",
    "legend = dict(x=0.8, bgcolor='rgba(0,0,0,0)')\n",
    "fig.update_layout(height=500, legend=legend)\n",
    "fig.show()"
   ]
  },
  {
   "cell_type": "markdown",
   "id": "ab6b00bb-1cfe-4b32-913b-e4471df70af3",
   "metadata": {},
   "source": [
    "### Schéma d'ordre 2 pour des données initiales régulières"
   ]
  },
  {
   "cell_type": "code",
   "execution_count": null,
   "id": "a9813173-d886-44fe-89fa-6921d03a4f62",
   "metadata": {},
   "outputs": [],
   "source": [
    "xmin =  0.0\n",
    "xmax =  1.0\n",
    "\n",
    "tini = 0.0\n",
    "tend = 3.1\n",
    "\n",
    "a = 1.0\n",
    "\n",
    "nx = 400\n",
    "dx = (xmax-xmin) / nx\n",
    "x = np.linspace(xmin+(dx/2), xmax-(dx/2), nx)\n",
    "\n",
    "cfl = 0.5\n",
    "\n",
    "nt = int(a*(tend-tini)/(cfl*dx)) + 1\n",
    "dt = (tend-tini)/(nt-1)\n",
    "dtoverdx = dt/dx\n",
    "\n",
    "uini = lambda x : np.sin(2*np.pi*x)\n",
    "\n",
    "# initialisation de la solution avec une maille fantôme à gauche et à droite des conditions aux limtes périodiques\n",
    "unum = np.zeros(nx+2)\n",
    "unum[1:-1] = uini(x)\n",
    "unum[0] = unum[-2]\n",
    "unum[-1] = unum[0]\n",
    "\n",
    "unum = lax_wendroff(unum, nt, a, dtoverdx)\n",
    "\n",
    "fig = go.Figure()\n",
    "fig.add_trace(go.Scatter(x=x, y=uini(x), name='sol initiale'))\n",
    "fig.add_trace(go.Scatter(x=x, y=uini(a*x-tend), name=f'sol. exa. à t={tend}'))\n",
    "fig.add_trace(go.Scatter(x=x, y=unum[:-2], name=f'sol. num. à t={tend}'))\n",
    "legend = dict(x=0.8, bgcolor='rgba(0,0,0,0)')\n",
    "fig.update_layout(height=500, legend=legend)\n",
    "fig.show()"
   ]
  },
  {
   "cell_type": "markdown",
   "id": "630b3e8f-1381-4a0d-bb0f-0ad306471979",
   "metadata": {},
   "source": [
    "### Schéma d'ordre 1 pour des données initiales discontinues\n",
    "\n",
    "On choisit une donnée initiale discontinue de type créneau."
   ]
  },
  {
   "cell_type": "code",
   "execution_count": null,
   "id": "fb7dbb34-1947-4f5e-acfc-79c29e5d95f2",
   "metadata": {
    "tags": [
     "hide-input"
    ]
   },
   "outputs": [],
   "source": [
    "# Solution initiale du créneau\n",
    "def step_ini(x):\n",
    "    u = np.empty(x.size)\n",
    "    for ix, xi in enumerate(x):\n",
    "        if xi <=-0.5 or xi>=0.5:\n",
    "            u[ix] = 0.\n",
    "        else:\n",
    "            u[ix] = 1.\n",
    "    return u"
   ]
  },
  {
   "cell_type": "code",
   "execution_count": null,
   "id": "0fa613dc-757e-453a-a117-3f6cc6ff3c20",
   "metadata": {},
   "outputs": [],
   "source": [
    "xmin =  -2.0\n",
    "xmax =  2.0\n",
    "\n",
    "tini = 0.0\n",
    "tend = 1.0\n",
    "\n",
    "a = 1.0\n",
    "\n",
    "nx = 400\n",
    "dx = (xmax-xmin) / nx\n",
    "x = np.linspace(xmin+(dx/2), xmax-(dx/2), nx)\n",
    "\n",
    "cfl = 0.5\n",
    "\n",
    "nt = int(a*(tend-tini)/(cfl*dx)) + 1\n",
    "dt = (tend-tini)/(nt-1)\n",
    "dtoverdx = dt/dx\n",
    "\n",
    "# initialisation de la solution avec une maille fantôme à gauche et des conditions aux limtes périodiques\n",
    "unum = np.zeros(nx+1)\n",
    "unum[1:] = step_ini(x)\n",
    "unum[0] = unum[-1]\n",
    "\n",
    "unum = upwind(unum, nt, a, dtoverdx)\n",
    "\n",
    "fig = go.Figure()\n",
    "fig.add_trace(go.Scatter(x=x, y=step_ini(x), name='sol initiale'))\n",
    "fig.add_trace(go.Scatter(x=x, y=step_ini(x-a*tend), name='sol. exacte'))\n",
    "fig.add_trace(go.Scatter(x=x, y=unum[1:], name='sol. num.'))\n",
    "legend = dict(x=0.05, bgcolor='rgba(0,0,0,0)')\n",
    "fig.update_layout(height=500, legend=legend)\n",
    "fig.show()"
   ]
  },
  {
   "cell_type": "markdown",
   "id": "f87b6624-ea7b-4748-8c35-ab882de53134",
   "metadata": {},
   "source": [
    "### Schéma d'ordre 2 pour des données initiales discontinues"
   ]
  },
  {
   "cell_type": "code",
   "execution_count": null,
   "id": "87f93c9c-0aad-46f7-a02a-f03cb01b9b2e",
   "metadata": {},
   "outputs": [],
   "source": [
    "xmin =  -2.0\n",
    "xmax =  2.0\n",
    "\n",
    "tini = 0.0\n",
    "tend = 1.0\n",
    "\n",
    "a = 1.0\n",
    "\n",
    "nx = 400\n",
    "dx = (xmax-xmin) / nx\n",
    "x = np.linspace(xmin+(dx/2), xmax-(dx/2), nx)\n",
    "\n",
    "cfl = 0.5\n",
    "\n",
    "nt = int(a*(tend-tini)/(cfl*dx)) + 1\n",
    "dt = (tend-tini)/(nt-1)\n",
    "dtoverdx = dt/dx\n",
    "\n",
    "# initialisation de la solution avec une maille fantôme à gauche et des conditions aux limtes périodiques\n",
    "unum = np.zeros(nx+2)\n",
    "unum[1:-1] = step_ini(x)\n",
    "unum[0] = unum[-2]\n",
    "unum[-1] = unum[0]\n",
    "\n",
    "unum = lax_wendroff(unum, nt, a, dtoverdx)\n",
    "\n",
    "fig = go.Figure()\n",
    "fig.add_trace(go.Scatter(x=x, y=step_ini(x), name='sol initiale'))\n",
    "fig.add_trace(go.Scatter(x=x, y=step_ini(x-a*tend), name='sol. exacte'))\n",
    "fig.add_trace(go.Scatter(x=x, y=unum[1:-1], name='sol. num.'))\n",
    "legend = dict(x=0.05, bgcolor='rgba(0,0,0,0)')\n",
    "fig.update_layout(height=500, legend=legend)\n",
    "fig.show()"
   ]
  },
  {
   "cell_type": "markdown",
   "id": "7b6a84a5-5641-4b83-a413-409c8f566f19",
   "metadata": {},
   "source": [
    "Le schéma d'ordre un est très \"diffusif\" et demande un très grand nombre de points pour converger vers des solutions régulières ou singulières. La convergence pour les méthodes d'ordre un dans le cas singulier est encore plus lente que dans le cas régulier. Passer à l'ordre deux avec un schéma comme Lax-Wendroff est très pertinent pour les solutions régulières mais pose de sérieux problèmes quand la solution est discontinue. Il faut alors analyser la notion de solution singulière : on parle de solution au sens faible ou au sens des distributions et construire des schémas avec de bonnes propriétés de stabilité."
   ]
  }
 ],
 "metadata": {
  "kernelspec": {
   "display_name": "Python 3 (ipykernel)",
   "language": "python",
   "name": "python3"
  },
  "language_info": {
   "codemirror_mode": {
    "name": "ipython",
    "version": 3
   },
   "file_extension": ".py",
   "mimetype": "text/x-python",
   "name": "python",
   "nbconvert_exporter": "python",
   "pygments_lexer": "ipython3",
   "version": "3.10.4"
  }
 },
 "nbformat": 4,
 "nbformat_minor": 5
}
