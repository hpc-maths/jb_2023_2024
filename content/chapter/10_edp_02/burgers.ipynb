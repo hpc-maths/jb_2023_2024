{
 "cells": [
  {
   "cell_type": "code",
   "execution_count": null,
   "id": "bef8dc4f",
   "metadata": {},
   "outputs": [],
   "source": [
    "#\n",
    "#    Notebook de cours MAP412 - Chapitre 10 - M. Massot 2022-2023 - Ecole polytechnique\n",
    "#    ----------   \n",
    "#    Loi de conservation scalaire non-linéaire : Burgers\n",
    "#    \n",
    "#    Auteurs : L. Séries et M. Massot - (C) 2022\n",
    "#    "
   ]
  },
  {
   "cell_type": "code",
   "execution_count": null,
   "id": "2241ee5e",
   "metadata": {
    "tags": [
     "hide-input"
    ]
   },
   "outputs": [],
   "source": [
    "import numpy as np\n",
    "import plotly.graph_objects as go\n",
    "import plotly.io as pio\n",
    "pio.templates.default = \"seaborn\""
   ]
  },
  {
   "cell_type": "markdown",
   "id": "c85bc415",
   "metadata": {},
   "source": [
    "# Loi de conservation scalaire : Burgers"
   ]
  },
  {
   "cell_type": "markdown",
   "id": "7d19f12f",
   "metadata": {},
   "source": [
    "## Equation de Burgers\n",
    "\n",
    "La variable $u(t,x)$, $x\\in\\mathbb{R}$,  $t\\in\\mathbb{R}_+$, satisfait l'équation aux dérivées partielles :\n",
    "\n",
    "$$\\partial_t u + \\partial_x(f(u)) = 0 $$\n",
    "\n",
    "avec le flux non linéaire : \n",
    "\n",
    "$$f(u) = \\frac{u^2}{2},$$\n",
    "\n",
    "et le problème de Cauchy est complèté par la donnée initiale :\n",
    "\n",
    "$$u(0,x) = u_0(x).$$\n",
    "\n",
    "Dans ce notebook, nous considérons le problème du petit chapeau étudiée dans le polycopié et aussi un créneau qui permet de voir la solution faible entropique des deux problèmes de Riemann avec $U_g<U_d$, constituée d'une onde de détente, et avec $U_g>U_d$, constituée d'une onde de choc."
   ]
  },
  {
   "cell_type": "code",
   "execution_count": null,
   "id": "217d58c9",
   "metadata": {
    "tags": [
     "hide-input"
    ]
   },
   "outputs": [],
   "source": [
    "# calcul du flux\n",
    "def f(x):\n",
    "    return (0.5*x*x)"
   ]
  },
  {
   "cell_type": "code",
   "execution_count": null,
   "id": "3616b190",
   "metadata": {
    "tags": [
     "hide-input"
    ]
   },
   "outputs": [],
   "source": [
    "# Donnée initiale du petit chapeau\n",
    "def hat_ini(x):\n",
    "    u = np.empty(x.size)\n",
    "    for ix, xi in enumerate(x):\n",
    "        if xi <= -1 or xi>=1:\n",
    "            u[ix] = 0\n",
    "        elif xi < 0:\n",
    "            u[ix] = xi + 1\n",
    "        else:\n",
    "            u[ix] = -xi + 1\n",
    "    return u\n",
    "\n",
    "# solution du petit chapeau pour l'équation de Burgers\n",
    "def compute_uexa_hat(xini, xend, t):\n",
    "    u = np.empty(5)\n",
    "    u[0] = 0\n",
    "    u[1] = 0\n",
    "    u[2] = np.sqrt(2/(1+t))\n",
    "    u[3] = 0\n",
    "    u[4] = 0\n",
    "    \n",
    "    x = np.empty(5)\n",
    "    x[0] = xini\n",
    "    x[1] = -1\n",
    "    x[2] = np.sqrt(2*(1+t)) - 1\n",
    "    x[3] = np.sqrt(2*(1+t)) - 1\n",
    "    x[4] = xend\n",
    "\n",
    "    return x, u "
   ]
  },
  {
   "cell_type": "code",
   "execution_count": null,
   "id": "ab8d02c9",
   "metadata": {
    "tags": [
     "hide-input"
    ]
   },
   "outputs": [],
   "source": [
    "# résolution du problème de Riemann en x/t = 0 pour deux états Ug et Ud à gauche et à droite - version scalaire\n",
    "# Noté W_R(x/t=0,Ug,Ud) dans les notes écrites et les transparents de cours\n",
    "#\n",
    "def Riemann(Ug,Ud):\n",
    "    Riem = Ug\n",
    "    if (max(Ug,Ud)<=0) : Riem = Ud\n",
    "    else :\n",
    "        if Ug<=0 and Ud>=0 :\n",
    "            Riem=0\n",
    "        else :\n",
    "            if Ug+Ud<=0 : Riem = Ud\n",
    "    return Riem\n",
    "#\n",
    "# Il est possible de vectoriser de manière peu efficace\n",
    "# avec la fonction np.vectorize\n",
    "# \n",
    "Riemann_vec = np.vectorize(Riemann)\n",
    "\n",
    "# Version vectorisée avec np.where plus performante\n",
    "# utilisée dans le schéma de Godunov ci-dessous permettant une \n",
    "# résolution avec plusieurs milliers de cellules en quelques secondes\n",
    "#\n",
    "def Riemann2(Ug,Ud):\n",
    "    Riem = Ug\n",
    "    c = np.stack((Ug, Ud))\n",
    "    Riem = np.where(np.amax(c,axis=0)<=0, Ud, Riem)\n",
    "    Riem = np.where((Ug<=0) & (Ud>=0), 0, Riem)\n",
    "    Riem = np.where((Ug>=0) & (Ud<=0) & ((Ug+Ud)<0), Ud, Riem)\n",
    "    return Riem"
   ]
  },
  {
   "cell_type": "markdown",
   "id": "6860cb05",
   "metadata": {},
   "source": [
    "### Schéma de Godunov\n",
    "\n",
    "Le schéma de Godonov pour l'équation de Burgers est ici utilisé pour résoudre le problème du petit chapeau dans un premier temps. Nous avons vu en cours que le schéma, sous la conditions CFL permet de converger vers l'unique solution faible entropique du problème de Cauchy.\n",
    "\n",
    "Un slider permet de voir l'influence de la discrétisation et la capacité du schéma à converger vers l'unique solution faible entropique étudiée dans le polycopié. On compare la solution résolue par le schéma à la solution exacte prédite par la théorie et on peut aussi fournir une courbe de convergence pour le schéma. "
   ]
  },
  {
   "cell_type": "code",
   "execution_count": null,
   "id": "d35b3c9f",
   "metadata": {
    "tags": [
     "hide-input"
    ]
   },
   "outputs": [],
   "source": [
    "xmin = -2.0\n",
    "xmax = 4.0\n",
    "\n",
    "tini = 0.\n",
    "tend = 6.\n",
    "#\n",
    "# Ne pas augmenter tend au dela de 11 car nous avons mis des conditions aux limites de type conditions périodiques\n",
    "# mais la solution exacte n'est pas calculée en prenant en compte ce type de conditions aux limites.\n",
    "# \n",
    "\n",
    "a = 1.\n",
    "\n",
    "uini = hat_ini\n",
    "\n",
    "cfl = 0.95\n",
    "\n",
    "fig = go.Figure()\n",
    "nxplot = 2000\n",
    "dxplot = (xmax-xmin) / nxplot\n",
    "xplot = np.linspace(xmin+(dxplot/2), xmax-(dxplot/2), nxplot)\n",
    "fig.add_trace(go.Scatter(x=xplot, y=uini(xplot), name='initial sol.', line_color='rgb(140,140,140)'))\n",
    "\n",
    "xexa10, uexa10 = compute_uexa_hat(xmin, xmax, tend/2)\n",
    "xexa15, uexa15 = compute_uexa_hat(xmin, xmax, 3*tend/4)\n",
    "xexa20, uexa20 = compute_uexa_hat(xmin, xmax, tend)\n",
    "\n",
    "fig.add_trace(go.Scatter(x=xexa10, y=uexa10, mode='lines', name='exact sol. at t=0.5*tend', \n",
    "                         line=dict(dash='dash', color='rgb(76,114,176)')))\n",
    "fig.add_trace(go.Scatter(x=xexa15, y=uexa15, mode='lines', name='exact sol. at t=0.75*tend', \n",
    "                         line=dict(dash='dash', color='rgb(221,132,82)')))\n",
    "fig.add_trace(go.Scatter(x=xexa20, y=uexa20, mode='lines', name='exact sol. at t=tend', \n",
    "                         line=dict(dash='dash', color='rgb(85,168,104)')))\n",
    "\n",
    "nx = [125, 250, 500, 1000, 2000]\n",
    "for nx_i in nx:\n",
    "        \n",
    "    dx = (xmax-xmin) / nx_i\n",
    "    x = np.linspace(xmin+dx/2, xmax-dx/2, nx_i)\n",
    "\n",
    "    u = np.zeros(nx_i+1)\n",
    "    u[1:] = uini(x)\n",
    "    u[0] = u[-1]\n",
    "    \n",
    "    nt = int(a*(tend-tini)/(cfl*dx)) + 1\n",
    "    dt = (tend-tini)/(nt-1)\n",
    "    dtoverdx = dt/dx\n",
    "    \n",
    "    u10 = np.zeros(nx_i)\n",
    "    u15 = np.zeros(nx_i)\n",
    "    flux = np.zeros(nx_i)\n",
    "    etats = np.zeros(nx_i)\n",
    "    \n",
    "    for it in range(nt-1):\n",
    "\n",
    "        etats[:-1] = Riemann2(u[1:-1],u[2:])\n",
    "        etats[-1] = Riemann(u[-1],u[0])\n",
    "        flux = f(etats)\n",
    "\n",
    "        u[2:] += -dtoverdx * (flux[1:] - flux[0:-1])\n",
    "        u[1] += -dtoverdx * (flux[0] - flux[-1])\n",
    "        u[0] = u[-1] #  conditions aux limites périodiques\n",
    "\n",
    "        t = (it+1)*dt\n",
    "        if it == nt//2: u10[:] = u[1:]\n",
    "        if it == 3*(nt//4): u15[:] = u[1:]\n",
    "            \n",
    "    fig.add_trace(go.Scatter(x=x, y=u10, mode='lines', name='num. sol. at t=0.5*tend', \n",
    "                              line_color='rgb(76,114,176)', opacity=0.75, visible=False))\n",
    "    fig.add_trace(go.Scatter(x=x, y=u15, mode='lines', name='num. sol. at t=0.75*tend', \n",
    "                             line_color='rgb(221,132,82)', opacity=0.75, visible=False))\n",
    "    fig.add_trace(go.Scatter(x=x, y=u[1:], mode='lines', name='num. sol. at t=tend', \n",
    "                             line_color='rgb(85,168,104)', opacity=0.75, visible=False))\n",
    "\n",
    "fig.data[4].visible = True  \n",
    "fig.data[5].visible = True  \n",
    "fig.data[6].visible = True\n",
    "\n",
    "# Create and add slider\n",
    "steps = []\n",
    "for i, nx_i in enumerate(nx):\n",
    "    args = [{\"visible\": [((el>=0 and el<=3)or (el>=3*i+4 and el<=3*i+6)) for el in range(len(fig.data))]}]\n",
    "    ##print(args)\n",
    "    step = dict(method=\"update\", label = f\"{nx_i}\", args=args)\n",
    "    steps.append(step)\n",
    "sliders = [dict(currentvalue={'prefix': 'nx = '}, steps=steps)]\n",
    " \n",
    "fig.update_layout(sliders=sliders, title=f\"Schéma de Godunov : cfl={cfl}\", height=500, \n",
    "                  legend=dict(x=0.75, y=0.95, bgcolor='rgba(0,0,0,0)'))\n",
    "\n",
    "fig.show()"
   ]
  }
 ],
 "metadata": {
  "@webio": {
   "lastCommId": null,
   "lastKernelId": null
  },
  "celltoolbar": "Format de la Cellule Texte Brut",
  "kernelspec": {
   "display_name": "Python 3 (ipykernel)",
   "language": "python",
   "name": "python3"
  },
  "language_info": {
   "codemirror_mode": {
    "name": "ipython",
    "version": 3
   },
   "file_extension": ".py",
   "mimetype": "text/x-python",
   "name": "python",
   "nbconvert_exporter": "python",
   "pygments_lexer": "ipython3",
   "version": "3.10.4"
  }
 },
 "nbformat": 4,
 "nbformat_minor": 5
}
