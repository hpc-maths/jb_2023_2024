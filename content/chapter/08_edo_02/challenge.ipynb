{
 "cells": [
  {
   "cell_type": "code",
   "execution_count": null,
   "id": "b5036f27-698a-4151-8645-4931dc9a5a47",
   "metadata": {},
   "outputs": [],
   "source": [
    "#\n",
    "#    Notebook de cours MAP412 - Chapitre 8 - M. Massot 2022-2023 - Ecole polytechnique\n",
    "#    ----------   \n",
    "#    Challenge : Stabilité forward\n",
    "#    \n",
    "#    Auteurs : L. Séries et M. Massot - (C) 2022\n",
    "#"
   ]
  },
  {
   "cell_type": "markdown",
   "id": "c763796d-37b9-44df-87e9-07db03800833",
   "metadata": {
    "tags": []
   },
   "source": [
    "# Challenge : Analyse d'erreur"
   ]
  },
  {
   "cell_type": "code",
   "execution_count": null,
   "id": "f6c35637-4fd7-457e-a8b2-5541e34b6324",
   "metadata": {
    "tags": [
     "hide-input"
    ]
   },
   "outputs": [],
   "source": [
    "import numpy as np\n",
    "from mpmath import mp\n",
    "import mpmath\n",
    "import plotly.graph_objects as go\n",
    "from plotly.subplots import make_subplots"
   ]
  },
  {
   "cell_type": "markdown",
   "id": "d412009e-4533-40b3-8772-ee6483c94941",
   "metadata": {},
   "source": [
    "## Méthode d'Euler explicite à précision fixée"
   ]
  },
  {
   "cell_type": "code",
   "execution_count": null,
   "id": "c0b20dde-f481-4971-9acc-b58ef5ceffc5",
   "metadata": {
    "tags": [
     "hide-input"
    ]
   },
   "outputs": [],
   "source": [
    "#####################################################\n",
    "class ode_result:\n",
    "    def __init__(self, y, t):\n",
    "        self.y = y\n",
    "        self.t = t\n",
    "\n",
    "#####################################################\n",
    "def forward_euler(tini, tend, nt, yini, fcn):\n",
    "\n",
    "    dt = (tend-tini) / (nt-1)\n",
    "    t = np.linspace(tini, tend, nt)\n",
    "\n",
    "    yini = np.atleast_1d(yini)\n",
    "    neq = yini.size\n",
    "\n",
    "    y = np.zeros((neq, nt))\n",
    "    y[:,0] = yini\n",
    "\n",
    "    for it, tn  in enumerate(t[:-1]):\n",
    "        yn = y[:,it]\n",
    "        y[:,it+1] = yn + dt*np.array(fcn(tn, yn))\n",
    "\n",
    "    return ode_result(y, t)\n",
    "\n",
    "#####################################################\n",
    "def forward_euler_mp(tini, tend, nt, yini, fcn):\n",
    "\n",
    "    dt = (tend-tini) / (nt-1)\n",
    "    \n",
    "    y = np.array(mpmath.zeros(int(nt),1))\n",
    "    \n",
    "    y[0] = yini\n",
    "\n",
    "    tn = tini\n",
    "    \n",
    "    for it in range(nt-1):\n",
    "        yn = y[it]\n",
    "        y[it+1] = yn + dt*fcn(tn, yn)\n",
    "        tn = tn + dt\n",
    "\n",
    "    return y"
   ]
  },
  {
   "cell_type": "markdown",
   "id": "dbc071a9-0e29-48c4-97fb-6329206f436f",
   "metadata": {},
   "source": [
    "### Résultats sur le problème Curtiss et Hirschfelder"
   ]
  },
  {
   "cell_type": "code",
   "execution_count": null,
   "id": "7536879c-502f-4a16-bbfa-d6ecc43a7a60",
   "metadata": {
    "tags": [
     "hide-input"
    ]
   },
   "outputs": [],
   "source": [
    "class curtiss_model:\n",
    "\n",
    "    def __init__(self, k):\n",
    "        self.k = k\n",
    "\n",
    "    def fcn(self, t, y) :\n",
    "        k = self.k\n",
    "        cos = np.frompyfunc(mpmath.cos, 1, 1) \n",
    "        y_dot = k * (cos(t) - y)\n",
    "        return y_dot\n",
    "\n",
    "    def sol(self, yini, t0, t):\n",
    "        k = self.k\n",
    "        cos = np.frompyfunc(mpmath.cos, 1, 1) \n",
    "        sin = np.frompyfunc(mpmath.sin, 1, 1) \n",
    "        exp = np.frompyfunc(mpmath.exp, 1, 1) \n",
    "        c0 = (yini - (k/(k*k + 1)) * (k*cos(t0) + sin(t0))) * exp(-k*t0)\n",
    "        y = (k/(k*k + 1)) * (k*cos(t) + sin(t)) +  c0 * exp(-k*t)\n",
    "        return y"
   ]
  },
  {
   "cell_type": "markdown",
   "id": "ed0e8516-b98e-49d5-bc0b-ae740781ed9b",
   "metadata": {},
   "source": [
    "### Evaluation de la constante "
   ]
  },
  {
   "cell_type": "code",
   "execution_count": null,
   "id": "ea08a3d5-ee5a-4faf-a39e-9b59ada8642e",
   "metadata": {},
   "outputs": [],
   "source": [
    "yini = 1.\n",
    "tini = 0.\n",
    "tend = 1.5\n",
    "cm = curtiss_model(k=50)\n",
    "fcn = cm.fcn\n",
    "\n",
    "nt = np.array([151, 1501, 15001, 150001])\n",
    "\n",
    "err_inf = np.zeros_like(nt, dtype=float)\n",
    "\n",
    "for i, nt_i in enumerate(nt):\n",
    "    sol = forward_euler(tini, tend, nt_i, yini, fcn)\n",
    "    yerr = np.abs(cm.sol(yini, tini, sol.t) - sol.y[0])\n",
    "    err_inf[i] = np.linalg.norm(yerr,np.inf) \n",
    "\n",
    "dt = (tend-tini)/(nt-1)\n",
    "\n",
    "fig = go.Figure()\n",
    "fig.add_trace(go.Scatter(x=dt, y=err_inf, name='Norme linf'))\n",
    "fig.add_trace(go.Scatter(x=dt, y=0.01*dt, mode='lines', line_dash='dot', name='pente 1'))\n",
    "fig.update_xaxes(type='log', exponentformat='e', title='dt')\n",
    "fig.update_yaxes(type='log', exponentformat='e', title=\"Norme de l'erreur\")\n",
    "fig.show()"
   ]
  },
  {
   "cell_type": "markdown",
   "id": "7c17cedc-6618-48d0-b36d-6e6a7ffc74aa",
   "metadata": {},
   "source": [
    "## Solution à précision fixée"
   ]
  },
  {
   "cell_type": "code",
   "execution_count": null,
   "id": "6e7bad0c-23b3-4ad8-9694-31edf2195370",
   "metadata": {},
   "outputs": [],
   "source": [
    "yini_ref = mp.mpf('1.')\n",
    "tini_ref = mp.mpf('0.')\n",
    "tend_ref = mp.mpf('1.5')\n",
    "k_ref    = mp.mpf('50.')\n",
    "cm_ref   = curtiss_model(k_ref)\n",
    "\n",
    "mp01 = mp.clone()\n",
    "mp01.prec = 20\n",
    "yini = mp01.mpf('1.') \n",
    "tini = mp01.mpf('0.')\n",
    "tend = mp01.mpf('1.5')\n",
    "k    = mp01.mpf('50.')\n",
    "cm   = curtiss_model(k)\n",
    "\n",
    "print(f\"Nombre de chiffres significatifs : {mp01.dps}\")\n",
    "\n",
    "fig = make_subplots(rows=2, cols=1, subplot_titles=(\"Solution\", \"Erreur globale\"), vertical_spacing=0.1)\n",
    "\n",
    "nt = np.array([100, 150, 200, 305, 400, 500, 600, 700, 1000, 2000, 5000, 10000, 20000, 80000])\n",
    "\n",
    "for nt_i in nt: \n",
    "\n",
    "    texa = mp.linspace(tini_ref, tend_ref, nt_i)\n",
    "    texa = np.array(texa)\n",
    "    yexa = cm_ref.sol(yini_ref, tini_ref, texa)\n",
    "\n",
    "    ysol = forward_euler_mp(tini, tend, nt_i, yini, cm.fcn)\n",
    "\n",
    "    err = np.abs(ysol-yexa)\n",
    "\n",
    "    fig.add_trace(go.Scattergl(visible=False, x=np.array(texa, dtype=float), y=np.array(yexa, dtype=float), name='Sol. exacte'), row=1, col=1)\n",
    "    fig.add_trace(go.Scattergl(visible=False, x=np.array(texa, dtype=float), y=np.array(ysol, dtype=float), name='Sol. num.'), row=1, col=1)\n",
    "    fig.add_trace(go.Scattergl(visible=False, x=np.array(texa, dtype=float), y=np.array(err, dtype=float), name='erreur'), row=2, col=1)\n",
    "\n",
    "fig.data[0].visible = True\n",
    "fig.data[1].visible = True\n",
    "fig.data[2].visible = True\n",
    "    \n",
    "# create and add slider\n",
    "steps = []\n",
    "for i, nt_i in enumerate(nt):\n",
    "    step = dict(method=\"update\", label = f\" {nt_i}\",\n",
    "                args=[{\"visible\": [el==3*i or el==3*i+1 or el==3*i+2  for el in range(len(fig.data))]}])\n",
    "    steps.append(step)\n",
    "        \n",
    "sliders = [dict(currentvalue={\"prefix\": \"nb points: \"}, steps=steps)]\n",
    "\n",
    "fig.update_yaxes(exponentformat='e', row=2)\n",
    "fig.update_layout(height=800, sliders=sliders)"
   ]
  },
  {
   "cell_type": "markdown",
   "id": "7bb6ccb6-c7fa-4947-92ff-5645a037baca",
   "metadata": {},
   "source": [
    "Proposer une explication du comportement de l'erreur quand le pas de temps diminue."
   ]
  }
 ],
 "metadata": {
  "kernelspec": {
   "display_name": "Python 3 (ipykernel)",
   "language": "python",
   "name": "python3"
  },
  "language_info": {
   "codemirror_mode": {
    "name": "ipython",
    "version": 3
   },
   "file_extension": ".py",
   "mimetype": "text/x-python",
   "name": "python",
   "nbconvert_exporter": "python",
   "pygments_lexer": "ipython3",
   "version": "3.10.12"
  }
 },
 "nbformat": 4,
 "nbformat_minor": 5
}
