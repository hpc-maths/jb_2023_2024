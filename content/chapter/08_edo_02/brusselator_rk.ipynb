{
 "cells": [
  {
   "cell_type": "code",
   "execution_count": null,
   "id": "a2b66af4-8f03-4380-9af5-1ffab27d7e4d",
   "metadata": {},
   "outputs": [],
   "source": [
    "#\n",
    "#    Notebook de cours MAP412 - Chapitre 8 - M. Massot 2022-2023 - Ecole polytechnique\n",
    "#    ----------   \n",
    "#    Méthodes de Runge Kutta : coût et précision\n",
    "#    \n",
    "#    Auteurs : L. Séries et M. Massot - (C) 2022\n",
    "#"
   ]
  },
  {
   "cell_type": "markdown",
   "id": "4c818183",
   "metadata": {},
   "source": [
    "# Méthodes de Runge Kutta : coût et précision"
   ]
  },
  {
   "cell_type": "code",
   "execution_count": null,
   "id": "c8b535ae",
   "metadata": {
    "tags": [
     "hide-input"
    ]
   },
   "outputs": [],
   "source": [
    "import numpy as np\n",
    "from scipy.integrate import solve_ivp\n",
    "import plotly.graph_objects as go\n",
    "from plotly.subplots import make_subplots\n",
    "import plotly.io as pio\n",
    "pio.templates.default = \"seaborn\"\n",
    "import warnings\n",
    "warnings.filterwarnings('ignore')"
   ]
  },
  {
   "cell_type": "markdown",
   "id": "77388406-9e1e-4729-8461-664b92da35ef",
   "metadata": {},
   "source": [
    "## Modèle de Brusselator"
   ]
  },
  {
   "cell_type": "markdown",
   "id": "5ff1511d-263e-4795-ab3a-ce78c9bb6ce7",
   "metadata": {},
   "source": [
    "La dynamique de la réaction oscillante découverte par Belousov et Zhabotinsky, peut être modélisée par le modèle dit de Brusselator en fonction de deux paramètres $a$ et $b$ :\n",
    "\n",
    "$$\n",
    "\\left\\{\\begin{aligned}\n",
    "d_t y_1 & = a - (b+1) y_1 + y_1^2y_2\\\\\n",
    "d_t y_2 & = b y_1 - y_1^2y_2\n",
    "\\end{aligned}\\right.\n",
    "$$"
   ]
  },
  {
   "cell_type": "code",
   "execution_count": null,
   "id": "b3b6fee8",
   "metadata": {
    "tags": [
     "hide-input"
    ]
   },
   "outputs": [],
   "source": [
    "class brusselator_model:\n",
    "\n",
    "    def __init__(self, a, b):\n",
    "        self.a = a\n",
    "        self.b = b\n",
    "\n",
    "    def fcn(self, t, y):\n",
    "        y1, y2 = y\n",
    "        a = self.a\n",
    "        b = self.b\n",
    "        y1_dot = a - (b+1)*y1 + y1*y1*y2\n",
    "        y2_dot = b*y1 - y1*y1*y2\n",
    "        return np.array([y1_dot, y2_dot])\n",
    "\n",
    "    def jac(self, t, y):\n",
    "        y1, y2 = y\n",
    "        a = self.a\n",
    "        b = self.b\n",
    "        return np.array([[2*y1*y2 -(b+1), y1*y1], \n",
    "                         [-2*y1*y2 + b, -y1*y1] ])"
   ]
  },
  {
   "cell_type": "markdown",
   "id": "c408fdb4",
   "metadata": {},
   "source": [
    "### Solution quasi-exacte\n",
    "\n",
    "La solution quasi-exacte est obtenue en utilisant une méthode de Runge-Kutta d’ordre 8 (DOP853) avec pas de temps adapatitifs."
   ]
  },
  {
   "cell_type": "code",
   "execution_count": null,
   "id": "0859da6f-88ee-4d59-805d-e1abe1a84646",
   "metadata": {},
   "outputs": [],
   "source": [
    "bm = brusselator_model(a=1, b=4)\n",
    "fcn = bm.fcn  \n",
    "\n",
    "tini = 0. \n",
    "tend = 20.\n",
    "\n",
    "yini = (1.5, 3)\n",
    "\n",
    "sol = solve_ivp(fcn, (tini, tend), yini, method=\"DOP853\", rtol=1.e-12, atol=1.e-12)\n",
    "\n",
    "fig = go.Figure()\n",
    "fig.add_trace(go.Scatter(x=sol.t, y=sol.y[0], name='y1'))\n",
    "fig.add_trace(go.Scatter(x=sol.t, y=sol.y[1], name='y2'))\n",
    "legend = dict(x=0.9, bgcolor='rgba(0,0,0,0)')\n",
    "fig.update_layout(legend=legend, height=400, xaxis_title='t')"
   ]
  },
  {
   "cell_type": "markdown",
   "id": "8fe5fe49",
   "metadata": {},
   "source": [
    "### Caractérisation de la raideur"
   ]
  },
  {
   "cell_type": "code",
   "execution_count": null,
   "id": "af3129c2-fa25-4336-885e-04bfbaf60773",
   "metadata": {},
   "outputs": [],
   "source": [
    "bm = brusselator_model(a=1, b=4)\n",
    "fcn = bm.fcn  \n",
    "jac = bm.jac\n",
    "\n",
    "tini = 0. \n",
    "tend = 20.\n",
    "\n",
    "yini = (1.5 , 3)\n",
    "\n",
    "sol = solve_ivp(fcn, (tini, tend), yini, method=\"RK45\", rtol=1.e-12, atol=1.e-12)\n",
    "\n",
    "eig_vals = np.zeros((sol.t.size, 2), dtype=np.complex_)\n",
    "for it, yi in enumerate(sol.y.transpose()):\n",
    "    eig_vals[it] = np.linalg.eigvals(jac(0, yi))\n",
    "\n",
    "lambda1 = eig_vals[:, 0]\n",
    "lambda2 = eig_vals[:, 1]\n",
    "\n",
    "fig = make_subplots(rows=2, cols=1, vertical_spacing=0.2,\n",
    "                    subplot_titles=(\"Partie réelle des valuers propres\",\"Partie imaginaire des valeurs propres\"))\n",
    "color = fig.layout.template.layout.colorway\n",
    "fig.add_trace(go.Scatter(x=sol.t, y=np.real(lambda1), name='\\u03BB1', line_color=color[0], legendgroup='real'), row=1, col=1)\n",
    "fig.add_trace(go.Scatter(x=sol.t, y=np.real(lambda2), name='\\u03BB2', line_color=color[1], legendgroup='real'), row=1, col=1)\n",
    "fig.add_trace(go.Scatter(x=sol.t, y=np.imag(lambda1), name='\\u03BB1', line_color=color[0], legendgroup='imag'), row=2, col=1)\n",
    "fig.add_trace(go.Scatter(x=sol.t, y=np.imag(lambda2), name='\\u03BB2', line_color=color[1], legendgroup='imag'), row=2, col=1)\n",
    "legend = dict(x=0.9, bgcolor='rgba(0,0,0,0)', tracegroupgap=280, groupclick=\"toggleitem\")\n",
    "fig.update_layout(legend=legend, height=700)\n",
    "fig.update_xaxes(title_text='t', row=1)\n",
    "fig.update_xaxes(title_text='t', row=2)"
   ]
  },
  {
   "cell_type": "markdown",
   "id": "1852c5b5",
   "metadata": {},
   "source": [
    "## Méthodes de Runge-Kutta "
   ]
  },
  {
   "cell_type": "code",
   "execution_count": null,
   "id": "8f3ef778",
   "metadata": {
    "tags": [
     "hide-input"
    ]
   },
   "outputs": [],
   "source": [
    "def sol_and_error_bruss(yini, tini, tend, a, b, nt, method):\n",
    "    \n",
    "    if method == rk1:\n",
    "        str_method = \"RK1 (explicit Euler)\"\n",
    "    elif method == rk2:\n",
    "        str_method = \"RK2\"\n",
    "    elif method == rk3:\n",
    "        str_method = \"RK3\"\n",
    "    elif method == rk4:\n",
    "        str_method = \"RK4\"\n",
    "    else:\n",
    "        print(\"Unkown method\")\n",
    "        return\n",
    "    \n",
    "    bm = brusselator_model(a, b)\n",
    "    fcn = bm.fcn   \n",
    "\n",
    "    nt_max= nt[-1]\n",
    "    dt_max = (tend-tini)/(nt_max-1)\n",
    "    \n",
    "    sol = method(tini, tend, nt_max, yini, fcn)\n",
    "    sol_exa = solve_ivp(fcn, (tini, tend), yini, method=\"DOP853\", t_eval=sol.t, rtol=1.e-12, atol=1.e-12)\n",
    "    err = np.abs(sol.y-sol_exa.y)\n",
    "\n",
    "    fig = make_subplots(rows=2, cols=1, subplot_titles=(\"Solution\", \"Global error\"), vertical_spacing=0.15)\n",
    "    color = fig.layout.template.layout.colorway\n",
    "\n",
    "    marker_y1 = dict(size=5, symbol='x-thin', line=dict(width=1, color=color[0]))\n",
    "    line_y1 = dict(dash='dot', color=color[0])\n",
    "    marker_y2 = dict(size=5, symbol='x-thin', line=dict(width=1, color=color[1]))\n",
    "    line_y2 = dict(dash='dot', color=color[1])\n",
    "\n",
    "    fig.add_trace(go.Scatter(x=sol.t, y=sol.y[0], name='y1', mode=\"lines+markers\", legendgroup='sol',\n",
    "                             marker=marker_y1, line=line_y1), row=1, col=1)\n",
    "    fig.add_trace(go.Scatter(x=sol.t, y=sol.y[1], name='y2', mode=\"lines+markers\", legendgroup='sol',\n",
    "                             marker=marker_y2, line=line_y2), row=1, col=1)\n",
    "    \n",
    "    fig.add_trace(go.Scatter(x=sol.t, y=err[0], name='|y1exa-y1|', mode=\"markers\", legendgroup='err',\n",
    "                             marker=marker_y1), row=2, col=1)\n",
    "    fig.add_trace(go.Scatter(x=sol.t, y=err[1], name='|y2exa-y1|', mode=\"markers\", legendgroup='err',\n",
    "                             marker=marker_y2), row=2, col=1)\n",
    "    \n",
    "    # create slider\n",
    "    steps = []\n",
    "    for i, nt_i in enumerate(nt):\n",
    "        sol = method(tini, tend, nt_i, yini, fcn)\n",
    "        sol_exa = solve_ivp(fcn, (tini, tend), yini, method=\"DOP853\", t_eval=sol.t, rtol=1.e-12, atol=1.e-12)\n",
    "        err = np.abs(sol.y-sol_exa.y)\n",
    "        dt = (tend-tini)/(nt_i-1)\n",
    "        step = dict(method=\"update\", label = f\"{nt_i}\", args=[{\"x\": [sol.t, sol.t, sol.t, sol.t], \n",
    "                                                               \"y\": [sol.y[0], sol.y[1], err[0], err[1]]},\n",
    "                            {\"title\": str_method+f\": solution and error for dt={dt:.4e}\"}])\n",
    "        steps.append(step)\n",
    "\n",
    "    sliders = [dict(active=len(nt)-1, currentvalue={\"prefix\": \"nt : \"}, steps=steps)]\n",
    "\n",
    "\n",
    "    legend = dict(x=0.01, bgcolor='rgba(0,0,0,0)', tracegroupgap=320, groupclick=\"toggleitem\")\n",
    "    fig.update_layout(height=800, legend=legend, sliders=sliders, \n",
    "                      title=str_method+f\": solution and error for dt={dt_max:.4e}\")\n",
    "    fig.update_yaxes(exponentformat='e', row=2)\n",
    "\n",
    "    fig.show()"
   ]
  },
  {
   "cell_type": "markdown",
   "id": "80de0a7f",
   "metadata": {},
   "source": [
    "### Ordre 1"
   ]
  },
  {
   "cell_type": "code",
   "execution_count": null,
   "id": "50fd695e",
   "metadata": {
    "tags": [
     "hide-input"
    ]
   },
   "outputs": [],
   "source": [
    "class ode_result:\n",
    "    def __init__(self, y, t, nfev):\n",
    "        self.y = y\n",
    "        self.t = t\n",
    "        self.nfev = nfev \n",
    "        \n",
    "def rk1(tini, tend, nt, yini, fcn):\n",
    "\n",
    "    dt = (tend-tini) / (nt-1)\n",
    "    t = np.linspace(tini, tend, nt)\n",
    "\n",
    "    yini = np.atleast_1d(yini)\n",
    "    neq = yini.size\n",
    "\n",
    "    y = np.zeros((neq, nt))\n",
    "    y[:,0] = yini\n",
    "\n",
    "    for it, tn  in enumerate(t[:-1]):\n",
    "        yn = y[:,it]\n",
    "        y[:,it+1] = yn + dt*fcn(tn, yn)\n",
    "        \n",
    "    nfev = nt-1\n",
    "\n",
    "    return ode_result(y, t, nfev)"
   ]
  },
  {
   "cell_type": "code",
   "execution_count": null,
   "id": "9993c9ce",
   "metadata": {},
   "outputs": [],
   "source": [
    "yini = (1.5 , 3)\n",
    "tini = 0.\n",
    "tend = 20.\n",
    "a = 1.\n",
    "b = 4.\n",
    "\n",
    "nt_max = 2000\n",
    "nt = np.hstack((np.array([233, 234]), np.geomspace(235, nt_max, num=10, dtype=int)))\n",
    "\n",
    "sol_and_error_bruss(yini, tini, tend, a, b, nt, rk1)"
   ]
  },
  {
   "cell_type": "markdown",
   "id": "061cce77",
   "metadata": {},
   "source": [
    "### Ordre 2"
   ]
  },
  {
   "cell_type": "code",
   "execution_count": null,
   "id": "f4ecf83d",
   "metadata": {
    "tags": [
     "hide-input"
    ]
   },
   "outputs": [],
   "source": [
    "def rk2(tini, tend, nt, yini, fcn):\n",
    "\n",
    "    dt = (tend-tini) / (nt-1)\n",
    "    t = np.linspace(tini, tend, nt)\n",
    "\n",
    "    yini = np.atleast_1d(yini)\n",
    "    neq = yini.size\n",
    "\n",
    "    y = np.zeros((neq, nt))\n",
    "    y[:,0] = yini\n",
    "\n",
    "    for it, tn  in enumerate(t[:-1]):\n",
    "        yn = y[:,it]\n",
    "        k1 = fcn(tn, yn)\n",
    "        k2 = fcn(tn + 0.5*dt, yn + dt*(0.5*k1))\n",
    "        y[:,it+1] = yn + dt*k2\n",
    "\n",
    "    nfev = 2*(nt-1)\n",
    "\n",
    "    return ode_result(y, t, nfev)"
   ]
  },
  {
   "cell_type": "code",
   "execution_count": null,
   "id": "d920f2bd",
   "metadata": {},
   "outputs": [],
   "source": [
    "yini = (1.5 , 3)\n",
    "tini = 0.\n",
    "tend = 20.\n",
    "a = 1.\n",
    "b = 4.\n",
    "\n",
    "nt_max = 2000\n",
    "nt = np.geomspace(205, nt_max, num=10, dtype=int)\n",
    "nt = np.hstack((np.array([224, 225]), np.geomspace(226, nt_max, num=10, dtype=int)))\n",
    "\n",
    "sol_and_error_bruss(yini, tini, tend, a, b, nt, rk2)"
   ]
  },
  {
   "cell_type": "markdown",
   "id": "e559585e-2c62-4c77-b2f4-66b5fe880de9",
   "metadata": {},
   "source": [
    "### Order 3"
   ]
  },
  {
   "cell_type": "code",
   "execution_count": null,
   "id": "f668d65d-bb1c-4c4c-a117-e644001ce3a2",
   "metadata": {
    "tags": [
     "hide-input"
    ]
   },
   "outputs": [],
   "source": [
    "def rk3(tini, tend, nt, yini, fcn):\n",
    "\n",
    "    dt = (tend-tini) / (nt-1)\n",
    "    t = np.linspace(tini, tend, nt)\n",
    "\n",
    "    yini = np.atleast_1d(yini)\n",
    "    neq = yini.size\n",
    "\n",
    "    y = np.zeros((neq, nt), order='F')\n",
    "    y[:,0] = yini\n",
    "\n",
    "    for it, tn  in enumerate(t[:-1]):\n",
    "        yn = y[:,it]\n",
    "        k1 = fcn(tn, yn)\n",
    "        k2 = fcn(tn + 0.5*dt, yn + dt*(0.5*k1))\n",
    "        k3 = fcn(tn + dt, yn + dt*(-k1 + 2*k2))\n",
    "        y[:,it+1] = yn + (dt/6)*(k1+4*k2+k3)\n",
    "\n",
    "    nfev = 3*(nt-1)\n",
    "\n",
    "    return ode_result(y, t, nfev)"
   ]
  },
  {
   "cell_type": "code",
   "execution_count": null,
   "id": "c9403e7c-d1fd-4ec4-afb8-e3b7c669b957",
   "metadata": {},
   "outputs": [],
   "source": [
    "yini = (1.5 , 3)\n",
    "tini = 0.\n",
    "tend = 20.\n",
    "a = 1.\n",
    "b = 4.\n",
    "\n",
    "nt_max = 2000\n",
    "nt = np.hstack((np.array([130, 131, 132, 133, 134]), np.geomspace(135, nt_max, num=10, dtype=int)))\n",
    "\n",
    "sol_and_error_bruss(yini, tini, tend, a, b, nt, rk3)"
   ]
  },
  {
   "cell_type": "markdown",
   "id": "d6114edf",
   "metadata": {},
   "source": [
    "### Ordre 4"
   ]
  },
  {
   "cell_type": "code",
   "execution_count": null,
   "id": "6a54db97",
   "metadata": {
    "tags": [
     "hide-input"
    ]
   },
   "outputs": [],
   "source": [
    "def rk4(tini, tend, nt, yini, fcn):\n",
    "\n",
    "    dt = (tend-tini) / (nt-1)\n",
    "    t = np.linspace(tini, tend, nt)\n",
    "\n",
    "    yini = np.atleast_1d(yini)\n",
    "    neq = yini.size\n",
    "\n",
    "    y = np.zeros((neq, nt), order='F')\n",
    "    y[:,0] = yini\n",
    "\n",
    "    for it, tn  in enumerate(t[:-1]):\n",
    "        yn = y[:,it]\n",
    "        k1 = fcn(tn, yn)\n",
    "        k2 = fcn(tn + 0.5*dt, yn + dt*(0.5*k1))\n",
    "        k3 = fcn(tn + 0.5*dt, yn + dt*(0.5*k2))\n",
    "        k4 = fcn(tn + dt, yn + dt*k3)\n",
    "        y[:,it+1] = yn + (dt/6)*(k1+2*k2+2*k3+k4)\n",
    "\n",
    "    nfev = 4*(nt-1)\n",
    "\n",
    "    return ode_result(y, t, nfev)"
   ]
  },
  {
   "cell_type": "code",
   "execution_count": null,
   "id": "36237783",
   "metadata": {},
   "outputs": [],
   "source": [
    "yini = (1.5 , 3)\n",
    "tini = 0.\n",
    "tend = 20.\n",
    "a = 1.\n",
    "b = 4.\n",
    "\n",
    "nt_max = 2000\n",
    "nt = np.hstack((np.array([130, 131, 132, 133, 134]), np.geomspace(135, nt_max, num=10, dtype=int)))\n",
    "\n",
    "sol_and_error_bruss(yini, tini, tend, a, b, nt, rk4)"
   ]
  },
  {
   "cell_type": "markdown",
   "id": "159ed1a0",
   "metadata": {},
   "source": [
    "### Coût et précision"
   ]
  },
  {
   "cell_type": "code",
   "execution_count": null,
   "id": "4ac51b5a",
   "metadata": {},
   "outputs": [],
   "source": [
    "tini = 0.\n",
    "tend = 40.\n",
    "\n",
    "yini = (1.5 , 3)\n",
    "\n",
    "bm = brusselator_model(a=1, b=4)\n",
    "fcn = bm.fcn  \n",
    "\n",
    "nt = np.array([1001, 2001, 5001, 10001, 25001, 50001, 100001, 200001])\n",
    "\n",
    "fe_rk1=[]; norm_rk1=[]\n",
    "fe_rk2=[]; norm_rk2=[]\n",
    "fe_rk3=[]; norm_rk3=[]\n",
    "fe_rk4=[]; norm_rk4=[]\n",
    "\n",
    "for nt_i in nt:\n",
    "\n",
    "    t = np.linspace(tini,tend,nt_i)\n",
    "    \n",
    "    rtol=1e-14; atol=1e-14\n",
    "    sol_exa = solve_ivp(fcn, (tini, tend), yini, method=\"DOP853\", rtol=rtol, atol=atol, t_eval=t)\n",
    "\n",
    "    sol_rk1 = rk1(tini, tend, nt_i, yini, fcn)\n",
    "    fe_rk1.append(sol_rk1.nfev)\n",
    "    norm_rk1.append(np.linalg.norm(sol_exa.y-sol_rk1.y) / np.sqrt(nt_i))\n",
    "\n",
    "    sol_rk2 = rk2(tini, tend, nt_i, yini, fcn)\n",
    "    fe_rk2.append(sol_rk2.nfev)\n",
    "    norm_rk2.append(np.linalg.norm(sol_exa.y-sol_rk2.y) / np.sqrt(nt_i))\n",
    "    \n",
    "    sol_rk3 = rk3(tini, tend, nt_i, yini, fcn)\n",
    "    fe_rk3.append(sol_rk3.nfev)\n",
    "    norm_rk3.append(np.linalg.norm(sol_exa.y-sol_rk3.y) / np.sqrt(nt_i))\n",
    "    \n",
    "    sol_rk4 = rk4(tini, tend, nt_i, yini, fcn)\n",
    "    fe_rk4.append(sol_rk4.nfev)\n",
    "    norm_rk4.append(np.linalg.norm(sol_exa.y-sol_rk4.y) / np.sqrt(nt_i))\n",
    "\n",
    "dt = (tend-tini)/(nt-1)    \n",
    "    \n",
    "fig = go.Figure()\n",
    "fig.add_trace(go.Scatter(x=fe_rk1, y=norm_rk1, name='rk1', marker_symbol='x'))\n",
    "fig.add_trace(go.Scatter(x=fe_rk2, y=norm_rk2, name='rk2', marker_symbol='x'))\n",
    "fig.add_trace(go.Scatter(x=fe_rk3, y=norm_rk3, name='rk3', marker_symbol='x'))\n",
    "fig.add_trace(go.Scatter(x=fe_rk4, y=norm_rk4, name='rk4', marker_symbol='x'))\n",
    "fig.update_xaxes(type='log', exponentformat='e', title=\"Nombre d'évaluations de fonction\")\n",
    "fig.update_yaxes(type='log', exponentformat='e', title=\"Norme l2 de l'erreur\")\n",
    "fig.update_layout(height=500, legend=dict(x=0.9, bgcolor='rgba(0,0,0,0)'))"
   ]
  }
 ],
 "metadata": {
  "@webio": {
   "lastCommId": null,
   "lastKernelId": null
  },
  "kernelspec": {
   "display_name": "Python 3 (ipykernel)",
   "language": "python",
   "name": "python3"
  },
  "language_info": {
   "codemirror_mode": {
    "name": "ipython",
    "version": 3
   },
   "file_extension": ".py",
   "mimetype": "text/x-python",
   "name": "python",
   "nbconvert_exporter": "python",
   "pygments_lexer": "ipython3",
   "version": "3.10.4"
  }
 },
 "nbformat": 4,
 "nbformat_minor": 5
}
