{
 "cells": [
  {
   "cell_type": "code",
   "execution_count": null,
   "id": "8bd1e286-3b51-412c-9512-98199340dc18",
   "metadata": {},
   "outputs": [],
   "source": [
    "#\n",
    "#    Notebook de cours MAP412 - Chapitre 6 - M. Massot 2022-2023 - Ecole polytechnique\n",
    "#    ----------   \n",
    "#    Challenge : Arithmétique d'intervalles\n",
    "#    \n",
    "#    Auteurs : L. Séries et M. Massot - (C) 2022\n",
    "#   "
   ]
  },
  {
   "cell_type": "markdown",
   "id": "0a6fdd71-1b4f-4ea5-849b-0cb5a5ab40fd",
   "metadata": {},
   "source": [
    "# Challenge : Arithmétique d'intervalles"
   ]
  },
  {
   "cell_type": "code",
   "execution_count": null,
   "id": "9c724c96-ef1d-48fa-b4a4-ece1722b3f63",
   "metadata": {},
   "outputs": [],
   "source": [
    "import numpy as np\n",
    "from mpmath import iv\n",
    "import plotly.graph_objects as go\n",
    "import plotly.io as pio\n",
    "pio.templates.default = \"seaborn\""
   ]
  },
  {
   "cell_type": "markdown",
   "id": "32799fd6-130e-4c43-814a-9a31cd4e48c1",
   "metadata": {},
   "source": [
    "## Méthode de Newton¶ "
   ]
  },
  {
   "cell_type": "code",
   "execution_count": null,
   "id": "884e74b3-4d8a-4f77-941a-8f490c401949",
   "metadata": {},
   "outputs": [],
   "source": [
    "def newton(f, df, x0, tol=1e-14, nitmax=30):\n",
    "\n",
    "    # initialisation\n",
    "    x = np.zeros(nitmax+1)\n",
    "    x[0] = x0\n",
    "\n",
    "    # iteration de Newton\n",
    "    for i in range(1, nitmax+1):\n",
    "        x[i] = x[i-1] - f(x[i-1])/df(x[i-1])\n",
    "        print(f\"it = {i:3d}, xn = {x[i]:16.9e}, |f(xn)| = {abs(f(x[i])):14.8e}, |xn - xn-1| = {abs(x[i-1]-x[i]):14.8e}\" )\n",
    "        if ( abs(f(x[i])) < tol ): break\n",
    " \n",
    "    return x[0:i+1]"
   ]
  },
  {
   "cell_type": "markdown",
   "id": "9905b3aa-d4ea-4a1b-8680-8659ff1bbd45",
   "metadata": {},
   "source": [
    "On considère la fonction :\n",
    "\n",
    "$$\n",
    "f(x) = x^2 + 10^{-15}\n",
    "$$\n",
    "\n",
    "Cette fonction est strictement positive."
   ]
  },
  {
   "cell_type": "code",
   "execution_count": null,
   "id": "e9b92d4a-509f-4c01-99ab-31033e5d8c24",
   "metadata": {},
   "outputs": [],
   "source": [
    "def f(x):\n",
    "    return x**2 + 1.e-15\n",
    "\n",
    "def df(x):\n",
    "    return 2*x "
   ]
  },
  {
   "cell_type": "code",
   "execution_count": null,
   "id": "01b6b0db-3346-46c8-a205-d4f3e34b0ffd",
   "metadata": {},
   "outputs": [],
   "source": [
    "xmin=-0.5; xmax=0.5\n",
    "x = np.linspace(xmin, xmax, 1000)   \n",
    "fig = go.Figure()\n",
    "fig.add_trace(go.Scatter(x=x, y=f(x), name='f(x)', showlegend=True))\n",
    "fig.add_shape(type=\"line\", x0=xmin, y0=0, x1=xmax, y1=0)\n",
    "fig.show()"
   ]
  },
  {
   "cell_type": "code",
   "execution_count": null,
   "id": "aa145612-b324-42ee-9f35-5a1ae1970ebd",
   "metadata": {},
   "outputs": [],
   "source": [
    "xsol = newton(f, df, x0=1, tol=1.e-10, nitmax=100)"
   ]
  },
  {
   "cell_type": "markdown",
   "id": "c4ee0a45-dc76-407e-9e44-15c2e4b2e1cb",
   "metadata": {},
   "source": [
    "**Il est instructif d'essayer plusieurs tolérances :** \n",
    "\n",
    "* $\\epsilon = 1.e-10$ --> solution : 7.62935084e-06 (17 itérations)\n",
    "* $\\epsilon = 1.e-11$ --> solution : 1.90717387e-06 (19 itérations)\n",
    "* $\\epsilon = 1.e-12$ --> solution : 9.53324765e-07 (20 itérations)\n",
    "* $\\epsilon = 1.e-13$ --> solution : 2.37018835e-07 (22 itérations)\n",
    "* $\\epsilon = 1.e-14$ --> solution : 5.39044033e-08 (24 itérations)\n",
    "* $\\epsilon = 1.e-15$ --> non convergence après 100 itérations"
   ]
  },
  {
   "cell_type": "markdown",
   "id": "9bbebfff-75a1-4053-ab75-788641907663",
   "metadata": {},
   "source": [
    "## Arithmétique d’intervalle¶\n",
    "\n",
    "Alors que l’algorithme de Newton en double précision peut ici rencontrer quelques soucis, une simple application de l’arithmétique d’intervalle permet de conclure sur le fait qu’il y a, ou non, existence de solution. On pourra consulter l’article de Taschini (2008) proposé en bibliographie complémentaire pour un algorithme de résolution d’équation non-linéaire par une méthode de Newton utilisant l’arithmétique d’intervalle ou le livre de Warwick Tucker, *Validated numerics, A short introduction to rigorous computations*, Princeton University Press, 2011."
   ]
  },
  {
   "cell_type": "code",
   "execution_count": null,
   "id": "74a43939-2532-4fb4-b913-a83c8f640fc1",
   "metadata": {},
   "outputs": [],
   "source": [
    "X = iv.mpf([xmin,xmax])\n",
    "print(f(X))"
   ]
  },
  {
   "cell_type": "markdown",
   "id": "ffa5ea5f-86a1-4d28-96f6-56c49091635d",
   "metadata": {},
   "source": [
    "**Challenge :** proposer un algorithme utilisant l'arithmétique d'intervalle pour trouver la solution d’équation non-linéaire et appliquer la fonction $f(x)$."
   ]
  }
 ],
 "metadata": {
  "kernelspec": {
   "display_name": "Python 3 (ipykernel)",
   "language": "python",
   "name": "python3"
  },
  "language_info": {
   "codemirror_mode": {
    "name": "ipython",
    "version": 3
   },
   "file_extension": ".py",
   "mimetype": "text/x-python",
   "name": "python",
   "nbconvert_exporter": "python",
   "pygments_lexer": "ipython3",
   "version": "3.10.12"
  }
 },
 "nbformat": 4,
 "nbformat_minor": 5
}
