{
 "cells": [
  {
   "cell_type": "code",
   "execution_count": null,
   "id": "8bd1e286-3b51-412c-9512-98199340dc18",
   "metadata": {},
   "outputs": [],
   "source": [
    "#\n",
    "#    Notebook de cours MAP412 - Chapitre 6 - M. Massot 2022-2023 - Ecole polytechnique\n",
    "#    ----------   \n",
    "#    Exemples de résolution d'équation non linéaire\n",
    "#    \n",
    "#    Auteurs : L. Séries et M. Massot - (C) 2022\n",
    "#   "
   ]
  },
  {
   "cell_type": "markdown",
   "id": "0a6fdd71-1b4f-4ea5-849b-0cb5a5ab40fd",
   "metadata": {},
   "source": [
    "# Exemples de résolution d'équation non linéaire"
   ]
  },
  {
   "cell_type": "code",
   "execution_count": null,
   "id": "9c724c96-ef1d-48fa-b4a4-ece1722b3f63",
   "metadata": {},
   "outputs": [],
   "source": [
    "import numpy as np\n",
    "import plotly.graph_objects as go\n",
    "import plotly.io as pio\n",
    "pio.templates.default = \"seaborn\"\n",
    "\n",
    "def newton(f, df, x0, tol=1e-12, nitmax=30):\n",
    "\n",
    "    # initialisation\n",
    "    x = np.zeros(nitmax+1)\n",
    "    x[0] = x0\n",
    "\n",
    "    # iteration de Newton\n",
    "    for i in range(1, nitmax+1):\n",
    "        x[i] = x[i-1] - f(x[i-1])/df(x[i-1])\n",
    "        print(f\"it = {i:3d}, xn = {x[i]:18.10e}, |f(xn)| = {abs(f(x[i])):14.8e}, |xn - xn-1| = {abs(x[i-1]-x[i]):14.8e}\" )\n",
    "        if ( abs(f(x[i])) < tol ): break\n",
    " \n",
    "    return x[0:i+1]"
   ]
  },
  {
   "cell_type": "markdown",
   "id": "16e49fff-82f6-49ff-a5af-319255950684",
   "metadata": {},
   "source": [
    "## Méthode de Newton dans un cas bien conditionné¶ "
   ]
  },
  {
   "cell_type": "markdown",
   "id": "b34485ce-975d-4529-8de6-361db759fcf2",
   "metadata": {},
   "source": [
    "On propose de tester la méthode Newton sur la fonction :\n",
    "\n",
    "$$ f(x) = x^3 - 2x -5 $$"
   ]
  },
  {
   "cell_type": "code",
   "execution_count": null,
   "id": "44b02956-aff9-45a2-bf74-6f00c6a2c6c9",
   "metadata": {},
   "outputs": [],
   "source": [
    "def f(x):\n",
    "    return x**3 - 2*x - 5\n",
    "\n",
    "def df(x):\n",
    "    return 3*x**2 - 2"
   ]
  },
  {
   "cell_type": "code",
   "execution_count": null,
   "id": "9a805355-5348-4f64-a39d-a15af16dee1f",
   "metadata": {},
   "outputs": [],
   "source": [
    "xmin=-2; xmax=3\n",
    "x = np.linspace(xmin, xmax, 1000)   \n",
    "fig = go.Figure()\n",
    "fig.add_trace(go.Scatter(x=x, y=f(x), name='f(x)', showlegend=True))\n",
    "fig.show()"
   ]
  },
  {
   "cell_type": "code",
   "execution_count": null,
   "id": "b033b83b-8d2f-481d-bb8c-047b060922ba",
   "metadata": {},
   "outputs": [],
   "source": [
    "xsol = newton(f, df, x0=0.5, tol=1e-12)"
   ]
  },
  {
   "cell_type": "markdown",
   "id": "32799fd6-130e-4c43-814a-9a31cd4e48c1",
   "metadata": {},
   "source": [
    "## Méthode de Newton dans un cas pathologique¶ "
   ]
  },
  {
   "cell_type": "markdown",
   "id": "5621adc9-bb08-4e12-8dd2-15a112985297",
   "metadata": {},
   "source": [
    "On considère les fonctions :\n",
    "\n",
    "$$\n",
    "g_1(x) = x^2, \\qquad g_2(x) = x^2 + 10^{-15}\n",
    "$$\n",
    "\n",
    "Ces fonction sont respectivement positive et strictement positive."
   ]
  },
  {
   "cell_type": "code",
   "execution_count": null,
   "id": "e9b92d4a-509f-4c01-99ab-31033e5d8c24",
   "metadata": {},
   "outputs": [],
   "source": [
    "def g1(x):\n",
    "    return x**2 \n",
    "\n",
    "def dg1(x):\n",
    "    return 2*x "
   ]
  },
  {
   "cell_type": "code",
   "execution_count": null,
   "id": "105d38a4-f22a-430c-89fa-074f6fcee260",
   "metadata": {},
   "outputs": [],
   "source": [
    "xmin=-1; xmax=1\n",
    "x = np.linspace(xmin, xmax, 1000)   \n",
    "fig = go.Figure()\n",
    "fig.add_trace(go.Scatter(x=x, y=g1(x), name='g1(x)', showlegend=True))\n",
    "fig.show()"
   ]
  },
  {
   "cell_type": "code",
   "execution_count": null,
   "id": "aa145612-b324-42ee-9f35-5a1ae1970ebd",
   "metadata": {},
   "outputs": [],
   "source": [
    "xsol = newton(g1, dg1, x0=1, tol=1.e-12, nitmax=100)"
   ]
  },
  {
   "cell_type": "code",
   "execution_count": null,
   "id": "c2d40392-0d5a-44ec-8c25-df6d6f902146",
   "metadata": {},
   "outputs": [],
   "source": [
    "def g2(x):\n",
    "    return x**2 + 1e-15\n",
    "\n",
    "def dg2(x):\n",
    "    return 2*x "
   ]
  },
  {
   "cell_type": "code",
   "execution_count": null,
   "id": "bf30f097-1a7b-4cae-bc2c-39798eb7fe42",
   "metadata": {},
   "outputs": [],
   "source": [
    "xmin=-1; xmax=1\n",
    "x = np.linspace(xmin, xmax, 1000)   \n",
    "fig = go.Figure()\n",
    "fig.add_trace(go.Scatter(x=x, y=g2(x), name='g2(x)', showlegend=True))\n",
    "fig.show()"
   ]
  },
  {
   "cell_type": "code",
   "execution_count": null,
   "id": "926611be-d977-4ade-8753-1341641480f8",
   "metadata": {},
   "outputs": [],
   "source": [
    "xsol = newton(g2, dg2, x0=1, tol=1.e-12, nitmax=100)"
   ]
  },
  {
   "cell_type": "markdown",
   "id": "a533d5ff-b2ea-441b-a14f-680c1e7fa036",
   "metadata": {},
   "source": [
    "**Il est instructif d'essayer plusieurs tolérances :** \n",
    "\n",
    "* $\\epsilon = 1.e-10$ --> solution : 7.62935084e-06 (17 itérations)\n",
    "* $\\epsilon = 1.e-11$ --> solution : 1.90717387e-06 (19 itérations)\n",
    "* $\\epsilon = 1.e-12$ --> solution : 9.53324765e-07 (20 itérations)\n",
    "* $\\epsilon = 1.e-13$ --> solution : 2.37018835e-07 (22 itérations)\n",
    "* $\\epsilon = 1.e-14$ --> solution : 5.39044033e-08 (24 itérations)\n",
    "* $\\epsilon = 1.e-15$ --> non convergence après 100 itérations"
   ]
  },
  {
   "cell_type": "markdown",
   "id": "7e722aed-d83c-48d3-a184-275ff5e7eff5",
   "metadata": {},
   "source": [
    "## Choix de l'itéré initial"
   ]
  },
  {
   "cell_type": "markdown",
   "id": "8c93c4bd-5089-4b16-aa27-aef9944fcd82",
   "metadata": {},
   "source": [
    "On propose de tester la méthode Newton sur la fonction :\n",
    "\n",
    "$$ h(x) = \\arctan(x) $$"
   ]
  },
  {
   "cell_type": "code",
   "execution_count": null,
   "id": "2e8b42e2-6b4c-4bf1-9cf5-583973722c90",
   "metadata": {},
   "outputs": [],
   "source": [
    "def h(x):\n",
    "    return np.arctan(x)\n",
    "\n",
    "def dh(x):\n",
    "    return 1/(1+x*x)"
   ]
  },
  {
   "cell_type": "code",
   "execution_count": null,
   "id": "159c1a01-472e-4989-8e6e-11486ecbc442",
   "metadata": {},
   "outputs": [],
   "source": [
    "xmin=-3; xmax=3\n",
    "x = np.linspace(xmin, xmax, 1000)   \n",
    "fig = go.Figure()\n",
    "fig.add_trace(go.Scatter(x=x, y=h(x), name='h(x)', showlegend=True))\n",
    "fig.show()"
   ]
  },
  {
   "cell_type": "markdown",
   "id": "0ed45ead-be88-4faa-b87d-c8758508918c",
   "metadata": {},
   "source": [
    "### Cas $x_0 = 1$"
   ]
  },
  {
   "cell_type": "code",
   "execution_count": null,
   "id": "6ac447a4-6bb4-4997-bddf-b502e679109e",
   "metadata": {},
   "outputs": [],
   "source": [
    "xsol = newton(h, dh, x0=1., tol=1.e-10, nitmax=100)"
   ]
  },
  {
   "cell_type": "markdown",
   "id": "ddc76c7c-a45e-4afd-b7f6-0b0314959738",
   "metadata": {},
   "source": [
    "### Cas $x_0 = 2$"
   ]
  },
  {
   "cell_type": "code",
   "execution_count": null,
   "id": "8b2634fc-29cf-4432-bda3-59952e588bf1",
   "metadata": {},
   "outputs": [],
   "source": [
    "xsol = newton(h, dh, x0=2., tol=1.e-10, nitmax=100)"
   ]
  }
 ],
 "metadata": {
  "kernelspec": {
   "display_name": "Python 3 (ipykernel)",
   "language": "python",
   "name": "python3"
  },
  "language_info": {
   "codemirror_mode": {
    "name": "ipython",
    "version": 3
   },
   "file_extension": ".py",
   "mimetype": "text/x-python",
   "name": "python",
   "nbconvert_exporter": "python",
   "pygments_lexer": "ipython3",
   "version": "3.10.4"
  }
 },
 "nbformat": 4,
 "nbformat_minor": 5
}
